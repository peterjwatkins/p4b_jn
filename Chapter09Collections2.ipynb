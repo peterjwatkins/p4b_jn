{
 "cells": [
  {
   "cell_type": "markdown",
   "metadata": {},
   "source": [
    "# Chapter 9. Collections II: Sequence processing"
   ]
  },
  {
   "cell_type": "markdown",
   "metadata": {},
   "source": [
    "I think this is the hardest chapter. Good luck!\n",
    "\n",
    "I only introduce one new concept, the first class function, and that isn't even that hard (I promise!), but this is the point where all the concepts start to coalesce and you can really start writing interesting programs.\n",
    "\n",
    "(The next chapters add new bites to your knowledge, but it would be murderous to have the next chapters be this comprehensive)\n",
    "\n",
    "We talked about recursion. Now we need to talk about the other face of functional programming: first-class functions. This is best taught with an example."
   ]
  },
  {
   "cell_type": "code",
   "execution_count": 8,
   "metadata": {},
   "outputs": [],
   "source": [
    "def sumNos(a,b):\n",
    "    return a+b\n",
    "\n",
    "def subNos(a,b):\n",
    "    return a-b\n",
    "\n",
    "def opNos(a,b,operand):\n",
    "    return operand(a,b)\n",
    "\n",
    "def testFunctional():\n",
    "    print(\"{0:d} + {1:d} = {2:d}\".format(3, 4, opNos(3, 4, sumNos)))\n",
    "    print(\"{0:d} + {1:d} = {2:d}\".format(3, 4, opNos(3, 4, subNos)))\n",
    "    return"
   ]
  },
  {
   "cell_type": "markdown",
   "metadata": {},
   "source": [
    "See what I'm doing? I'm passing the name of a function as an argument\n",
    "to another function!\n",
    "\n",
    "It's crazy!\n",
    "\n",
    "This is a utility function I'll use here and there."
   ]
  },
  {
   "cell_type": "code",
   "execution_count": 9,
   "metadata": {},
   "outputs": [],
   "source": [
    "def isEven(num):\n",
    "    return num % 2 == 0"
   ]
  },
  {
   "cell_type": "markdown",
   "metadata": {},
   "source": [
    "Here's a function that takes a tuple and removes elements where *condition*(element) is *false*"
   ]
  },
  {
   "cell_type": "code",
   "execution_count": 10,
   "metadata": {},
   "outputs": [],
   "source": [
    "def filterTuple(things, condition):\n",
    "    if (len(things) <= 0): #base case\n",
    "        return ()\n",
    "    else: # I know the tuple is at least one thing long.\n",
    "        if (condition(things [0])):\n",
    "            return things[0:1] + filterTuple(things[1:], condition) #What's up\n",
    "        else:   #with that things[0:1] slice? How is it different than \n",
    "            return filterTuple(things[1:], condition)   #things[0]?b"
   ]
  },
  {
   "cell_type": "code",
   "execution_count": 11,
   "metadata": {},
   "outputs": [
    {
     "data": {
      "text/plain": [
       "(2, 4, 6, 8)"
      ]
     },
     "execution_count": 11,
     "metadata": {},
     "output_type": "execute_result"
    }
   ],
   "source": [
    "#try\n",
    "filterTuple((1,2,3,4,5,6,7,8,9),isEven)\n"
   ]
  },
  {
   "cell_type": "markdown",
   "metadata": {},
   "source": [
    "You didn't just skip *filterTuple*, did you?\n",
    "Make sure you understand it.\n",
    "\n",
    "Work it out, line by line. Stare at it, run it with different arguments,\n",
    "it can be helpful to insert some print statements inside the function, like"
   ]
  },
  {
   "cell_type": "code",
   "execution_count": 12,
   "metadata": {},
   "outputs": [],
   "source": [
    "#    if(condition(things[0]):\n",
    "#       print(\"condition(things[0]) was true, things = {0:s}\".format(things))"
   ]
  },
  {
   "cell_type": "markdown",
   "metadata": {},
   "source": [
    "This will help you see what is happening inside the function as it runs. \n",
    "\n",
    "Here is a similar function, this time for a list instead of a tuple, and using iteration rather than recursion."
   ]
  },
  {
   "cell_type": "code",
   "execution_count": 13,
   "metadata": {},
   "outputs": [],
   "source": [
    "def filterList(things, condition):\n",
    "    retList = []\n",
    "    for thing in things:\n",
    "        if condition(thing):\n",
    "            retList.append(thing)\n",
    "    return retList"
   ]
  },
  {
   "cell_type": "markdown",
   "metadata": {},
   "source": [
    "*Filtering* is just one of a set of standard list-processing operations.\n",
    "\n",
    "The others are *mapping*, *folding*, and *zipping*.\n",
    "\n",
    "*Folding* is useful in certain languages, but python's *for* loop syntax is\n",
    "well-designed, so it's rarely clearer than just using an explicit *for* loop.\n",
    "\n",
    "I'll spare you the gory details of *folding*. (It's like a *for* loop where you have an accumulator variable, like you did in *largestRand* in Chapter 07)\n",
    "\n",
    "*Mapping* takes a list and applies some operation to each element of the list.\n",
    "\n",
    "For example, to square the even numbers in a list:"
   ]
  },
  {
   "cell_type": "code",
   "execution_count": 14,
   "metadata": {},
   "outputs": [],
   "source": [
    "def squareEven(n):\n",
    "    return n**2 if n % 2 == 0 else n"
   ]
  },
  {
   "cell_type": "code",
   "execution_count": 16,
   "metadata": {},
   "outputs": [
    {
     "data": {
      "text/plain": [
       "<map at 0x274a62a8080>"
      ]
     },
     "execution_count": 16,
     "metadata": {},
     "output_type": "execute_result"
    }
   ],
   "source": [
    "#try:\n",
    "map(squareEven, [1,2,3,4,5,6])"
   ]
  },
  {
   "cell_type": "markdown",
   "metadata": {},
   "source": [
    "Uh-oh.\n",
    "\n",
    "So it doesn't actually return the list with the mapped values. This\n",
    "deserves some explanation: *map* is a \"lazy\" operation. That is, it doesn't\n",
    "actually do anything until it absolutely needs to. We can force it to evaluate\n",
    "immediatele by calling *list*() on it:\n"
   ]
  },
  {
   "cell_type": "code",
   "execution_count": 18,
   "metadata": {},
   "outputs": [
    {
     "data": {
      "text/plain": [
       "[1, 4, 3, 16, 5, 36]"
      ]
     },
     "execution_count": 18,
     "metadata": {},
     "output_type": "execute_result"
    }
   ],
   "source": [
    "list(map(squareEven, [1,2,3,4,5,6]))"
   ]
  },
  {
   "cell_type": "markdown",
   "metadata": {},
   "source": [
    "There are good reasons to not evaluate a *map* object completely, but for our\n",
    " purposes we'll usually listify it immediately.\n",
    " \n",
    "Here's a function that traverses a tuple and displays every element, with a\n",
    " twist:\n",
    " \n",
    "If one of the elements is a tuple itself, this function traverses that tuple and prints its contents, too.\n"
   ]
  },
  {
   "cell_type": "code",
   "execution_count": 23,
   "metadata": {},
   "outputs": [],
   "source": [
    "def printElems(things):\n",
    "    if (len(things)>0):\n",
    "        if isinstance(things[0], tuple):\n",
    "            printElems(things[0])\n",
    "        else:\n",
    "            print(things[0])\n",
    "    if(len(things) > 1):\n",
    "        printElems(things[1:])"
   ]
  },
  {
   "cell_type": "markdown",
   "metadata": {},
   "source": [
    "####   *Exercises*"
   ]
  },
  {
   "cell_type": "markdown",
   "metadata": {},
   "source": [
    "1 - Give an example where this function would crash but *printElems* would work correctly."
   ]
  },
  {
   "cell_type": "code",
   "execution_count": 24,
   "metadata": {},
   "outputs": [],
   "source": [
    "def printElemBad(things):\n",
    "    if isinstance(things[0], tuple):\n",
    "        printElemBad(things[0])\n",
    "    else:\n",
    "        print(things[0])\n",
    "    if(len(things) > 1):\n",
    "        printElemBad(things[1:])"
   ]
  },
  {
   "cell_type": "markdown",
   "metadata": {},
   "source": [
    "2 - Some doofus wrote the following buggy function. Fix it. *Bonus*: Fix it by adding only one character. "
   ]
  },
  {
   "cell_type": "code",
   "execution_count": 25,
   "metadata": {},
   "outputs": [],
   "source": [
    "def reverseSequence(seq):\n",
    "    if(len(seq) <= 1):\n",
    "        return seq\n",
    "    else:\n",
    "        return seq[-1] + reverseSequence(seq[0:-1])"
   ]
  },
  {
   "cell_type": "markdown",
   "metadata": {},
   "source": [
    "3 - Given a string of bases (A, G, T, and C), produce a list of the three-letter codons that sequence gives you. If there are 1 or 2 letters at the end of the sequence, ignore them."
   ]
  },
  {
   "cell_type": "code",
   "execution_count": 26,
   "metadata": {},
   "outputs": [],
   "source": [
    "#mkCodons(\"AGATTAGCCATCGGACTTGATGC\") ->\n",
    "#  [\"AGA\", \"TTA\", \"GCC\", \"ATC\", \"GGA\", \"CTT\", \"GAT\"]\n",
    "def mkCodons(dna):\n",
    "    pass"
   ]
  },
  {
   "cell_type": "markdown",
   "metadata": {},
   "source": [
    "4 - Write a function that sums all of the elements in a list, including cases where one of the elements is another list."
   ]
  },
  {
   "cell_type": "code",
   "execution_count": 27,
   "metadata": {},
   "outputs": [],
   "source": [
    "#sumDeep([1, 2, [3, 4], 3]) -> 13\n",
    "def sumDeep(lst):\n",
    "    pass"
   ]
  },
  {
   "cell_type": "markdown",
   "metadata": {},
   "source": [
    "\n",
    "5 - Write a function that takes a list and returns a new list with no duplicates in it. (The original list should be left unchanged.)\n",
    "\n",
    "You may find it helpful to decompose this problem into several functions."
   ]
  },
  {
   "cell_type": "code",
   "execution_count": 28,
   "metadata": {},
   "outputs": [],
   "source": [
    "def stripDups(lst):\n",
    "    pass"
   ]
  },
  {
   "cell_type": "markdown",
   "metadata": {},
   "source": [
    "6 - A log file has the format:"
   ]
  },
  {
   "cell_type": "code",
   "execution_count": 29,
   "metadata": {},
   "outputs": [],
   "source": [
    "#timestamp:data:note"
   ]
  },
  {
   "cell_type": "markdown",
   "metadata": {},
   "source": [
    "Write a function that could be used with map to extract the data."
   ]
  },
  {
   "cell_type": "code",
   "execution_count": 30,
   "metadata": {},
   "outputs": [],
   "source": [
    "#list(map(getData, (\"2012-1-5:124.51:Jen's plant dead\",\n",
    "#                   \"2012-1-6:135.4:no note\",\n",
    "#                   \"2012-1-17:156.425:Cream cheese stolen\")))\n",
    "#-> (124.51, 135.4, 156.425)"
   ]
  },
  {
   "cell_type": "markdown",
   "metadata": {},
   "source": [
    "Note: The resulting tuple should contain *numbers*, not strings. You can use float() to convert a string to a number.\n",
    "\n",
    "You may assume that there will be no stray colons in the note, so don't worry\n",
    "about \"*2012-1-8:105.64:Dan Fox: Please quit eating my food*\"\n",
    "\n",
    "If you're not sure how to do this, consider Googling it. Somebody has solved a similar problem before you..."
   ]
  },
  {
   "cell_type": "code",
   "execution_count": 31,
   "metadata": {},
   "outputs": [],
   "source": [
    "def getData(line):\n",
    "    pass"
   ]
  },
  {
   "cell_type": "markdown",
   "metadata": {},
   "source": [
    "7 - Write a function that takes a tuple of strings of dna, and returns the table of Hamming distances, as discussed earlier. As a reminder, the *Hamming distance* is the number of letters that two strings differ by.\n",
    "\n",
    "To return a table, return a list of lists, each inner list corresponding to one row (or one column, it doesn't matter since the table is symmetric along the diagonal.)"
   ]
  },
  {
   "cell_type": "code",
   "execution_count": 22,
   "metadata": {},
   "outputs": [],
   "source": [
    "def hammingDistances(sequences):\n",
    "    pass\n",
    "\n",
    "def testHammingDistances():\n",
    "    seq1 = \"AGAGGTGCAGTC\"\n",
    "    seq2 = \"AGACATGCATGA\"    \n",
    "    seq3 = \"GGACATGCATGA\"\n",
    "    seq4 = \"AGACTTGCATAA\"\n",
    "    seq5 = \"AGACGTGCATAA\"\n",
    "    seq6 = \"AGACGTGCATTC\"\n",
    "    print(hammingDistances((seq1, seq2, seq3, seq4, seq5, seq6)))\n",
    "    #should return something like ((0, 3, 4), (3, 0, 2), (4, 2, 0))\n",
    "    #(of course, it will be 6x6, not 3x3)"
   ]
  },
  {
   "cell_type": "code",
   "execution_count": null,
   "metadata": {},
   "outputs": [],
   "source": []
  }
 ],
 "metadata": {
  "kernelspec": {
   "display_name": "Python 3",
   "language": "python",
   "name": "python3"
  },
  "language_info": {
   "codemirror_mode": {
    "name": "ipython",
    "version": 3
   },
   "file_extension": ".py",
   "mimetype": "text/x-python",
   "name": "python",
   "nbconvert_exporter": "python",
   "pygments_lexer": "ipython3",
   "version": "3.5.5"
  }
 },
 "nbformat": 4,
 "nbformat_minor": 2
}
