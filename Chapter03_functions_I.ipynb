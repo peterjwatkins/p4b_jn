{
 "cells": [
  {
   "cell_type": "markdown",
   "metadata": {},
   "source": [
    "### Chapter 03: Functions I: Arguments and returns. "
   ]
  },
  {
   "cell_type": "markdown",
   "metadata": {},
   "source": [
    "When we defined a function, we always had this strange () thing after the function name. That area is actually where we take user input.\n",
    "\n",
    "An example is worth a thousand words."
   ]
  },
  {
   "cell_type": "code",
   "execution_count": 1,
   "metadata": {},
   "outputs": [],
   "source": [
    "def printString(inpStr):\n",
    "    print(\"the string you entered was\",inpStr)"
   ]
  },
  {
   "cell_type": "markdown",
   "metadata": {},
   "source": [
    "We call this on the shell like we've been calling print.\n",
    "#printString(\"hello, world!\")"
   ]
  },
  {
   "cell_type": "code",
   "execution_count": 3,
   "metadata": {},
   "outputs": [
    {
     "name": "stdout",
     "output_type": "stream",
     "text": [
      "the string you entered was hello, world!\n"
     ]
    }
   ],
   "source": [
    "printString(\"hello, world!\")"
   ]
  },
  {
   "cell_type": "markdown",
   "metadata": {},
   "source": [
    "Let's write a function that takes two arguments and multiplies them, then prints the output. "
   ]
  },
  {
   "cell_type": "code",
   "execution_count": 4,
   "metadata": {},
   "outputs": [],
   "source": [
    "def multNums(a,b):\n",
    "    print(\"The numbers multiply to give \",a*b)"
   ]
  },
  {
   "cell_type": "code",
   "execution_count": 11,
   "metadata": {},
   "outputs": [
    {
     "name": "stdout",
     "output_type": "stream",
     "text": [
      "The numbers multiply to give  12\n"
     ]
    }
   ],
   "source": [
    "multNums(3,4)"
   ]
  },
  {
   "cell_type": "markdown",
   "metadata": {},
   "source": [
    "Functions can also return values. Here's a stupid function that\n",
    "always returns the number four. (This way, if the value of four should\n",
    "change, you only have to change one line of code.)"
   ]
  },
  {
   "cell_type": "code",
   "execution_count": 6,
   "metadata": {},
   "outputs": [],
   "source": [
    "def getFour():\n",
    "    return 2+2\n",
    "\n",
    "#We can use this any place we'd expect a number.\n",
    "def printFour():\n",
    "    print(getFour())"
   ]
  },
  {
   "cell_type": "markdown",
   "metadata": {},
   "source": [
    "This is key, so let me reiterate:\n",
    "\n",
    "**If a function returns a number, you can use it in any place where your code expects a number.**\n",
    "\n",
    "**If your function returns a date, you can use it anywhere you'd expect a date. *Etc., etc.*  ** "
   ]
  },
  {
   "cell_type": "code",
   "execution_count": 7,
   "metadata": {},
   "outputs": [],
   "source": [
    "#We can combine arguments and returns. Here's a multiplier that returns the product.\n",
    "def multiplier(a,b):\n",
    "    return a*b"
   ]
  },
  {
   "cell_type": "markdown",
   "metadata": {},
   "source": [
    "So functions fall in two categories:\n",
    "\n",
    "*A: void functions*\n",
    "\n",
    "void functions do not return a value. print, for example, isn't a value,so a statement like\n",
    "\n",
    "a = print(\"Hi!\")\n",
    "\n",
    "just doesn't make any sense.\n",
    "\n",
    "*B: non-void functions.*\n",
    "\n",
    "These functions return something. It could be a number, it could be a string, it could be (as we'll see later) a point on the screen.\n",
    "\n",
    "If a function returns a T, you can use it anywhere a T is expected.\n"
   ]
  },
  {
   "cell_type": "markdown",
   "metadata": {},
   "source": [
    "####   *Exercises*"
   ]
  },
  {
   "cell_type": "markdown",
   "metadata": {},
   "source": [
    "1 - Rewrite the temperature conversion program to get the initial temperature as an argument, then convert it from C to F. Print the result. "
   ]
  },
  {
   "cell_type": "code",
   "execution_count": 9,
   "metadata": {},
   "outputs": [],
   "source": [
    "def celsToFahr(celsTemp):\n",
    "    pass"
   ]
  },
  {
   "cell_type": "markdown",
   "metadata": {},
   "source": [
    "2 - Write a function that takes two arguments, a and b, and returns a*b-a-b."
   ]
  },
  {
   "cell_type": "code",
   "execution_count": 10,
   "metadata": {},
   "outputs": [],
   "source": [
    "def multSub(a,b):\n",
    "    pass"
   ]
  }
 ],
 "metadata": {
  "kernelspec": {
   "display_name": "Python 3",
   "language": "python",
   "name": "python3"
  },
  "language_info": {
   "codemirror_mode": {
    "name": "ipython",
    "version": 3
   },
   "file_extension": ".py",
   "mimetype": "text/x-python",
   "name": "python",
   "nbconvert_exporter": "python",
   "pygments_lexer": "ipython3",
   "version": "3.5.5"
  }
 },
 "nbformat": 4,
 "nbformat_minor": 2
}
