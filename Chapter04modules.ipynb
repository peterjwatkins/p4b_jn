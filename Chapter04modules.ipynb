{
 "cells": [
  {
   "cell_type": "markdown",
   "metadata": {},
   "source": [
    "# Chapter 4. Modules and Libraries."
   ]
  },
  {
   "cell_type": "markdown",
   "metadata": {},
   "source": [
    "I will first tell Python that I want the *randint* function, which is stored in the random module."
   ]
  },
  {
   "cell_type": "code",
   "execution_count": null,
   "metadata": {},
   "outputs": [],
   "source": [
    "from random import randint\n",
    "#Note that the import is NOT placed in a function. All functions in this file have access to randint."
   ]
  },
  {
   "cell_type": "code",
   "execution_count": null,
   "metadata": {},
   "outputs": [],
   "source": [
    "#randint is a function that produces a value. Like print, it is called with arguments.\n",
    "\n",
    "#randint is always called with two arguments.\n",
    "def useRand():\n",
    "    num = randint(1,6)\n",
    "    print(num)\n",
    "    #Anywhere I could use a literal number or a variable, I can use\n",
    "    #randint. since\n",
    "    print(7)\n",
    "    # is valid, then\n",
    "    print(randint(4,10))\n",
    "    #is valid, too.\n",
    "    #This is because randint returns a number when it is called. So as far as\n",
    "    #the print statement is concerned, randint(4,10) is a number."
   ]
  },
  {
   "cell_type": "markdown",
   "metadata": {},
   "source": [
    "Okay, so how do you define your own modules?"
   ]
  },
  {
   "cell_type": "code",
   "execution_count": null,
   "metadata": {},
   "outputs": [],
   "source": [
    "#Simple! Create a file in the same directory as your program, and create a file called # '__init__.py'"
   ]
  },
  {
   "cell_type": "markdown",
   "metadata": {},
   "source": [
    "(You'll notice there's already a file with that name in this directory.)"
   ]
  },
  {
   "cell_type": "code",
   "execution_count": null,
   "metadata": {},
   "outputs": [],
   "source": [
    "#In this new file (*yourFile.py*, not *__init__.py*, init should be empty), you can define functions that do useful things."
   ]
  },
  {
   "cell_type": "markdown",
   "metadata": {},
   "source": [
    "When you import a file, you just give its filename, and the name of the functions you want to import."
   ]
  },
  {
   "cell_type": "markdown",
   "metadata": {},
   "source": [
    "For example, later I'll import things from _zellegraphics.py_, so here's a sneak peek:"
   ]
  },
  {
   "cell_type": "code",
   "execution_count": null,
   "metadata": {},
   "outputs": [],
   "source": [
    "from zellegraphics import GraphWin"
   ]
  },
  {
   "cell_type": "markdown",
   "metadata": {},
   "source": [
    "Side note: To import everything in the file, use * in place of the function name:\n",
    "\n",
    "_from functools import *_\n",
    "\n",
    "This is usually bad practice, because with a lot of imports it can be difficult\n",
    "to determine where a particular function came from. By explicitly qualifying\n",
    "each thing you import, you reduce this problem.\n"
   ]
  },
  {
   "cell_type": "markdown",
   "metadata": {},
   "source": [
    "There's another syntax you'll see every now and then:\n",
    "\n",
    "_import math_\n",
    "\n",
    "This makes the functions in module math available, but you have to qualifythem by prepending the function name w ith the module name and a period:"
   ]
  },
  {
   "cell_type": "code",
   "execution_count": null,
   "metadata": {},
   "outputs": [],
   "source": [
    "def useMath():\n",
    "    a = 5\n",
    "    sqa = math.sqrt(a)\n",
    "    #Had I done \"from math import sqrt\" this would have been \"sqa = sqrt(a)\"\n",
    "    print(\"the square root of 5 is \", sqa)\n"
   ]
  },
  {
   "cell_type": "markdown",
   "metadata": {},
   "source": [
    "I prefer the _from x import y_ syntax, but use whatever you like."
   ]
  },
  {
   "cell_type": "markdown",
   "metadata": {},
   "source": [
    "####   *Exercises*"
   ]
  },
  {
   "cell_type": "markdown",
   "metadata": {},
   "source": [
    "1 - Import the correct code to make the function from CH03 Ex. 2 work here:"
   ]
  },
  {
   "cell_type": "code",
   "execution_count": null,
   "metadata": {},
   "outputs": [],
   "source": [
    "def useMultSub():\n",
    "    a = 32\n",
    "    b = 16\n",
    "    print(\"a*b-a-b = \", multSub(a,b))"
   ]
  }
 ],
 "metadata": {
  "kernelspec": {
   "display_name": "Python 3",
   "language": "python",
   "name": "python3"
  },
  "language_info": {
   "codemirror_mode": {
    "name": "ipython",
    "version": 3
   },
   "file_extension": ".py",
   "mimetype": "text/x-python",
   "name": "python",
   "nbconvert_exporter": "python",
   "pygments_lexer": "ipython3",
   "version": "3.5.5"
  }
 },
 "nbformat": 4,
 "nbformat_minor": 2
}
