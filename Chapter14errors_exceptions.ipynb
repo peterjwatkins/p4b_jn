{
 "cells": [
  {
   "cell_type": "markdown",
   "metadata": {},
   "source": [
    "# Chapter 14: Errors and exceptions"
   ]
  },
  {
   "cell_type": "markdown",
   "metadata": {},
   "source": [
    "Sometimes, things don't go according to plan. To indicate that something exceptional has happened, Python provides exceptions. \n",
    "\n",
    "We indicate that something bad has happened with the raise statement:"
   ]
  },
  {
   "cell_type": "code",
   "execution_count": null,
   "metadata": {},
   "outputs": [],
   "source": [
    "def raiseHell(doIt):\n",
    "    if doIt:\n",
    "        raise OverflowError(\"something bad!\")\n",
    "    else:\n",
    "        return 1/0"
   ]
  },
  {
   "cell_type": "markdown",
   "metadata": {},
   "source": [
    "Try running both *raiseHell*(True) and *raiseHell*(False).\n",
    "\n",
    "You can see that some of the text is different, but it's the same mechanism. \n",
    "\n",
    "Here are some names of exception types, use whatever seems appropriate.\n",
    "\n",
    "(There are also mechanisms to define your own, see online documentation.)"
   ]
  },
  {
   "cell_type": "code",
   "execution_count": null,
   "metadata": {},
   "outputs": [],
   "source": [
    "# Exception\n",
    "# |\n",
    "# |--ArithmeticError\n",
    "# |  |\n",
    "# |  |--OverflowError\n",
    "# |  |\n",
    "# |  |--ZeroDivisionError\n",
    "# |  |\n",
    "# |  |--FloatingPointError\n",
    "# |\n",
    "# |--LookupError\n",
    "# |  |\n",
    "# |  |--IndexError\n",
    "# |  |\n",
    "# |  |--KeyError\n",
    "# |\n",
    "# |--NameError\n",
    "# |\n",
    "# |--StopIteration\n",
    "# |\n",
    "# |--TypeError\n",
    "# |\n",
    "# |--ValueError\n",
    "# |"
   ]
  },
  {
   "cell_type": "markdown",
   "metadata": {},
   "source": [
    "Okay, now to discuss how to catch exceptions (Once I get through this, the shape of that graph will make a lot more sense.)\n",
    "\n",
    "You indicate that you think a block of code may throw an exception by putting it in a try block. \n",
    "\n",
    "If an exception is raised, you can stop it with the except keyword, followed by the type of exception you want to deal with. Then, put in the appropriate error recovery code. "
   ]
  },
  {
   "cell_type": "code",
   "execution_count": null,
   "metadata": {},
   "outputs": [],
   "source": [
    "def calmDown(doIt):\n",
    "    try:\n",
    "        raiseHell(doIt)\n",
    "    except (OverflowError):\n",
    "        print(\"Caught an exception, calming down.\")\n",
    "    return 0"
   ]
  },
  {
   "cell_type": "markdown",
   "metadata": {},
   "source": [
    "Run this twice: Once with *doIt* set to True, once as False.\n",
    "\n",
    "Notice that when *raiseHell* raises a *ZeroDivisionError*, the except block doesn't deal with it. It only looks for *OverflowError*, and 1/0 is not an *OverflowError*."
   ]
  },
  {
   "cell_type": "markdown",
   "metadata": {},
   "source": [
    "Exceptions propagate up a function call stack:"
   ]
  },
  {
   "cell_type": "code",
   "execution_count": null,
   "metadata": {},
   "outputs": [],
   "source": [
    "def exceptCallStack():\n",
    "    def a():\n",
    "        raise OverflowError(\"Exception raised in a\")\n",
    "    def b():\n",
    "        try:\n",
    "            a()\n",
    "        except(KeyError):\n",
    "            print(\"Caught a key error.\")\n",
    "    def c():\n",
    "        try:\n",
    "            b()\n",
    "        except(OverflowError):\n",
    "            print(\"Caught an OverflowError in c\")\n",
    "    def d():\n",
    "        try:\n",
    "            c()\n",
    "        except(OverflowError):\n",
    "            print(\"Caught an OverflowError in d\")\n",
    "\n",
    "    d()\n",
    "#Note that d does not catch an OverflowError - it has already been handled by c."
   ]
  },
  {
   "cell_type": "markdown",
   "metadata": {},
   "source": [
    "Okay, now that funky shape of the exception list. Exceptions have a heierarchy.\n",
    "\n",
    "All exception types (*OverflowError*, *KeyError*, etc.) are a subset of *Exception*.\n",
    "\n",
    "This means that if you"
   ]
  },
  {
   "cell_type": "code",
   "execution_count": 2,
   "metadata": {},
   "outputs": [],
   "source": [
    "#except (Exception):"
   ]
  },
  {
   "cell_type": "markdown",
   "metadata": {},
   "source": [
    "You will catch all exception types.\n",
    "\n",
    "If you catch *ArithmeticError*, you will catch *OverflowError* and *ZeroDivisionError*, but a *KeyError* will pass on up."
   ]
  },
  {
   "cell_type": "markdown",
   "metadata": {},
   "source": [
    "Okay, what happens if you get an exception and the code that caused it wasn't inside a try block?"
   ]
  },
  {
   "cell_type": "code",
   "execution_count": null,
   "metadata": {},
   "outputs": [],
   "source": [
    "def noTry():\n",
    "    def a():\n",
    "        print(\"entered A\")\n",
    "        raise OverflowError(\"A's exception\")\n",
    "        print(\"Finishing A.\")\n",
    "    def b():\n",
    "        print(\"Entering B.\")\n",
    "        a()\n",
    "        print(\"Finished B\")\n",
    "    def c():\n",
    "        print(\"entering C\")\n",
    "        try:\n",
    "            b()\n",
    "        except(OverflowError):\n",
    "            print(\"caught B's exception in C\")\n",
    "        print(\"leaving C\")\n",
    "    def d():\n",
    "        print(\"entering D.\")\n",
    "        c()\n",
    "        print(\"leaving D\")\n",
    "    d()\n"
   ]
  },
  {
   "cell_type": "markdown",
   "metadata": {},
   "source": [
    "So essentially, when there's an exception flying around, you go directly\n",
    "to jail, do not pass go, do not collect 200 dollars. You jump up the call\n",
    "stack and skip all the code you come across until you find an except block."
   ]
  },
  {
   "cell_type": "markdown",
   "metadata": {},
   "source": [
    "Okay, last thing about exceptions. This \"do not pass go\" behavior of\n",
    "exceptions can be very bad... (Don't run this function, as it refers to undefined code)"
   ]
  },
  {
   "cell_type": "code",
   "execution_count": null,
   "metadata": {},
   "outputs": [],
   "source": [
    "def stupidFile(fname): # DO NOT RUN **\n",
    "    f = open(fname, mode = 'r')\n",
    "    performRiskyOperation(f)\n",
    "    f.close()"
   ]
  },
  {
   "cell_type": "markdown",
   "metadata": {},
   "source": [
    "If everything goes according to plan, you open the file, do something, then close it back down. But if performRiskyOperation barfs, you skip the *f.close*() line, and this means other parts of your program may not be able to access the file, or something else horrible may happen.\n",
    "\n",
    "But, *stupidFile*() doesn't really know how to handle the exception that might be raised, so it would be unwise to just swallow it:"
   ]
  },
  {
   "cell_type": "code",
   "execution_count": null,
   "metadata": {},
   "outputs": [],
   "source": [
    "def silentFail(fname):\n",
    "    f = open(fname, mode = 'r')\n",
    "    try:\n",
    "        performRiskyOperation(f)\n",
    "    except(Exception):\n",
    "        pass\n",
    "    f.close()"
   ]
  },
  {
   "cell_type": "markdown",
   "metadata": {},
   "source": [
    "This is guaranteed to close the file, but doesn't tell the caller that something bad happened. What we really should do is close the file, then re-raise the exception. Inside an *except* block, the *raise* keyword alone causes the current exception to happen again:"
   ]
  },
  {
   "cell_type": "code",
   "execution_count": null,
   "metadata": {},
   "outputs": [],
   "source": [
    "def safeFail(fname):\n",
    "    f = open(fname, mode = 'r')\n",
    "    try:\n",
    "        performRiskyOperation(f)\n",
    "    except(Exception):\n",
    "        f.close()\n",
    "        raise\n",
    "    f.close()"
   ]
  },
  {
   "cell_type": "markdown",
   "metadata": {},
   "source": [
    "This pattern is so common, that there's another keyword for it: the *finally* keyword. the finally block executes whether or not an exception occured in a *try* block, but doesn't shush the exception."
   ]
  },
  {
   "cell_type": "code",
   "execution_count": null,
   "metadata": {},
   "outputs": [],
   "source": [
    "def finallyFail():\n",
    "    f = open(fname, mode = 'r')\n",
    "    try:\n",
    "        performRiskyOperation(f)\n",
    "    finally:\n",
    "        f.close()"
   ]
  },
  {
   "cell_type": "markdown",
   "metadata": {},
   "source": [
    "####   *Exercises*"
   ]
  },
  {
   "cell_type": "markdown",
   "metadata": {},
   "source": [
    "1 - List a few situations where an exception may arise that are relevant to code you've written for this series. "
   ]
  },
  {
   "cell_type": "markdown",
   "metadata": {},
   "source": [
    "2 - Choose a function you've written before and add error checking to it, raising an appropriate exception if something goes wrong."
   ]
  },
  {
   "cell_type": "markdown",
   "metadata": {},
   "source": [
    "3 - *float*(x) is a built-in function. It converts a string to a floating-point number, or raises an exception if this is not possible.\n",
    "\n",
    "Write a function that checks to see if a string can be converted to a number; it should return *True* or *False*.   "
   ]
  },
  {
   "cell_type": "code",
   "execution_count": null,
   "metadata": {},
   "outputs": [],
   "source": [
    "def isNumeric(x):\n",
    "    pass"
   ]
  }
 ],
 "metadata": {
  "kernelspec": {
   "display_name": "Python 3",
   "language": "python",
   "name": "python3"
  },
  "language_info": {
   "codemirror_mode": {
    "name": "ipython",
    "version": 3
   },
   "file_extension": ".py",
   "mimetype": "text/x-python",
   "name": "python",
   "nbconvert_exporter": "python",
   "pygments_lexer": "ipython3",
   "version": "3.5.5"
  }
 },
 "nbformat": 4,
 "nbformat_minor": 2
}
