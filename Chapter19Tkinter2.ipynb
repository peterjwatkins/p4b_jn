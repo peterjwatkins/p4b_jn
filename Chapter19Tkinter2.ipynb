{
 "cells": [
  {
   "cell_type": "markdown",
   "metadata": {},
   "source": [
    "# Chapter 19: Interacting with Tkinter GUIs"
   ]
  },
  {
   "cell_type": "markdown",
   "metadata": {},
   "source": [
    "Here, we'll look at accepting user input in a GUI.\n",
    "\n",
    "To reiterate, a Tkinter GUI is a main window that contains a number of widgets.\n",
    "\n",
    "When you call mainloop on the window, it starts listening for input and dispatching events to the widgets as the user interacts with them. So, in order to have a functional program, each widget needs to know how to respond to input."
   ]
  },
  {
   "cell_type": "code",
   "execution_count": null,
   "metadata": {},
   "outputs": [],
   "source": [
    "from tkinter import Tk, Frame, Button\n",
    "\n",
    "def chattyButton():\n",
    "    #Here, I'll make a window that contains a button. When the user\n",
    "    #clicks on the button, it will print a message.\n",
    "    window = Tk()\n",
    "    buttonHolder = Frame(window, padx=10, pady=10, background=\"black\")\n",
    "    #Now, before I make the button, I'll create a function that describes what\n",
    "    #should happen when the button is pressed. This function will be called\n",
    "    #by the button when the user clicks on it. \n",
    "    def sayMessage():\n",
    "        print(\"Button clicked!\")\n",
    "    theButton = Button(buttonHolder, text=\"Say something\", command=sayMessage)\n",
    "    theButton.pack()\n",
    "    buttonHolder.pack()\n",
    "    window.mainloop()\n",
    "\n",
    "\n",
    "#This goes back to some of the topics discussed in chapter 13 involving\n",
    "#closures and scope. Consider the following code:\n",
    "\n",
    "def closureButton():\n",
    "    window=Tk()\n",
    "    #For the reason that this must be a list, see chapter 13. sayMessage can't\n",
    "    #reassign a variable in its containing scope, but it can modify what that\n",
    "    #variable points to. If timesClicked was just the number 1, you'd be trying\n",
    "    #to modify the number 1 itself.\n",
    "    #Python provides the very unhelpful message \"local variable referenced\n",
    "    #before assignment\" if you try to do this, which really doesn't explain\n",
    "    #the problem. \n",
    "    timesClicked=[0]\n",
    "    def sayMessage():\n",
    "        print(\"Button clicked {0:d} times\".format(timesClicked[0]))\n",
    "        timesClicked[0]+= 1\n",
    "    theButton = Button(window, text=\"say times\", command=sayMessage)\n",
    "    theButton.pack()\n",
    "    window.mainloop()"
   ]
  },
  {
   "cell_type": "markdown",
   "metadata": {},
   "source": [
    "Great. Let's play with this concept by writing a calculator.\n",
    "\n",
    "A, uh, very simple calculator.\n",
    "\n",
    "It supports addition, subtraction, multiplication, and the numbers one to nine. It's stack-based, which is kind of odd if you've not seen it. Basically, there's a stack of numbers.\n",
    "When you enter a number it's pushed onto the stack. Then, operations remove the top two numbers and push the result onto the stack.\n",
    "\n",
    "So let's trace the behavior of the calculator"
   ]
  },
  {
   "cell_type": "code",
   "execution_count": null,
   "metadata": {},
   "outputs": [],
   "source": [
    "#INPUT      STACK\n",
    "#2          {2]\n",
    "#3          [2, 3]\n",
    "#8          [2, 3, 8]\n",
    "#+          [2, 11]\n",
    "#4          [2, 11, 4]\n",
    "#*          [2, 44]\n",
    "#-          [-42]"
   ]
  },
  {
   "cell_type": "markdown",
   "metadata": {},
   "source": [
    "See how the operators work on the last two values? Good. It's a lot easier to program a calculator this way, so that's why we're doing it.\n",
    "\n",
    "Let's implement the logic of the calculator in a function:"
   ]
  },
  {
   "cell_type": "code",
   "execution_count": null,
   "metadata": {},
   "outputs": [],
   "source": [
    "def stackOperation(op, stack):\n",
    "    if(op == \"+\"):\n",
    "        stack = stack[:-2] + [stack[-2] + stack[-1]]\n",
    "    elif(op == \"-\"):\n",
    "        stack = stack[:-2] + [stack[-2] - stack[-1]]\n",
    "    elif(op == \"*\"):\n",
    "        stack = stack[:-2] + [stack[-2] * stack[-1]]\n",
    "    else: \n",
    "        stack = stack + [op]\n",
    "    return stack\n",
    "\n",
    "#Now, we'll make a calculator. It'll be a 4 by 3 grid:\n",
    "#+-+-+-+-+\n",
    "#|1|2|3|+|\n",
    "#+-+-+-+-|\n",
    "#|4|5|6|-|\n",
    "#+-+-+-+-|\n",
    "#|7|8|9|*|\n",
    "#+-+-+-+-|\n",
    "#and we'll print the stack after every button press. \n",
    "\n",
    "class CalculatorFrame(Frame): #Object-oriented style because this'll be complex.\n",
    "    def __init__(self, parent):\n",
    "        Frame.__init__(self, parent)\n",
    "        self._stack = [] #Initialize to the empty stack.\n",
    "        #Now, add each button. addButton takes the number and the coordinates\n",
    "        #of the button, so here's a list of each button and its coordinates.\n",
    "        buttons = [ (1, 0, 0), (2, 0, 1), (3, 0, 2), (\"+\", 0, 3),\n",
    "                    (4, 1, 0), (5, 1, 1), (6, 1, 2), (\"-\", 1, 3),\n",
    "                    (7, 2, 0), (8, 2, 1), (9, 2, 2), (\"*\", 2, 3)]\n",
    "        for button in buttons:\n",
    "            self._addButton(button[0], button[1], button[2])\n",
    "    def _addButton(self, op, rowCoord, colCoord):\n",
    "        def makeChange():\n",
    "            self._stack = stackOperation(op, self._stack)\n",
    "            print(self._stack)\n",
    "        #Remember, command must be a function taking no arguments.\n",
    "        #So, while it's tempting to say \"command=makeChange()\", this\n",
    "        #is wrong because the value of makeChange() is void (it doesn't\n",
    "        #return anything). The button will execute the command you provide\n",
    "        #when mainloop tells it to do so. We could, equivalently, say\n",
    "        #\"command=lambda:makeChange()\" which would also work. \n",
    "        button = Button(self, text=str(op), command=makeChange)\n",
    "        button.grid(row=rowCoord, column=colCoord)\n",
    "\n",
    "def calculator():\n",
    "    window = Tk()\n",
    "    calc = CalculatorFrame(window)\n",
    "    calc.pack()\n",
    "    window.mainloop()"
   ]
  },
  {
   "cell_type": "markdown",
   "metadata": {},
   "source": [
    "If the way we're hooking functions onto widgets isn't clear now, work on it until it makes sense. It's going to get harder when we also have variables attached to the widgets."
   ]
  },
  {
   "cell_type": "markdown",
   "metadata": {},
   "source": [
    "> *===== ESOTERIC ASIDE =====*\n",
    "\n",
    "> Note that earlier, with the *timesClicked* example, *timesClicked* couldn't be assigned directly. It was invalid to say"
   ]
  },
  {
   "cell_type": "code",
   "execution_count": null,
   "metadata": {},
   "outputs": [],
   "source": [
    "#   x = 0\n",
    "#   def augment():\n",
    "#       x=x+1\n",
    "#   Button(command=augment)"
   ]
  },
  {
   "cell_type": "markdown",
   "metadata": {},
   "source": [
    "> because *x* Python would complain about a variable being referenced before assignment. We had to do"
   ]
  },
  {
   "cell_type": "code",
   "execution_count": null,
   "metadata": {},
   "outputs": [],
   "source": [
    "#   x = [0]\n",
    "#   def augment():\n",
    "#       x[0] = x[0] + 1\n",
    "#   Button(command=augment)"
   ]
  },
  {
   "cell_type": "markdown",
   "metadata": {},
   "source": [
    "> because we're not reassigning *x* itself, we're changing the data contained in *x*.\n",
    "\n",
    "> It would also have been invalid to say"
   ]
  },
  {
   "cell_type": "code",
   "execution_count": null,
   "metadata": {},
   "outputs": [],
   "source": [
    "#   def augment():\n",
    "#       x = [x[0] + 1]"
   ]
  },
  {
   "cell_type": "markdown",
   "metadata": {},
   "source": [
    "> because that would have reassigned *x* as well.\n",
    "\n",
    "> Here, we are getting away with"
   ]
  },
  {
   "cell_type": "code",
   "execution_count": null,
   "metadata": {},
   "outputs": [],
   "source": [
    "#   def makeChange():\n",
    "#       self._stack=stackOperation(op, self._stack)"
   ]
  },
  {
   "cell_type": "markdown",
   "metadata": {},
   "source": [
    "> Which seems like it should have a problem, right? \n",
    "\n",
    "> We're reassigning *self._stack* directly, not just changing its data. While true, there's a subtlety that lets this work: we don't reassign *self*.\n",
    "\n",
    "> We change the data contained in *self* (a datum called *_stack* is reassigned), but the object called *self*, which is closed over by the function, is not reassigned.\n",
    "\n",
    "> *===== END ASIDE =====*"
   ]
  },
  {
   "cell_type": "markdown",
   "metadata": {},
   "source": [
    "Okay, so that is well and good. We can hook functions onto widgets and have the GUI respond in a meaningful way to user input.\n",
    "\n",
    "Cool!\n",
    "\n",
    "But sometimes, the interaction with a widget is not as simple as clicking. Consider a text box: the user can enter any text they please, and our program needs a way to capture this data. The solution provided by Tkinter is inelegant, to put it mildly. This is a result of the fact that Tkinter is not really running Python, it's running Tcl. And an object in Tcl can't be easily converted to an object in Python.\n",
    "\n",
    "The system used in Tkinter is to create a special object that is capable of performing these conversions and attach that object to the widget. "
   ]
  },
  {
   "cell_type": "code",
   "execution_count": null,
   "metadata": {},
   "outputs": [],
   "source": [
    "from tkinter import Checkbutton, IntVar\n",
    "def checkBox():\n",
    "    window = Tk()\n",
    "    cbState = IntVar()\n",
    "    #buttonState will be updated whenever the check button is clicked.\n",
    "    def showState():\n",
    "        print(\"The state is {0:d}\".format(cbState.get()))\n",
    "    cb = Checkbutton(window, text=\"Click me\",variable=cbState, command=showState)\n",
    "    #These variables have two important methods: get() and set(val).\n",
    "    #Importantly, when you call set(), the widget will be updated on-screen\n",
    "    #to reflect the change. \n",
    "    cb.pack()\n",
    "    window.mainloop()"
   ]
  },
  {
   "cell_type": "markdown",
   "metadata": {},
   "source": [
    " Let's put all of these things together and write a program that calculates Hamming distances for two sequences. Here's the plan:"
   ]
  },
  {
   "cell_type": "code",
   "execution_count": null,
   "metadata": {},
   "outputs": [],
   "source": [
    "#+-----------+------+\n",
    "#|ENTRY BOX 1|STATUS|\n",
    "#+-----------+------|\n",
    "#|ENTRY BOX 2|GO BTN|\n",
    "#+-----------+------+\n",
    "#|S E Q U E N C E 1 |\n",
    "#+------------------+\n",
    "#|M I S M A T C H   |\n",
    "#+------------------+\n",
    "#|S E Q U E N C E 2 |\n",
    "#+------------------+\n"
   ]
  },
  {
   "cell_type": "markdown",
   "metadata": {},
   "source": [
    "Where the bottom three rows show the two sequences and have a | in themismatch row wherever they differ. "
   ]
  },
  {
   "cell_type": "code",
   "execution_count": null,
   "metadata": {},
   "outputs": [],
   "source": [
    "from tkinter import StringVar, Entry, Label\n",
    "class HammingFrame(Frame):\n",
    "    \"\"\"\n",
    "        Creates a frame that lets the user calculate the Hamming distance\n",
    "        between two strings.\n",
    "        Treat as a Frame. \n",
    "    \"\"\"\n",
    "    def __init__(self, parent):\n",
    "        Frame.__init__(self, parent)\n",
    "        #Make two string variables that will contain the user's sequences.\n",
    "        self._seq1Var = StringVar()\n",
    "        self._seq2Var = StringVar()\n",
    "        #Entry boxes for the user to type things. These will update the\n",
    "        #corresponding variables. Width is the width of the widget on-screen\n",
    "        #measured in characters. It doesn't limit the number of characters\n",
    "        #the user can type.\n",
    "        self._seq1Entry = Entry(self, textvariable=self._seq1Var, width=50)\n",
    "        self._seq2Entry = Entry(self, textvariable=self._seq2Var, width=50)\n",
    "        self._seq1Entry.grid(row=0, column=0)\n",
    "        self._seq2Entry.grid(row=1, column=0)\n",
    "\n",
    "        #Often, the status will be displayed at the bottom of the window.\n",
    "        #I have it to the side for no good reason other than there was nothing\n",
    "        #better to put there.\n",
    "        self._statusVar = StringVar()\n",
    "        self._statusLabel = Label(self, textvariable=self._statusVar, width=20)\n",
    "        self._statusVar.set(\"Waiting for input\")\n",
    "        self._statusLabel.grid(row=0, column=1)\n",
    "        \n",
    "        self._startButton = Button(self, text=\"Calculate\", command=self._calcDist)\n",
    "        self._startButton.grid(row=1, column=1)\n",
    "\n",
    "        self._resultFrame = ResultFrame(self)\n",
    "        self._resultFrame.grid(row=2, column=0, columnspan=2)\n",
    "\n",
    "\n",
    "    def _calcDist(self):\n",
    "        #alert the user that the program is running.\n",
    "        #If the calculation was more CPU-intensive, it might be nice to provide\n",
    "        #a percent-complete message or something. \n",
    "        self._statusVar.set(\"Calculating\")\n",
    "        seq1 = self._seq1Var.get()\n",
    "        seq2 = self._seq2Var.get()\n",
    "        if(len(seq1) != len(seq2)):\n",
    "            #Hamming distance is only defined on strings of the same length.\n",
    "            self._statusVar.set(\"Length mismatch!\")\n",
    "            return\n",
    "        #Well, we know the lengths are the same, so show the distance.\n",
    "        dist = 0\n",
    "        for i in range(len(seq1)):\n",
    "            if(seq1[i] != seq2[i]):\n",
    "                dist += 1\n",
    "        \n",
    "        self._statusVar.set(\"dist={0:d}\".format(dist))\n",
    "        #Get rid of earlier output...\n",
    "        self._resultFrame.clearPrevious()\n",
    "        #and display the new result.\n",
    "        self._resultFrame.showDistance(seq1, seq2)\n",
    "\n",
    "class ResultFrame(Frame):\n",
    "    \"\"\"\n",
    "        Creates a frame to show the mismatches between two strings. Starts\n",
    "        empty, constructed just like a Frame.\n",
    "    \"\"\"\n",
    "    def __init__(self, parent):\n",
    "        Frame.__init__(self,parent)\n",
    "        self._labels = []\n",
    "        #Do nothing right now, we'll add the letters and such later.\n",
    "\n",
    "    def clearPrevious(self):\n",
    "        \"\"\"\n",
    "            Removes any previous content from the frame. If the frame is\n",
    "            already empty, calling this does nothing. \n",
    "        \"\"\"\n",
    "        for label in self._labels:\n",
    "            label.destroy() #destroy erases the widget from the screen.\n",
    "        self._labels = [] #clear the container, otherwise we'd re-destroy\n",
    "        #every label including those previously destroyed. \n",
    "\n",
    "    def showDistance(self, seq1, seq2):\n",
    "        \"\"\"\n",
    "            Given two strings, shows each string and indicates the positions\n",
    "            they mismatch. \n",
    "        \"\"\"\n",
    "        #Go through the sequences and add labels for each one. If there's\n",
    "        #a mismatch, then identify it with a | character.\n",
    "        for i in range(len(seq1)):\n",
    "            #If I didn't need to refer to the labels in clearPrevious, I would\n",
    "            #have just done \"Label(self, text=seq1[i]).grid(row=0,column=i)\"\n",
    "            topLabel = Label(self, text=seq1[i])\n",
    "            self._labels.append(topLabel)\n",
    "            topLabel.grid(row=0, column=i)\n",
    "            if(seq1[i] != seq2[i]): #indicate the mismatch\n",
    "                midLabel=Label(self,text=\"|\")\n",
    "                self._labels.append(midLabel)\n",
    "                midLabel.grid(row=1, column=i)\n",
    "            botLabel = Label(self, text=seq2[i])\n",
    "            self._labels.append(botLabel)\n",
    "            botLabel.grid(row=2, column=i)\n",
    "        \n",
    "def hammingFrame():\n",
    "    window = Tk()\n",
    "    frame = HammingFrame(window)\n",
    "    frame.pack()\n",
    "    window.mainloop()"
   ]
  },
  {
   "cell_type": "markdown",
   "metadata": {},
   "source": [
    "####   *Exercises*"
   ]
  },
  {
   "cell_type": "markdown",
   "metadata": {},
   "source": [
    "1 - Extend the calculator developed above so that it can use multi-digit numbers. Add an 'enter' button that pushes a number on the stack, and when the user presses number buttons, combine the presses to form a single number. \n",
    "\n",
    "(If this is confusing, just think of entering a multi-digit number on a spreadsheet - you press each digit then press enter.)\n",
    "\n",
    "You should probably also add a zero button for numbers that contain zeroes.\n",
    "\n",
    "If you have the number buttons produce strings, you can just concatenate the typed numbers and convert that to a number with int()."
   ]
  },
  {
   "cell_type": "markdown",
   "metadata": {},
   "source": [
    "2 - Managing files with Tkinter is different in python 3.x (the version used here) and python 2.x, which is unfortunately what many tutorials on the net reference. It's also totally different in tcl. \n",
    "\n",
    "The file dialogs can be imported from the *tkinter.filedialog* module, like this:"
   ]
  },
  {
   "cell_type": "code",
   "execution_count": null,
   "metadata": {},
   "outputs": [],
   "source": [
    "from tkinter.filedialog import askopenfile"
   ]
  },
  {
   "cell_type": "markdown",
   "metadata": {},
   "source": [
    "Find the commands (online) that this module makes available. (*askopenfile* is one of them, what are the others?)\n",
    "\n",
    "Write a program that lets the user choose a file, then analyzes the chosen file to find the most common characters used.\n",
    "\n",
    "Display the characters encounteredin order of frequency in the window."
   ]
  },
  {
   "cell_type": "markdown",
   "metadata": {},
   "source": [
    "3 - Write a program that lets the user select a .fasta file containing a peptide sequence. Let the user choose one of five proteases using radio button widgets.\n",
    "\n",
    "On the screen, display where the provided sequence will be cleaved by the selected protease.\n",
    "\n",
    "(It will be helpful to use a regular expression to identify the cleavage sites.)\n",
    "\n",
    "The choice of which proteases to use is left to you.\n"
   ]
  },
  {
   "cell_type": "markdown",
   "metadata": {},
   "source": [
    "4 - To the program written in 2, add a feature (by which I mean button) that lets the user save the sequences of the fragments in a new .fasta file.\n",
    "\n",
    "Warn the user if they attempt to overwrite the original file."
   ]
  },
  {
   "cell_type": "markdown",
   "metadata": {},
   "source": [
    "*Uh, that's all I've got*. This is the end of Programming for Biochemists.\n",
    "\n",
    "**You made it!**"
   ]
  },
  {
   "cell_type": "markdown",
   "metadata": {},
   "source": [
    "_=_=_=_=_=_=_=_=_=_=_ _^_^_^_^_^_^_^_^_^_^_\n",
    "\"\"\"CONGRATULATIONS\"\"\"\n",
    "_^_^_^_^_^_^_^_^_^_^_ _=_=_=_=_=_=_=_=_=_=_"
   ]
  }
 ],
 "metadata": {
  "kernelspec": {
   "display_name": "Python 3",
   "language": "python",
   "name": "python3"
  },
  "language_info": {
   "codemirror_mode": {
    "name": "ipython",
    "version": 3
   },
   "file_extension": ".py",
   "mimetype": "text/x-python",
   "name": "python",
   "nbconvert_exporter": "python",
   "pygments_lexer": "ipython3",
   "version": "3.5.5"
  }
 },
 "nbformat": 4,
 "nbformat_minor": 2
}
