{
 "cells": [
  {
   "cell_type": "markdown",
   "metadata": {},
   "source": [
    "# Chapter 7: Functions II: Recursion"
   ]
  },
  {
   "cell_type": "code",
   "execution_count": 1,
   "metadata": {},
   "outputs": [],
   "source": [
    "from random import randint"
   ]
  },
  {
   "cell_type": "markdown",
   "metadata": {},
   "source": [
    "Functions are a way to encapsulate parts of a program.\n",
    "\n",
    "Here, you'll put together everything we've learned so far.\n",
    "\n",
    "First, define a function that calculates the next number in the Collatz chain."
   ]
  },
  {
   "cell_type": "code",
   "execution_count": 2,
   "metadata": {},
   "outputs": [],
   "source": [
    "def nextCollatzNumber(initialNum):\n",
    "    if (initialNum % 2 == 0):\n",
    "        return initialNum // 2\n",
    "    else:\n",
    "        return (initialNum * 3) + 1"
   ]
  },
  {
   "cell_type": "markdown",
   "metadata": {},
   "source": [
    "We can now generate the collatz path for 9."
   ]
  },
  {
   "cell_type": "code",
   "execution_count": 3,
   "metadata": {},
   "outputs": [],
   "source": [
    "def collatz9():\n",
    "    n = 9\n",
    "    pathLength = 0\n",
    "    print(pathLength , n)\n",
    "    while (n != 1):\n",
    "        n = nextCollatzNumber(n)\n",
    "        pathLength = pathLength + 1\n",
    "        print(pathLength, n)"
   ]
  },
  {
   "cell_type": "markdown",
   "metadata": {},
   "source": [
    "We could also make that loop a function itself.\n",
    "\n",
    "This function will calculate the length of the collatz path of *n*."
   ]
  },
  {
   "cell_type": "code",
   "execution_count": 4,
   "metadata": {},
   "outputs": [],
   "source": [
    "def collatzPath(n):\n",
    "    if(n < 1): #A little safety feature: If it's called with n<1,\n",
    "               #safely return without hanging forever. \n",
    "        return -1\n",
    "    pathLength = 0\n",
    "    while (n != 1):\n",
    "        n = nextCollatzNumber(n)\n",
    "        pathLength = pathLength + 1\n",
    "    return pathLength"
   ]
  },
  {
   "cell_type": "markdown",
   "metadata": {},
   "source": [
    "Give it a whirl!"
   ]
  },
  {
   "cell_type": "code",
   "execution_count": 5,
   "metadata": {},
   "outputs": [
    {
     "name": "stdout",
     "output_type": "stream",
     "text": [
      "The path length of 10 is  6\n"
     ]
    }
   ],
   "source": [
    "print(\"The path length of 10 is \",collatzPath(10))"
   ]
  },
  {
   "cell_type": "markdown",
   "metadata": {},
   "source": [
    "Say I want to find the largest number *randint*(1,10000)\n",
    "returns when I run it *n* times."
   ]
  },
  {
   "cell_type": "code",
   "execution_count": null,
   "metadata": {},
   "outputs": [],
   "source": [
    "def largestRand(n):\n",
    "    largest = 0\n",
    "    for i in range(n):\n",
    "        a = randint(1,10000)\n",
    "        if(a > largest):\n",
    "            largest = a\n",
    "    return largest"
   ]
  },
  {
   "cell_type": "markdown",
   "metadata": {},
   "source": [
    "Give this a whirl, too!"
   ]
  },
  {
   "cell_type": "code",
   "execution_count": null,
   "metadata": {},
   "outputs": [],
   "source": [
    "print(\"after 100 passes, the largest number returned was \",largestRand(100))"
   ]
  },
  {
   "cell_type": "markdown",
   "metadata": {},
   "source": [
    "Fundamentally, functions provide a way to encapsulate one logical chunk of\n",
    "a program. \n",
    "\n",
    "Consider a program to perform [monte carlo integration](http://en.wikipedia.org/wiki/Monte Carlo), where we're sampling a function a bunch of times, and the area under that function is its average value times the width of the interval.)\n",
    "\n",
    "There are essentially three components to such a program:\n",
    "1. The main controller that operates the other bits and displays output\n",
    "2. The integrator that samples the function and determines the area under it.\n",
    "3. The function being sampled.\n",
    "\n",
    "On the one hand, we can implement it as one program.\n",
    "\n",
    "This program takes as arguments the number of samples, the function being\n",
    "integrated, and the bounds of the integration."
   ]
  },
  {
   "cell_type": "code",
   "execution_count": 6,
   "metadata": {},
   "outputs": [],
   "source": [
    "def monteCarloSingle(numSamples, fname, start, stop):\n",
    "    area=0\n",
    "    for i in range(numSamples):\n",
    "        #Get a random number between the start and stop range:\n",
    "        randomNum = randint(0,1000000) #get a random number\n",
    "        #and convert that integer to a number in our sample domain\n",
    "        x = randomNum/1000000 * (start-stop) + start\n",
    "        if(fname == 's'): #calculate the sine of the number with a taylor series\n",
    "            funVal = x - 1/6*x**3 + 1/120*x**5 - 1/5040*x**7 + 1/362880*x**9\n",
    "        if(fname == 'c'): #calculate the cosine.\n",
    "            funVal = 1-1/2*x**2 + 1/24*x**4 - 1/720*x**6+1/40320*x**8\n",
    "        if(fname == 'e'): #calculate e^x.\n",
    "            funVal = 1+x+1/2*x**2 + 1/6*x**3 + 1/24*x**4 + 1/120*x**5+1/720*x**6+1/5040*x**7\n",
    "        area = area + funVal/numSamples*(stop-start)\n",
    "    print(\"the area between \",start,\" and \", stop, \" is \",area)"
   ]
  },
  {
   "cell_type": "markdown",
   "metadata": {},
   "source": [
    "Okay, now I can run it:"
   ]
  },
  {
   "cell_type": "code",
   "execution_count": 7,
   "metadata": {},
   "outputs": [
    {
     "name": "stdout",
     "output_type": "stream",
     "text": [
      "the area between  0  and  1  is  -0.4524011188786845\n"
     ]
    }
   ],
   "source": [
    "monteCarloSingle(10000, 's', 0, 1)"
   ]
  },
  {
   "cell_type": "markdown",
   "metadata": {},
   "source": [
    "Uh-oh.\n",
    "\n",
    "It's negative. \n",
    "\n",
    "There must be a bug somewhere in the code.\n",
    "\n",
    "But since the program isn't decomposed, I can't test the individual bits;\n",
    "I have to analyze the whole thing at once.\n",
    "\n",
    "The problem may be in the Taylor series, it may be in the accumulation of the area, it could be anywhere."
   ]
  },
  {
   "cell_type": "markdown",
   "metadata": {},
   "source": [
    "Now, we can decompose the program using functions:"
   ]
  },
  {
   "cell_type": "code",
   "execution_count": 24,
   "metadata": {},
   "outputs": [],
   "source": [
    "#First, the main controller:\n",
    "def monteCarloDecomposed(numSamples, fname, start, stop):\n",
    "    area = mcIntegrate(numSamples, fname, start, stop)\n",
    "    print(\"the area between \",start,\" and \", stop, \" is \",area)\n",
    "\n",
    "#Now, the integrator:\n",
    "def mcIntegrate(numSamples, fname, start, stop):\n",
    "    area = 0\n",
    "    for i in range(numSamples):\n",
    "        #First, get a random number in the desired range.\n",
    "        x = randomInRange(start, stop)\n",
    "        #then evaluate the function at that location\n",
    "        funVal = evaluateFunction(fname, x)\n",
    "        area = area + funVal/numSamples*(stop-start)\n",
    "    return area\n",
    "\n"
   ]
  },
  {
   "cell_type": "markdown",
   "metadata": {},
   "source": [
    "Okay, so now I need to write *randomInRange* and *evaluateFunction*."
   ]
  },
  {
   "cell_type": "code",
   "execution_count": 25,
   "metadata": {},
   "outputs": [],
   "source": [
    "def randomInRange(start, stop):\n",
    "    randomNum = randint(0,1000000)\n",
    "    retVal = randomNum/1000000 * (start-stop) + start\n",
    "    return retVal\n",
    "\n",
    "def evaluateFunction(fname, x):\n",
    "    if(fname == 's'): \n",
    "        funVal = x - 1/6*x**3 + 1/120*x**5 - 1/5040*x**7 + 1/362880*x**9\n",
    "    if(fname == 'c'): \n",
    "        funVal = 1-1/2*x**2 + 1/24*x**4 - 1/720*x**6+1/40320*x**8\n",
    "    if(fname == 'e'): \n",
    "        funVal = 1+x+1/2*x**2 + 1/6*x**3 + 1/24*x**4 + 1/120*x**5+1/720*x**6+1/5040*x**7\n",
    "    return funVal"
   ]
  },
  {
   "cell_type": "code",
   "execution_count": 26,
   "metadata": {},
   "outputs": [
    {
     "name": "stdout",
     "output_type": "stream",
     "text": [
      "the area between  0  and  1  is  -0.45958562685024124\n"
     ]
    }
   ],
   "source": [
    "monteCarloDecomposed(10000, 's', 0,1)"
   ]
  },
  {
   "cell_type": "markdown",
   "metadata": {},
   "source": [
    "Okay, so the bug is still there.\n",
    "\n",
    "But I can play with the components to seewhich one has a bug. I think it's the Taylor expansion. sin(0.5) = 0.479, so"
   ]
  },
  {
   "cell_type": "code",
   "execution_count": 27,
   "metadata": {},
   "outputs": [
    {
     "data": {
      "text/plain": [
       "0.4794255386164159"
      ]
     },
     "execution_count": 27,
     "metadata": {},
     "output_type": "execute_result"
    }
   ],
   "source": [
    "evaluateFunction('s', 0.5)"
   ]
  },
  {
   "cell_type": "markdown",
   "metadata": {},
   "source": [
    "Okay, so the bug doesn't seem to be in *evaluateFunction*.\n",
    "\n",
    "Perhaps it's in *randomInRange*?"
   ]
  },
  {
   "cell_type": "code",
   "execution_count": 28,
   "metadata": {},
   "outputs": [
    {
     "data": {
      "text/plain": [
       "-0.874639"
      ]
     },
     "execution_count": 28,
     "metadata": {},
     "output_type": "execute_result"
    }
   ],
   "source": [
    "randomInRange(0,1)"
   ]
  },
  {
   "cell_type": "markdown",
   "metadata": {},
   "source": [
    "A-ha! I have now narrowed down the bug to one line of code. "
   ]
  },
  {
   "cell_type": "markdown",
   "metadata": {},
   "source": [
    "Now: *Recursion*."
   ]
  },
  {
   "cell_type": "markdown",
   "metadata": {},
   "source": [
    "This is a case where a function calls itself. \n",
    "\n",
    "Let me define the factorial thus:\n",
    "*factorial*(1) = 1\n",
    "\n",
    "*factorial*(*n*) = *n* x *factorial*(*n*-1)\n",
    "\n",
    "So, for example, *factorial*(5) = 5 x *factorial*(4)\n",
    "\n",
    "Here's the *factorial* function, defined recursively."
   ]
  },
  {
   "cell_type": "code",
   "execution_count": 29,
   "metadata": {},
   "outputs": [],
   "source": [
    "def factRec(n):\n",
    "    if (n <= 1):\n",
    "        return 1\n",
    "    else:\n",
    "        return n * factRec(n-1)"
   ]
  },
  {
   "cell_type": "markdown",
   "metadata": {},
   "source": [
    "Why did I use the case *n*<=1, rather than *n* == 1? \n",
    "\n",
    "Consider the case where I call *factRec*(0). \n",
    "\n",
    "It never stops, because *n* is never going to be 1.\n",
    "\n",
    "So it's a safeguard.\n",
    "\n",
    "Another example:\n",
    "\n",
    "Computing the summation of 1/*i* for *i* = 1 to *N*"
   ]
  },
  {
   "cell_type": "code",
   "execution_count": 30,
   "metadata": {},
   "outputs": [],
   "source": [
    "def sumInverse(n):\n",
    "    return 1 if n <=1 else 1/n + sumInverse(n-1)"
   ]
  },
  {
   "cell_type": "markdown",
   "metadata": {},
   "source": [
    "Here's another example: the Ackermann function. \n",
    "\n",
    "It's an interesting function that is designed to generate VERY large numbers.\n",
    "\n",
    "*A*(0,*n*) = *n*+1\n",
    "\n",
    "*A*(*m*,0) = *A*(*m*-1,1)\n",
    "\n",
    "*A*(*m*,*n*) = A(*m*-1,*A*(*m*,*n*-1))\n",
    "\n",
    "Do NOT call this with arguments larger than 3. The time it takes grows faster\n",
    "than the numbers it produces. "
   ]
  },
  {
   "cell_type": "code",
   "execution_count": 31,
   "metadata": {},
   "outputs": [],
   "source": [
    "def ackermann(m,n):\n",
    "    if(m == 0):\n",
    "        return n+1\n",
    "    if(n == 0):\n",
    "        return ackermann(m-1,1)\n",
    "    return ackermann(m-1, ackermann(m,n-1))"
   ]
  },
  {
   "cell_type": "markdown",
   "metadata": {},
   "source": [
    "####   *Exercises*"
   ]
  },
  {
   "cell_type": "markdown",
   "metadata": {},
   "source": [
    "1 - Of the numbers 1 to 95 (including 95), which has the largest Collatz path?"
   ]
  },
  {
   "cell_type": "markdown",
   "metadata": {},
   "source": [
    "2 - Fix the decomposed Monte-carlo integrator. "
   ]
  },
  {
   "cell_type": "markdown",
   "metadata": {},
   "source": [
    "3 - A ball is dropped from an initial height Ho. It bounces to 75% of its drop\n",
    "height on each bounce.\n",
    "\n",
    "How many bounces will it take for the bounce to be less than 1 mm if the ball is dropped from 2m?\n",
    "\n",
    "First, describe the problem recursively. Second, implement your solution, using only recursion. "
   ]
  },
  {
   "cell_type": "markdown",
   "metadata": {},
   "source": [
    "4 - Write a function that prints the sequence of moves needed to solve the Tower of Hanoi puzzle for *n* disks."
   ]
  },
  {
   "cell_type": "code",
   "execution_count": 22,
   "metadata": {},
   "outputs": [],
   "source": [
    "def printMoves(ndisks):\n",
    "    hanoi(\"L\", \"R\", \"M\", ndisks)\n",
    "\n",
    "#Example:\n",
    "#>>> printMoves(3)\n",
    "#L R\n",
    "#L M\n",
    "#R M\n",
    "#L R\n",
    "#M L\n",
    "#M R\n",
    "#L R\n"
   ]
  },
  {
   "cell_type": "markdown",
   "metadata": {},
   "source": [
    "5 - Given two strings of dna,\n",
    "\n",
    "*a*. Make sure that both strings are valid DNA.\n",
    "\n",
    "*b*. Make sure they have the same length.\n",
    "\n",
    "*c*. Calculate the number of letters that are different between them.\n",
    "\n",
    "The function should return the number of differences, or -1 if there was a problem with *a* or *b*.\n",
    "\n",
    "(Incidentally, this metric is called the *Hamming Weight*, and is used in both bioinformatics and spell-checkers.)\n",
    "\n",
    "You may use either recursion or iteration, but if you find this topic interesting, I should warn you that all of the more advanced algorithms are inherently recursive (there is no direct iterative equivalent), so now's a great time to practice."
   ]
  },
  {
   "cell_type": "code",
   "execution_count": null,
   "metadata": {},
   "outputs": [],
   "source": []
  }
 ],
 "metadata": {
  "kernelspec": {
   "display_name": "Python 3",
   "language": "python",
   "name": "python3"
  },
  "language_info": {
   "codemirror_mode": {
    "name": "ipython",
    "version": 3
   },
   "file_extension": ".py",
   "mimetype": "text/x-python",
   "name": "python",
   "nbconvert_exporter": "python",
   "pygments_lexer": "ipython3",
   "version": "3.5.5"
  }
 },
 "nbformat": 4,
 "nbformat_minor": 2
}
