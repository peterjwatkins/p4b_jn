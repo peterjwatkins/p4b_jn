{
 "cells": [
  {
   "cell_type": "code",
   "execution_count": null,
   "metadata": {},
   "outputs": [],
   "source": [
    "\"\"\"Programming for Biochemists, lessons for Python programming.\n",
    "Copyright (C) 2013, Charles McAnany. This program is free software: you can redistribute it and/or modify it under the terms of the GNU Affero General Public License as published by the Free Software Foundation, either version 3 of the License, or (at your option) any later version. This program is distributed in the hope that it will be useful, but WITHOUT ANY WARRANTY; without even the implied warranty of MERCHANTABILITY or FITNESS FOR A PARTICULAR PURPOSE. See the GNU Affero General Public License for more details. You should have received a copy of the GNU Affero General Public License along with this program. If not, see <http://www.gnu.org/licenses/>.\"\"\""
   ]
  },
  {
   "cell_type": "markdown",
   "metadata": {},
   "source": [
    "### Chapter 00: Setup and Orientation\n",
    "This chapter will make sure everything is working right. If it shows you an error message (especially on exercise 2), your Python installation is not configured correctly."
   ]
  },
  {
   "cell_type": "code",
   "execution_count": null,
   "metadata": {},
   "outputs": [],
   "source": [
    "\n",
    "\n",
    "#This is a text file, you can edit it however you like. If you insert\n",
    "#some code, Python will try to run it when you press F5.\n",
    "\n",
    "#The # sign is very important in Python. Anything AFTER a # sign is ignored.\n",
    "#Since these lines start with a # sign, Python is ignoring all this text. \n",
    "#These lines are called \"comments\", and they exist solely for the reader of the program.\n",
    "\n",
    "#Let's make sure you're set up correctly to run Python code. Press f5 to\n",
    "#run this file, then on the prompt that pops up (usually it starts with\n",
    "#\">>>\"), type \"test123()\" (without the \"quotes\"). Capitalization counts. \n",
    "#(If F5 doesn't work, you can go to the Run menu, and select Run Module.)\n",
    "\n",
    "#Let's talk about what's going on.\n",
    "#The file you're in right now contains \"definitions\". These are things with\n",
    "#a \"def\" keyword before them. When you push F5, you tell Python to interpret\n",
    "#all the definitions and get them ready to run.\n",
    "#Python then dumps you on the console, where you can give it instructions.\n",
    "#For this course, you'll always define things in a .py file, then call those\n",
    "#definitions on the console. There are other paradigms of how you interact\n",
    "#with code; I've chosen this one because it's clean and simple.\n",
    "\n",
    "#So the console is where you call definitions. Get it? Got it? Good. \n",
    "\n",
    "#When you type \"test123()\" on the console, it looks up a definition for\n",
    "#test123, finds it, and does whatever I defined test123 to do.\n",
    "#(the actual definition for test123 is sneakily hidden at the bottom of this\n",
    "#file.)\n",
    "\n",
    "\n",
    "\n"
   ]
  },
  {
   "cell_type": "code",
   "execution_count": null,
   "metadata": {},
   "outputs": [],
   "source": [
    "from zellegraphics import *\n",
    "def mkWindow():\n",
    "        win = GraphWin(\"It's pretty!\", 100,100)\n",
    "        c=Circle(Point(50,50),10)\n",
    "        c.draw(win)\n",
    "        t = Text(Point(50,10), \"Click to close\")\n",
    "        t.draw(win)\n",
    "        win.getMouse()\n",
    "        win.close()\n"
   ]
  },
  {
   "cell_type": "code",
   "execution_count": null,
   "metadata": {},
   "outputs": [],
   "source": []
  }
 ],
 "metadata": {
  "kernelspec": {
   "display_name": "Python 3",
   "language": "python",
   "name": "python3"
  },
  "language_info": {
   "codemirror_mode": {
    "name": "ipython",
    "version": 3
   },
   "file_extension": ".py",
   "mimetype": "text/x-python",
   "name": "python",
   "nbconvert_exporter": "python",
   "pygments_lexer": "ipython3",
   "version": "3.5.5"
  }
 },
 "nbformat": 4,
 "nbformat_minor": 2
}
