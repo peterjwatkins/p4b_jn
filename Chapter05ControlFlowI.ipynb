{
 "cells": [
  {
   "cell_type": "markdown",
   "metadata": {},
   "source": [
    "# Chapter 5: Control flow I: *if* statements."
   ]
  },
  {
   "cell_type": "markdown",
   "metadata": {},
   "source": [
    "Here we introduce a simple statement, the *if* statement."
   ]
  },
  {
   "cell_type": "code",
   "execution_count": 29,
   "metadata": {},
   "outputs": [],
   "source": [
    "from random import randint"
   ]
  },
  {
   "cell_type": "markdown",
   "metadata": {},
   "source": [
    "I'm using *randint* again, you've used it already. \n",
    "\n",
    "What do you think this code does:"
   ]
  },
  {
   "cell_type": "code",
   "execution_count": 30,
   "metadata": {},
   "outputs": [],
   "source": [
    "def compareWith5(usersNumber):\n",
    "    if(usersNumber > 5):\n",
    "        print(\"Your number is greater than five!\")\n",
    "    else:\n",
    "        print(\"your number is smaller than five!\")"
   ]
  },
  {
   "cell_type": "markdown",
   "metadata": {},
   "source": [
    "So the *if* statement is pretty simple. In general:\n"
   ]
  },
  {
   "cell_type": "markdown",
   "metadata": {},
   "source": [
    "\n",
    "*if*(condition):\n",
    ">    stuff to do if condition is true\n",
    "\n",
    "*elif*(condition2):\n",
    ">  stuff to do when condition2 is true (but condition is false)\n",
    "\n",
    "*elif*(condition3):\n",
    "> stuff to do when condition3 is true but neither condition1 nor #condition2 are true\n",
    "\n",
    "<more elifs as you see fit>...\n",
    "*else*:\n",
    "> stuff to do if none of the previous things happened\n",
    "\n",
    "stuff to do regardless.\n"
   ]
  },
  {
   "cell_type": "markdown",
   "metadata": {},
   "source": [
    "the *else* (and *elif*) is optional. So this is also valid:"
   ]
  },
  {
   "cell_type": "code",
   "execution_count": 31,
   "metadata": {},
   "outputs": [],
   "source": [
    "def multiLineIf():\n",
    "    randNum = randint(1,100)\n",
    "    if(50 < randNum):\n",
    "        randNum = 1\n",
    "        print(\"I adjusted the number, it was too high.\")\n",
    "    print(randNum)"
   ]
  },
  {
   "cell_type": "markdown",
   "metadata": {},
   "source": [
    "#### *VERY IMPORTANT*"
   ]
  },
  {
   "cell_type": "markdown",
   "metadata": {},
   "source": [
    "Python uses the number of spaces at the beginning of a line to figure out what statements go with what *if*.\n",
    "\n",
    "Let's formalize this.\n",
    "\n",
    "An *if* statement executes exactly one statement. If we want multiple things to happen on one condition, we have two options.\n",
    "The first is ugly:"
   ]
  },
  {
   "cell_type": "code",
   "execution_count": 32,
   "metadata": {},
   "outputs": [],
   "source": [
    "def uglyIf():\n",
    "    randNum = randint(1,100)\n",
    "    if(50 < randNum):\n",
    "        randNum = 1\n",
    "    if(50 < randNum):\n",
    "        print(\"I adjusted the number, it was too high.\")\n",
    "    print(randNum)"
   ]
  },
  {
   "cell_type": "markdown",
   "metadata": {},
   "source": [
    "This is kind of ugly.\n",
    "And what if we have 20 statements?\n",
    "\n",
    "That's 20 if blocks.\n",
    "\n",
    "And then what if we want to change our check from 50 to 45? That's 20 code\n",
    "changes!\n",
    "\n",
    "What we'd like to do is something like this:"
   ]
  },
  {
   "cell_type": "code",
   "execution_count": 9,
   "metadata": {},
   "outputs": [],
   "source": [
    "# if(randNum > 50) # do the following two statements:\n",
    "#   randNum = 1\n",
    "#   print(\"adjusted!\")\n",
    "\n",
    "# print(randNum)"
   ]
  },
  {
   "cell_type": "markdown",
   "metadata": {},
   "source": [
    "Python's stance is simple - the *if* statement views any indented code below it as one statement."
   ]
  },
  {
   "cell_type": "code",
   "execution_count": 10,
   "metadata": {},
   "outputs": [],
   "source": [
    "# if(condition):\n",
    "#   these lines\n",
    "#   are indented\n",
    "#   so the if\n",
    "#   statement will\n",
    "#   view them as\n",
    "#   though they\n",
    "#   are just one\n",
    "#   big statement.\n",
    "# these lines\n",
    "# are not indented\n",
    "# so they will happen\n",
    "# whether the *if* is \n",
    "# called or not."
   ]
  },
  {
   "cell_type": "markdown",
   "metadata": {},
   "source": [
    "Here are the comparison operators:"
   ]
  },
  {
   "cell_type": "code",
   "execution_count": 11,
   "metadata": {},
   "outputs": [],
   "source": [
    "#   <   less than\n",
    "#   >   greater than\n",
    "#   <=  less than or equals\n",
    "#   >=  greater than or equals\n",
    "#   ==  equals\n",
    "#   !=  not equals."
   ]
  },
  {
   "cell_type": "markdown",
   "metadata": {},
   "source": [
    "##### *NOTA BENE*\n",
    "In python, = is assignment. It is NOT an equality check.\n",
    "To check if two values are the same, use ==\n",
    "\n",
    "Fortunately,"
   ]
  },
  {
   "cell_type": "code",
   "execution_count": 12,
   "metadata": {},
   "outputs": [],
   "source": [
    "#if(x=3):"
   ]
  },
  {
   "cell_type": "markdown",
   "metadata": {},
   "source": [
    "is a syntax error in Python, so it's harder to make this mistake. "
   ]
  },
  {
   "cell_type": "markdown",
   "metadata": {},
   "source": [
    "A contrived example: *sorting three numbers*.\n",
    "\n",
    "I'll use *if* statements to sort three numbers."
   ]
  },
  {
   "cell_type": "code",
   "execution_count": 13,
   "metadata": {},
   "outputs": [],
   "source": [
    "def sort3():\n",
    "    a = randint(1,1000)\n",
    "    b = randint(1,1000)\n",
    "    c = randint(1,1000)\n",
    "    #now, find the largest number.\n",
    "    if ((a > b) and (a > c)):\n",
    "        largest = a\n",
    "        if(b > c):\n",
    "            second = b\n",
    "            third = c\n",
    "        else:\n",
    "            second = c\n",
    "            third = b\n",
    "    elif(b > c): #At this point, I know a is not the largest.\n",
    "        largest = b\n",
    "        if(c > a):\n",
    "            second = c\n",
    "            third = a\n",
    "        else:\n",
    "            second = a\n",
    "            third = c\n",
    "    else: # neither a nor b were the largest therefore c must be. \n",
    "        largest = c\n",
    "        if(b < a):\n",
    "            second = a\n",
    "            third = b\n",
    "        else:\n",
    "            second = b\n",
    "            third = a\n",
    "            \n",
    "    print(largest, second, third)"
   ]
  },
  {
   "cell_type": "markdown",
   "metadata": {},
   "source": [
    "*Math intermission*"
   ]
  },
  {
   "cell_type": "markdown",
   "metadata": {},
   "source": [
    "In addition to the usual +, -, *, and /, Python has two funky operators:\n",
    " // and %.\n",
    " \n",
    " // is integer division; a//b is a/b rounded down to the nearest whole number.\n",
    " \n",
    " Its use will become apparent when we get to list processing.\n",
    " \n",
    "% is remainder, just like it was in fourth grade. \n",
    " \n",
    " As such, (a // b).b + a%b = a, whereas a/b.b = a\n",
    "\n",
    "We can test to see if *n* is divisible by *k* by checking if (0 == n % k)\n",
    "\n",
    "We'll use this a lot."
   ]
  },
  {
   "cell_type": "markdown",
   "metadata": {},
   "source": [
    "Example program:"
   ]
  },
  {
   "cell_type": "code",
   "execution_count": 14,
   "metadata": {},
   "outputs": [],
   "source": [
    "# Get two numbers, one from 100 to 1000, another from 1 to 5,\n",
    "# and see if the first is divisible by the second.\n",
    "def isDivisible():\n",
    "    a = randint(100,1001)\n",
    "    b = randint(1,6)\n",
    "    if(0 == a % b):\n",
    "        print(\"a is divisible by b.\")"
   ]
  },
  {
   "cell_type": "markdown",
   "metadata": {},
   "source": [
    "\n",
    "\n",
    "\n"
   ]
  },
  {
   "cell_type": "code",
   "execution_count": 17,
   "metadata": {},
   "outputs": [],
   "source": [
    "#Here's another contrived example:\n",
    "def strEqual(str1, str2):\n",
    "    if (str1 == str2):\n",
    "        print(\"The strings are exactly equal\")\n",
    "    elif (str1[0] == str2[0]):\n",
    "        print(\"The strings are unequal but have the same first character\")\n",
    "    else:\n",
    "        print(\"The strings have nothing in common.\")"
   ]
  },
  {
   "cell_type": "markdown",
   "metadata": {},
   "source": [
    "There is a shortcut for *if*s in Python:\n",
    "\n",
    " (true-val) *if* (condition) *else* (else-val)\n",
    "\n",
    "It's basically the same, but it has a subtle difference. This so-called \"*ternary if*\" is a *value*, whereas a normal *if* is a *statement*.\n",
    "\n",
    "It makes no sense to say\n"
   ]
  },
  {
   "cell_type": "code",
   "execution_count": 33,
   "metadata": {},
   "outputs": [],
   "source": [
    "#a = if (b == 2):\n",
    "#  3\n",
    "#else:\n",
    "#  4"
   ]
  },
  {
   "cell_type": "markdown",
   "metadata": {},
   "source": [
    "But the ternary *if* can be used as a value!"
   ]
  },
  {
   "cell_type": "code",
   "execution_count": 34,
   "metadata": {},
   "outputs": [],
   "source": [
    "#a = 3 if b == 2 else 4"
   ]
  },
  {
   "cell_type": "markdown",
   "metadata": {},
   "source": [
    "But, in order for the ternary *if* to work, <*true-val*> and <*else-val*> must be values as well:"
   ]
  },
  {
   "cell_type": "code",
   "execution_count": 22,
   "metadata": {},
   "outputs": [],
   "source": [
    "#q = (x = 1) if y == true else return 2"
   ]
  },
  {
   "cell_type": "markdown",
   "metadata": {},
   "source": [
    "is nonsensical, because *x*=1 does not have a value, and neither does *return 2*.\n",
    "\n",
    "If it helps, you can think of"
   ]
  },
  {
   "cell_type": "code",
   "execution_count": 24,
   "metadata": {},
   "outputs": [],
   "source": [
    "#<operation> a if b else c"
   ]
  },
  {
   "cell_type": "markdown",
   "metadata": {},
   "source": [
    "as being rewritten into:"
   ]
  },
  {
   "cell_type": "code",
   "execution_count": 25,
   "metadata": {},
   "outputs": [],
   "source": [
    "#if b:\n",
    "#    <operation> a\n",
    "#else:\n",
    "#    <operation> c"
   ]
  },
  {
   "cell_type": "markdown",
   "metadata": {},
   "source": [
    "Okay, I owe you an example: Here's a coin-flipping function using a ternary operator."
   ]
  },
  {
   "cell_type": "code",
   "execution_count": 26,
   "metadata": {},
   "outputs": [],
   "source": [
    "def coinFlip():\n",
    "    return \"heads\" if randint(0,2) == 0 else \"tails\""
   ]
  },
  {
   "cell_type": "markdown",
   "metadata": {},
   "source": [
    "Finally, the literals for truth and falsehood are True and False, respectively."
   ]
  },
  {
   "cell_type": "code",
   "execution_count": 27,
   "metadata": {},
   "outputs": [],
   "source": [
    "def trueFalse():\n",
    "    a = 10\n",
    "    b = a == 10 #Since a is defined to be 10, a == 10 should return True.\n",
    "    if(b):\n",
    "        print(\"a was ten.\")\n",
    "    T0=True\n",
    "    F0=False\n",
    "    if(T0 and False):\n",
    "        print(\"true and false is true.\")\n",
    "    if(True or F0):\n",
    "        print(\"True or False is true.\")\n",
    "    if(T0 and not F0):\n",
    "        print(\"true and not false is true.\")\n",
    "    if(True != False):\n",
    "        print(\"True is not the same as False.\")"
   ]
  },
  {
   "cell_type": "markdown",
   "metadata": {},
   "source": [
    "####   *Exercises*"
   ]
  },
  {
   "cell_type": "markdown",
   "metadata": {},
   "source": [
    "1 - Rewrite the temperature converter (again!), this time taking two arguments."
   ]
  },
  {
   "cell_type": "code",
   "execution_count": 40,
   "metadata": {},
   "outputs": [],
   "source": [
    "def tempConv(initialTemp,scale):\n",
    "    pass\n",
    "#Finish the program so that it converts from C to F if scale starts with C,\n",
    "#and from F to C if the scale starts with F. Print the result. "
   ]
  },
  {
   "cell_type": "markdown",
   "metadata": {},
   "source": [
    "2 - Write a program that takes a number from the user and checks if it's even.\n",
    "\n",
    "If it's even, return True. Otherwise, return False; remember, even numbers are divisible by two."
   ]
  },
  {
   "cell_type": "code",
   "execution_count": 41,
   "metadata": {},
   "outputs": [],
   "source": [
    "def isEven(n):\n",
    "    pass"
   ]
  },
  {
   "cell_type": "markdown",
   "metadata": {},
   "source": [
    "3 - Modify *isEven* to use the ternary if operator. (It should return true orfalse.)"
   ]
  },
  {
   "cell_type": "code",
   "execution_count": null,
   "metadata": {},
   "outputs": [],
   "source": []
  },
  {
   "cell_type": "markdown",
   "metadata": {},
   "source": [
    "4 - Modify *isEven* to not include an \"if\" at all. It should be very short!"
   ]
  },
  {
   "cell_type": "code",
   "execution_count": null,
   "metadata": {},
   "outputs": [],
   "source": []
  },
  {
   "cell_type": "markdown",
   "metadata": {},
   "source": [
    "5 - Modify your last program. Have it check if the number they entered is divisible by both three AND two."
   ]
  },
  {
   "cell_type": "code",
   "execution_count": 42,
   "metadata": {},
   "outputs": [],
   "source": [
    " def is3and2(n):\n",
    "    pass"
   ]
  },
  {
   "cell_type": "markdown",
   "metadata": {},
   "source": [
    "6 - Write a program that takes a string and checks to see if the first character is A, G, T, or C. It should return true or false."
   ]
  },
  {
   "cell_type": "code",
   "execution_count": 43,
   "metadata": {},
   "outputs": [],
   "source": [
    "def isValidFirstBase(baseStr):\n",
    "    pass"
   ]
  },
  {
   "cell_type": "markdown",
   "metadata": {},
   "source": [
    "7 - Explain the results of running this function:"
   ]
  },
  {
   "cell_type": "code",
   "execution_count": 38,
   "metadata": {},
   "outputs": [],
   "source": [
    "def oddTF():\n",
    "    a = 10\n",
    "    b = 10\n",
    "    c = a = 5\n",
    "    b = c == a\n",
    "    print(\"b is\", b, \"while a is \", a, \"and c is \", c,\".\")"
   ]
  }
 ],
 "metadata": {
  "kernelspec": {
   "display_name": "Python 3",
   "language": "python",
   "name": "python3"
  },
  "language_info": {
   "codemirror_mode": {
    "name": "ipython",
    "version": 3
   },
   "file_extension": ".py",
   "mimetype": "text/x-python",
   "name": "python",
   "nbconvert_exporter": "python",
   "pygments_lexer": "ipython3",
   "version": "3.5.5"
  }
 },
 "nbformat": 4,
 "nbformat_minor": 2
}
