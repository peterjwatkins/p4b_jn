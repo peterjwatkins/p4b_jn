{
 "cells": [
  {
   "cell_type": "markdown",
   "metadata": {},
   "source": [
    "# Chapter 13: Functions III: Lambdas and functors"
   ]
  },
  {
   "cell_type": "code",
   "execution_count": 4,
   "metadata": {},
   "outputs": [],
   "source": [
    "from random import randint"
   ]
  },
  {
   "cell_type": "markdown",
   "metadata": {},
   "source": [
    "Okay, so you can define a function inside a function."
   ]
  },
  {
   "cell_type": "code",
   "execution_count": null,
   "metadata": {},
   "outputs": [],
   "source": [
    "def containedFun():\n",
    "    def plus(a,b):\n",
    "        return a+b\n",
    "    print(plus(3,4))"
   ]
  },
  {
   "cell_type": "markdown",
   "metadata": {},
   "source": [
    "But, now that we're outside *containedFun*'s scope, we can no longer access plus.\n",
    "\n",
    "For mapping, we always defined an extra global function, even though we only used it in one place. It would be cleaner to only define that function where it is needed."
   ]
  },
  {
   "cell_type": "code",
   "execution_count": null,
   "metadata": {},
   "outputs": [],
   "source": [
    "def mapListBetter(lst):\n",
    "    def plus2(a):\n",
    "        return a+2\n",
    "    return map(plus2, lst)"
   ]
  },
  {
   "cell_type": "markdown",
   "metadata": {},
   "source": [
    "We see that most of the time, we will write"
   ]
  },
  {
   "cell_type": "code",
   "execution_count": 2,
   "metadata": {},
   "outputs": [],
   "source": [
    "#def funName(<argList>):    \n",
    "#    return <some simple expression>"
   ]
  },
  {
   "cell_type": "markdown",
   "metadata": {},
   "source": [
    "Since this pattern is so common, there is a shorter form that allows in-lining.\n",
    "\n",
    "I like these things so much, I am going to use a pretty box to introduce them:"
   ]
  },
  {
   "cell_type": "code",
   "execution_count": 3,
   "metadata": {},
   "outputs": [],
   "source": [
    "{():(),():(),():()}\n",
    "{}###############{}\n",
    "{}# INTRODUCING #{}\n",
    "{}#   LAMBDAS   #{}\n",
    "{}###############{}\n",
    "{():(),():(),():()}\n",
    "#The following three functions are exactly equivalent:\n",
    "def withDef():\n",
    "    def plus(a,b):\n",
    "        return a+b\n",
    "    print(plus(3,4))\n",
    "\n",
    "def setLambda():\n",
    "    plus = lambda a,b : a+b\n",
    "    print(plus(3,4))\n",
    "\n",
    "def inlineLambda():\n",
    "    print ( (lambda a,b : a+b) (3,4))"
   ]
  },
  {
   "cell_type": "markdown",
   "metadata": {},
   "source": [
    "Okay, so the second one wasn't too bad, right?\n",
    "\n",
    "You can see that lambda is, so to speak, the part of the function that \"does the work\".\n",
    "\n",
    "You can read \"*lambda x : f(x)*\" as \"*a function that takes one parameter and returns f of that parameter*.\""
   ]
  },
  {
   "cell_type": "code",
   "execution_count": null,
   "metadata": {},
   "outputs": [],
   "source": [
    "#\"plus = lambda a,b : a+b\" therefore, reads as\n",
    "#\"'plus' is defined to be a function that takes two parameters and adds them.\"\n",
    "# \\plus/ \\------- = -----/ \\---lambda----/\\----a,b-----------/\\-:-/\\--a+b--/"
   ]
  },
  {
   "cell_type": "markdown",
   "metadata": {},
   "source": [
    "Clear on the second one? If not, ask now!\n",
    "\n",
    "Now we get to the third one. Let's go way back. Like, way, way, back."
   ]
  },
  {
   "cell_type": "code",
   "execution_count": null,
   "metadata": {},
   "outputs": [],
   "source": [
    "def useVariables():\n",
    "    #This operation:\n",
    "    a = 7\n",
    "    print(a + 4)\n",
    "    #is equivalent to this one:\n",
    "    print(7 + 4)"
   ]
  },
  {
   "cell_type": "markdown",
   "metadata": {},
   "source": [
    "Okay, you remember that. Formally, anywhere a literal (like 7) appears, we can use a name for that literal (here, we used a). The EXACT same thing is true for functions. Lambdas, then, are the literal functions!\n",
    "\n",
    "In the third case, I have skipped the step of defining the name plus, instead I just used the lambda where I would have normally used a name.\n",
    "\n",
    "This is CRAZY. Is your mind sufficiently blown yet? I remember mine was!\n",
    "\n",
    "We use lambdas frequently with map and filter.\n",
    "\n",
    "Previously, we defined a global function. At the beginning of this chapter, I introduced local functions. Now, we skip all of that with lambdas. "
   ]
  },
  {
   "cell_type": "code",
   "execution_count": null,
   "metadata": {},
   "outputs": [],
   "source": [
    "def lambdaListProc():\n",
    "    a = [1, 2, 3, 4, 5, 6, 7]\n",
    "    print(list(filter((lambda x : x % 2 == 0), a)))\n",
    "    #(I have enclosed the lambda in parentheses for clarity.)\n",
    "    print(list(map (lambda x : x + 3, a)))\n",
    "    #and here I haven't."
   ]
  },
  {
   "cell_type": "markdown",
   "metadata": {},
   "source": [
    "Okay, so that's all well and good. Let me first give a few LIMITATIONS OF LAMBDAS:\n",
    "\n",
    "A lambda may contain exactly one expression. It is invalid, therefore, to do"
   ]
  },
  {
   "cell_type": "code",
   "execution_count": null,
   "metadata": {},
   "outputs": [],
   "source": [
    "#lambda x : if x > 2:\n",
    "#      3\n",
    "#   else:\n",
    "#      4"
   ]
  },
  {
   "cell_type": "markdown",
   "metadata": {},
   "source": [
    "because it is more than an expression. (It's technically a statement.)\n",
    "\n",
    "You cannot assign in a lambda:"
   ]
  },
  {
   "cell_type": "code",
   "execution_count": null,
   "metadata": {},
   "outputs": [],
   "source": [
    "#lambda x : y = x"
   ]
  },
  {
   "cell_type": "markdown",
   "metadata": {},
   "source": [
    "is invalid.\n",
    "\n",
    "Basically, remember that the lambda returns what is after the colon; if you wouldn't return something from a function, don't put it in a lambda.\n",
    "\n",
    "Remember, there is a single-expression *if* expression, as was discussed in Chapter 05.\n",
    "\n",
    "It's mostly syntactic sugar, but it allows for things like"
   ]
  },
  {
   "cell_type": "code",
   "execution_count": null,
   "metadata": {},
   "outputs": [],
   "source": [
    "#lambda x: (int(x) if isNumeric(x) else -1)\n",
    "#(This would be equivalent to the following:\n",
    "#def funName(x):\n",
    "#   if isNumeric(x):\n",
    "#       return int(x)\n",
    "#   else:\n",
    "#       return -1\n",
    "#)"
   ]
  },
  {
   "cell_type": "markdown",
   "metadata": {},
   "source": [
    "How are lambdas better than global functions? I hope you're convinced they're terser, but they (and local functions) can also be *returned from functions*.\n",
    "\n",
    "This is awesome:"
   ]
  },
  {
   "cell_type": "code",
   "execution_count": null,
   "metadata": {},
   "outputs": [],
   "source": [
    "def addNum(n):\n",
    "    return lambda x : n + x\n",
    "\n",
    "def useAddNum():\n",
    "    plus3 = addNum(3)\n",
    "    #plus3 is now a function that adds three to a given number. \n",
    "    print(plus3(4))"
   ]
  },
  {
   "cell_type": "markdown",
   "metadata": {},
   "source": [
    "Okay, to be honest, you can return global functions, too, but this is usually useless, because the function you're returning the functor to already had access to it because it was global in the first place. \n",
    "\n",
    "Here's a function that returns a function that strips bad letters from a nucleic acid strand. If you specify it's DNA, it allows AGTC, if you specify it's RNA, it allows AGUC. "
   ]
  },
  {
   "cell_type": "code",
   "execution_count": null,
   "metadata": {},
   "outputs": [],
   "source": [
    "def processNA(dOrR):\n",
    "    def isValid(letter):\n",
    "        \n",
    "        if dOrR == 'D':\n",
    "            allowLets = ['A', 'G', 'C', 'T']\n",
    "        elif dOrR == 'R':\n",
    "            allowLets = ['A', 'G', 'C', 'U']\n",
    "        else:\n",
    "            print (\"Invalid dOrR selection: \" + dOrR)\n",
    "            a = 1/0 #Throw an unrecoverable error. \n",
    "        return letter in allowLets\n",
    "    return isValid\n",
    "\n",
    "def useProcess():\n",
    "    junkyNA = \"AGTUTCTGGCTAUTCATGATUGTCUTGACTUGUCGTAUCGATCUTGTCAGTCATUGUCAT\"\n",
    "    fixedList = list(filter( processNA('D'), junkyNA))\n",
    "    print(fixedList)"
   ]
  },
  {
   "cell_type": "markdown",
   "metadata": {},
   "source": [
    "Basically, this is not very useful at the scale we're talking about. But say you have a very complex function you're using to filter a list, and you occasionally need to tweak some factors of the function. Using this style allows a programmer to tweak the inner workings of a function without having to pick through it to see how it works.\n",
    "\n",
    "I should formalize something here: Scope. Uh, get ready.\n",
    "\n",
    "When you start defining a function, you open up a new \"scope\". This is a space for storing variables in the environment. Outside of a scope, the variables from that scope are inaccessible. We already know this:"
   ]
  },
  {
   "cell_type": "code",
   "execution_count": null,
   "metadata": {},
   "outputs": [],
   "source": [
    "def bug():\n",
    "    def a():\n",
    "        x = 1\n",
    "    def b():\n",
    "        return x\n",
    "    a()\n",
    "    return b()"
   ]
  },
  {
   "cell_type": "markdown",
   "metadata": {},
   "source": [
    "*x* was defined in *a*(), so it's not available in *b*. Similarly, I can't run *a*() from outside bug, because it's no longer in scope.\n",
    "\n",
    "What's weird is that a nested function includes its enclosing scope."
   ]
  },
  {
   "cell_type": "code",
   "execution_count": null,
   "metadata": {},
   "outputs": [],
   "source": [
    "def notBug():\n",
    "    x = 1\n",
    "    def a():\n",
    "        return x\n",
    "    return a()"
   ]
  },
  {
   "cell_type": "markdown",
   "metadata": {},
   "source": [
    "When I call *a*() in this function, the scope inside *a* includes its parent's scope, so it has access to it. "
   ]
  },
  {
   "cell_type": "markdown",
   "metadata": {},
   "source": [
    "In Python (not in all languages), you can't write to an external scope:"
   ]
  },
  {
   "cell_type": "code",
   "execution_count": null,
   "metadata": {},
   "outputs": [],
   "source": [
    "def maybeBug():\n",
    "    x = 1\n",
    "    def a():\n",
    "        x = 2\n",
    "        print(x)\n",
    "    a()\n",
    "    print(x)"
   ]
  },
  {
   "cell_type": "markdown",
   "metadata": {},
   "source": [
    "This is really peculiar. Python sees that you're trying to assign to a variable in an outer scope, and that's not allowed, so it creates a variable named *x* in the inner function's scope. This *x* now \"shadows\" the *x* from external scope. This only is a problem when I'm trying to assign to the external scope.\n",
    "\n",
    "Okay, you say, I'll make it really clear that I want to assign to the outer scope:"
   ]
  },
  {
   "cell_type": "code",
   "execution_count": null,
   "metadata": {},
   "outputs": [],
   "source": [
    "def bug2():\n",
    "    x = 1\n",
    "    def a():\n",
    "        x = x+1\n",
    "    a()\n",
    "    return x"
   ]
  },
  {
   "cell_type": "markdown",
   "metadata": {},
   "source": [
    "Okay, what? Here, we're probing the semantics of the interpreter-\n",
    "\n",
    "When the interpreter encounters the line *x*=*x*+1, first it creates an (empty) entry in the local scope for *x*, then when it gets to *x*+1, it sees that *x* is not bound in the local scope, so it's an error."
   ]
  },
  {
   "cell_type": "code",
   "execution_count": null,
   "metadata": {},
   "outputs": [],
   "source": [
    "def bug3():\n",
    "    x = 1\n",
    "    def a():\n",
    "        b = x + 1\n",
    "        x = b\n",
    "    a()\n",
    "    return x"
   ]
  },
  {
   "cell_type": "markdown",
   "metadata": {},
   "source": [
    "Okay, this is even stranger: It turns out that Python looks ahead to see what names will be defined in the local scope and makes room for them before it starts running code in the scope.\n",
    "\n",
    "This is mostly us seeing some of the assumptions that they made as they were writing the Python interpreter. By deciding what scope a variable refers to before the code is executed, we can spend less time looking up the value associated with a variable's name. \n",
    "\n",
    "Phew. Deep breath. If you don't get the scope business, you'll be fine. \n",
    "\n",
    "It comes up just about never. If you're having scope problems, your code is  probably badly written. If you use the same symbol for different variables in different places, your code is badly written and you should fix that. \n",
    "\n",
    "Even if you do get the complexities of scoping, your colleagues probably don't. =)\n",
    "\n",
    "Okay, now we're just getting esoteric:\n",
    "\n",
    "Because *addA*() tries to mutate a variable in an external scope, it doesn't work."
   ]
  },
  {
   "cell_type": "code",
   "execution_count": null,
   "metadata": {},
   "outputs": [],
   "source": [
    "#def iWish():\n",
    "#   a = 1\n",
    "#   def addA():\n",
    "#       a = a+1\n",
    "#   def getA():\n",
    "#       return a\n",
    "#   return (addA, getA)"
   ]
  },
  {
   "cell_type": "markdown",
   "metadata": {},
   "source": [
    "If it did, we would have a hidden variable - there'd be no way to access it, other than to use those functions.\n",
    "\n",
    "To get this effect, we must do something a bit more abtruse...\n",
    "\n",
    "The main difference in strange (below) is that a was just an integer above, but now it's a list on the heap. "
   ]
  },
  {
   "cell_type": "code",
   "execution_count": null,
   "metadata": {},
   "outputs": [],
   "source": [
    "def strange():\n",
    "    a = [1]\n",
    "    def mutA():\n",
    "        a[0] = a[0]+1\n",
    "    def viewA():\n",
    "        return a[0]\n",
    "    return (mutA, viewA)\n",
    "\n",
    "def useStrange():\n",
    "    mut8, view = strange()\n",
    "    mut8()\n",
    "    print(view())"
   ]
  },
  {
   "cell_type": "markdown",
   "metadata": {},
   "source": [
    "What's happening here is really peculiar: Even after we return from *strange*, its scope \"lives on\" in *mutA* and *viewA*. Even though we don't have access to *a* from outside *strange*(), methods defined inside it \"close\" over their parents' scopes, so they retain a copy of this information. I did this without telling you in *processNA* and *addNum*: Note that the inner function refers to arguments that the outer function got, even after the inner function is returned and we've left the outer function. \n",
    "\n",
    "Oh, the reason we can seemingly mutate something in the outer scope is that we don't *reassign* *a* from the outer scope. Remember back to Chapter 08, a list is stored on the heap by providing the addresses of its contents.\n",
    "\n",
    "Here, we change the data inside the list, but the list itself remains in the same place in memory."
   ]
  },
  {
   "cell_type": "markdown",
   "metadata": {},
   "source": [
    "####   *Exercises*"
   ]
  },
  {
   "cell_type": "markdown",
   "metadata": {},
   "source": [
    "1 - Write a function that returns a lambda that checks divisibility:"
   ]
  },
  {
   "cell_type": "code",
   "execution_count": null,
   "metadata": {},
   "outputs": [],
   "source": [
    "#divisibleLamb(n) -> function(x)"
   ]
  },
  {
   "cell_type": "markdown",
   "metadata": {},
   "source": [
    " that checks if *x* is divisible by *n*."
   ]
  },
  {
   "cell_type": "markdown",
   "metadata": {},
   "source": [
    "2 - Explain what's happening here:"
   ]
  },
  {
   "cell_type": "code",
   "execution_count": null,
   "metadata": {},
   "outputs": [],
   "source": [
    "def sumGen(y):\n",
    "    return lambda x:(y if x==0 else sumGen(x+y))\n",
    "#Usage examples:\n",
    "#sumGen(2)(0) -> 2\n",
    "#sumGen(3)(5)(6)(0)-> 14"
   ]
  },
  {
   "cell_type": "markdown",
   "metadata": {},
   "source": [
    "3 - *hammingDistances* from Chapter 09 can be elegantly expressed with two maps:\n",
    "Each row is a map of the hamming distance from one sequence to every other one and the whole table is a row for every sequence.\n",
    "\n",
    "Write a function that generates this table using only *map* to iterate over the sequences. (you can use *hammingDistance* from Chapter 07 to get the distance between two sequences). There should be no iteration constructs (*for* or *while*) and the function may not recur."
   ]
  }
 ],
 "metadata": {
  "kernelspec": {
   "display_name": "Python 3",
   "language": "python",
   "name": "python3"
  },
  "language_info": {
   "codemirror_mode": {
    "name": "ipython",
    "version": 3
   },
   "file_extension": ".py",
   "mimetype": "text/x-python",
   "name": "python",
   "nbconvert_exporter": "python",
   "pygments_lexer": "ipython3",
   "version": "3.5.5"
  }
 },
 "nbformat": 4,
 "nbformat_minor": 2
}
