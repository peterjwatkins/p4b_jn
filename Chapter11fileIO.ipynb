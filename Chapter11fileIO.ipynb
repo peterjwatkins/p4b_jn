{
 "cells": [
  {
   "cell_type": "markdown",
   "metadata": {},
   "source": [
    "# Chapter 11. File IO."
   ]
  },
  {
   "cell_type": "markdown",
   "metadata": {},
   "source": [
    "Home stretch, promise!\n",
    "\n",
    "Once you have this chapter down, you're ready to tackle just about any data processing task.\n",
    "\n",
    "You open a file using this syntax:"
   ]
  },
  {
   "cell_type": "code",
   "execution_count": null,
   "metadata": {},
   "outputs": [],
   "source": [
    "def fileIO():\n",
    "    f = open(\"nameOfFile\", mode='a')\n",
    "    \n",
    "    #modes:\n",
    "    #use 'a' to append to the end of a file, or create it if it doesn't exist.\n",
    "    \n",
    "    #use 'r' to read from an extant file. It is an error to try to open\n",
    "    #a file with 'r' if it doesn't exist.\n",
    "    \n",
    "    #use 'w' to delete the contents of a file and write to it. Create it if\n",
    "    #it doesn't exist. \n",
    "\n",
    "    f.write(\"This is the first line of the file.\\n\")\n",
    "    #The \\n at the end says that I've reached the end of a line.\n",
    "    f.write(\"This is the second\")\n",
    "    f.write(\"Line in the file.\\n\")\n",
    "    #These two lines write one line to the file, since there was no \\n on\n",
    "    #the first write statement.\n",
    "    f.write(\"This line is not terminated.\")\n",
    "    #When you're done with a file, be courteous and close it.\n",
    "    f.close()\n",
    "\n",
    "    #Now, to read in the contents of that file:\n",
    "    readFile = open(\"nameOfFile\", mode='r')\n",
    "    #Read all the lines of the file into a list:\n",
    "    lines = readFile.readlines()\n",
    "    readFile.close()\n",
    "    \n",
    "    s = \"\"\n",
    "    for line in lines:\n",
    "        s = s + \"{0:s}\".format(line)\n",
    "    print(s)"
   ]
  },
  {
   "cell_type": "markdown",
   "metadata": {},
   "source": [
    "####   *Exercises*"
   ]
  },
  {
   "cell_type": "markdown",
   "metadata": {},
   "source": [
    "1 - Run *fileIO*() twice. Explain the results. "
   ]
  },
  {
   "cell_type": "markdown",
   "metadata": {},
   "source": [
    "2 -  This next problem is very silly:\n",
    "\n",
    "First, you'll write a data structure to a file, then just read it back. No cheating by just using the original!\n",
    " \n",
    " *a*. Write the following two-dimensional list to a file, using whatever formatting you want. ((1, 2, 3),(4, 5, 6), (7, 8, 9), (10, 11, 12)). A suggested format would be to have each number separated by spaces for a row then have each column on a new line.(Remember *string.split*()?)\n",
    " \n",
    " *b*. Close the file, then open it for reading.\n",
    " \n",
    " *c*. Read the tuple back in and calculate the sum of the numbers in it. (there will be plenty of time to play with file IO on the projects.)"
   ]
  }
 ],
 "metadata": {
  "kernelspec": {
   "display_name": "Python 3",
   "language": "python",
   "name": "python3"
  },
  "language_info": {
   "codemirror_mode": {
    "name": "ipython",
    "version": 3
   },
   "file_extension": ".py",
   "mimetype": "text/x-python",
   "name": "python",
   "nbconvert_exporter": "python",
   "pygments_lexer": "ipython3",
   "version": "3.5.5"
  }
 },
 "nbformat": 4,
 "nbformat_minor": 2
}
