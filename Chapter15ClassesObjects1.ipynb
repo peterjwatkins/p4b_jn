{
 "cells": [
  {
   "cell_type": "markdown",
   "metadata": {},
   "source": [
    "# Chapter 15: Introduction to Objects and classes."
   ]
  },
  {
   "cell_type": "markdown",
   "metadata": {},
   "source": [
    "I will only briefly dive into classes here, there is lots more to know.\n",
    "\n",
    "These two chapters are more a \"get your feet wet\" tour of classes, so that you'll have an idea what to do when you find classes used by someone else's code, rather than preparing you to design large class-based software projects"
   ]
  },
  {
   "cell_type": "code",
   "execution_count": null,
   "metadata": {},
   "outputs": [],
   "source": [
    "#I'll start with an example of a trivial class so we can see some syntax.\n",
    "class SimpleClass:\n",
    "    \"\"\"A string enclosed in triple quotes is often used to provide documentation\n",
    "    for the class. Note that the name is capitalized on the first letter.\n",
    "    Following the documentation, I provide names of members for the class.\"\"\"\n",
    "    a = 1234\n",
    "    def f(self):\n",
    "        return \"Hello, Classes!\"\n",
    "\n",
    "#We'll get to that \"self\" business in a second, promise.\n",
    "#For now, let's play with our class.\n",
    "    \n",
    "def useSimpleClass():\n",
    "    #Make an instance of simpleClass, assign it to the name simpleObject.\n",
    "    simpleObject = SimpleClass() #I discuss what this does below, don't fret.\n",
    "    print(simpleObject.a)\n",
    "    print(simpleObject.f())\n",
    "\n",
    "    #Some subtlety of assignment:\n",
    "    sc1 = SimpleClass() #sc1 is an object on the heap. \n",
    "    sc2 = sc1             #sc2 is the same as sc1 - it is a pointer to sc1.\n",
    "    sc3 = SimpleClass() #sc3 is an object on the heap, separate from sc1.\n",
    "    def printEm(x,y,z):\n",
    "        print(\"a.a = {0}, b.a = {1}, c.a = {2}\".format(x.a,y.a,z.a))\n",
    "    printEm(sc1,sc2,sc3)\n",
    "    sc1.a = 5\n",
    "    printEm(sc1,sc2,sc3)\n",
    "    sc3.a = 2\n",
    "    printEm(sc1,sc2,sc3)\n",
    "    sc2.a = 3\n",
    "    printEm(sc1,sc2,sc3)"
   ]
  },
  {
   "cell_type": "markdown",
   "metadata": {},
   "source": [
    "We good so far? Let me formalize some terminology:\n",
    "\n",
    "A *class* is a specification, a blueprint.\n",
    "\n",
    "*SimpleClass* is a class that specifies something that contains the number 1234 and a function that returns a string.\n",
    "\n",
    "When I instantiate the class, I call it like a function with no parameters.\n",
    "\n",
    "This creates an *object*, which is a physical manifestation of that class.\n",
    "\n",
    "Calling *SimpleClass*() creates some space on the heap and stores the object there, and does some other subtle things needed to get the object ready to use.\n",
    "\n",
    "A *member* is a variable stored in an object. In *SimpleClass*, *a* is a member.\n",
    "\n",
    "A *method* is a function stored in an object. In *SimpleClass*, *f* is a method. \n",
    "\n",
    "Following this are a bunch of different things we can do with a class. I'll build on *SimpleClass* throughout this chapter, but it should be possible to skip one segment as they are pretty separate.\n",
    "\n",
    "First, let me deal with that \"self\" business. Think of it like this: Whenever you call a method on an object, it is rewritten:"
   ]
  },
  {
   "cell_type": "code",
   "execution_count": null,
   "metadata": {},
   "outputs": [],
   "source": [
    "#objectName.methodName() -> methodName(objectName)"
   ]
  },
  {
   "cell_type": "markdown",
   "metadata": {},
   "source": [
    "If the method has arguments, it becomes"
   ]
  },
  {
   "cell_type": "code",
   "execution_count": null,
   "metadata": {},
   "outputs": [],
   "source": [
    "#objectName.methodName(a,b,c) -> methodName(objectName,a,b,c)"
   ]
  },
  {
   "cell_type": "markdown",
   "metadata": {},
   "source": [
    "This is very powerful, it allows us to inspect our current object. If you followed Chapter 13 all the way through (congratulations!) you saw a funky way to mutate a hidden variable. With classes, this is normal."
   ]
  },
  {
   "cell_type": "code",
   "execution_count": null,
   "metadata": {},
   "outputs": [],
   "source": [
    "class SC1:\n",
    "    \"\"\"Here, I have added a getter and setter for some attributes.\"\"\"\n",
    "    a = 1234\n",
    "    b = \"Hello, Getters.\"\n",
    "    def getA(self):\n",
    "        return self.a\n",
    "    \n",
    "    def setA(self, newVal):\n",
    "        print(\"a was just changed from {0:d} to {1:d}\".format(self.a, newVal))\n",
    "        self.a = newVal\n",
    "\n",
    "    def getB(self):\n",
    "        return self.b\n",
    "\n",
    "    def f(self):\n",
    "        return \"Hello, Classes!\""
   ]
  },
  {
   "cell_type": "markdown",
   "metadata": {},
   "source": [
    "A note on politeness. It is generally considered rude to access any members (or methods, for that matter) that start with an underscore. \n",
    "\n",
    "In *SC1.setA*, I log each time someone changes the value of *a*. But, someone could easily foil this by assigning to *a* directly:"
   ]
  },
  {
   "cell_type": "code",
   "execution_count": null,
   "metadata": {},
   "outputs": [],
   "source": [
    "def useSC1():\n",
    "    sC = SC1()\n",
    "    sc.a = 2\n",
    "    sc.setA(3)\n",
    "    #prints that the value was changed from 2 to 3, but never mentions that it\n",
    "    #was changed to 2 in the first place. This is a great way to drive\n",
    "    #a maintenance programmer bonkers.\n",
    "\n",
    "class SC2:\n",
    "    _a = 1234\n",
    "    _b = \"Hello, protection.\"\n",
    "    def getA(self):\n",
    "        return self._a\n",
    "    \n",
    "    def setA(self, newVal):\n",
    "        print(\"a was just changed from {0:d} to {1:d}\".format(self._a, newVal))\n",
    "        self._a = newVal\n",
    "\n",
    "    def getB(self):\n",
    "        return self._b\n",
    "\n",
    "    #This method should not be accessed by outside code. \n",
    "    def _setB(self, newVal):\n",
    "        self._b = newVal\n",
    "        \n",
    "    def changeB(self, newVal):\n",
    "        if(len(newVal) < 50):\n",
    "            self._setB(newVal)\n",
    "        else:\n",
    "            raise OverflowError\n",
    "\n",
    "    def f(self):\n",
    "        return \"Hello, Classes!\"\n",
    "\n",
    "\n"
   ]
  },
  {
   "cell_type": "markdown",
   "metadata": {},
   "source": [
    "Okay, next:\n",
    "We instantiate with *ClassName*().\n",
    "\n",
    "As you might imagine, we can put things in that argument list. "
   ]
  },
  {
   "cell_type": "code",
   "execution_count": null,
   "metadata": {},
   "outputs": [],
   "source": [
    "#We define a function __init__(...) that does setup."
   ]
  },
  {
   "cell_type": "code",
   "execution_count": null,
   "metadata": {},
   "outputs": [],
   "source": [
    "class SC3:\n",
    "    #Note the lack of any members. I create them in __init__.\n",
    "\n",
    "    def __init__(self, aVal):\n",
    "        self._a = aVal #_a didn't exist before, but now that I've assigned to it\n",
    "                       #it is a part of this object. \n",
    "        self._b = \"Hello, initializers.\"\n",
    "    def getA(self):\n",
    "        return self._a\n",
    "    \n",
    "    def setA(self, newVal):\n",
    "        print(\"a was just changed from {0:d} to {1:d}\".format(self._a, newVal))\n",
    "        self._a = newVal\n",
    "\n",
    "    def getB(self):\n",
    "        return self._b\n",
    "\n",
    "    def _setB(self, newVal):\n",
    "        self._b = newVal\n",
    "        \n",
    "    def changeB(self, newVal):\n",
    "        if(len(newVal) < 50):\n",
    "            self._setB(newVal)\n",
    "\n",
    "    def f(self):\n",
    "        return \"Hello, Classes!\"\n",
    "\n",
    "\n",
    "def useSC3():\n",
    "    sc = SC3(4321)\n",
    "    print(sc.getB())\n",
    "    sc.setA(3)\n",
    "    print(sc.getA())\n",
    "\n"
   ]
  },
  {
   "cell_type": "code",
   "execution_count": null,
   "metadata": {},
   "outputs": [],
   "source": [
    "#Okay, so that \"assign to a member to create it\" behavior in that initializer is not limited to __init__().\n",
    "\n",
    "#In fact, I can do it *anywhere*. Look, here I'll punch in a new field into a simple class from *somewhere totally different*:\n",
    "\n",
    "class Stupid:\n",
    "    a = 5\n",
    "\n",
    "def playStupid():\n",
    "    s = Stupid()\n",
    "    s.b=15\n",
    "    print(s.a+s.b)\n",
    "    #You can, in theory, punch in methods, but the \"self as the first argument\"\n",
    "    #thing gets really messy, so let's not do that."
   ]
  },
  {
   "cell_type": "markdown",
   "metadata": {},
   "source": [
    "This technique is called \"duck-punching\" or \"monkey-patching\".\n",
    "\n",
    "The reason I introduce this is that you're going to encounter bugs, and it'll be because you're inadvertently duck-punching:"
   ]
  },
  {
   "cell_type": "code",
   "execution_count": null,
   "metadata": {},
   "outputs": [],
   "source": [
    "class NumHolder:\n",
    "    _a=5\n",
    "    def getA(self):\n",
    "        return self._a\n",
    "    def setA(self, newA):\n",
    "        self._A = newA\n",
    "\n",
    "def playOops():\n",
    "    o = NumHolder()\n",
    "    print(o.getA())\n",
    "    o.setA(50)\n",
    "    print(o.getA())\n",
    "\n",
    "\n",
    "# Drat. Okay, why was _a not updated?\n",
    "\n",
    "# It's because I accidentally capitalized _a to _A in setA. Unfortunately, this sort of bug is *very* hard to find,\n",
    "# and you're *going* to make it. At least now you are aware of it, and know to look for it."
   ]
  },
  {
   "cell_type": "markdown",
   "metadata": {},
   "source": [
    "####   *Exercises*"
   ]
  },
  {
   "cell_type": "markdown",
   "metadata": {},
   "source": [
    "1 -  Create a class that represents a playing card. Its constructor should take two arguments: *rank* and *suit*."
   ]
  },
  {
   "cell_type": "code",
   "execution_count": 1,
   "metadata": {},
   "outputs": [],
   "source": [
    "#It should have at least one other method, called __str__(self), that returns a string saying what the card is.\n",
    "#Print will automatically try to call __str__ when it tries to print your object.\n",
    "\n",
    "#Example:\n",
    "#c = Card(\"ace\", \"diamonds\")\n",
    "#print(c) #should print \"ace of diamonds\".\n",
    "class Card:\n",
    "    pass"
   ]
  },
  {
   "cell_type": "markdown",
   "metadata": {},
   "source": [
    "2 - Write a function that takes two cards and returns 1 if the first one is higher-valued, 0 if they are identical, and -1 if the second is higher-valued.\n",
    "\n",
    "As a reminder, value is determined first by rank (all fives outrank all threes) and then by suit (spades outrank diamonds, which outrank hearts, which outrank clubs)."
   ]
  }
 ],
 "metadata": {
  "kernelspec": {
   "display_name": "Python 3",
   "language": "python",
   "name": "python3"
  },
  "language_info": {
   "codemirror_mode": {
    "name": "ipython",
    "version": 3
   },
   "file_extension": ".py",
   "mimetype": "text/x-python",
   "name": "python",
   "nbconvert_exporter": "python",
   "pygments_lexer": "ipython3",
   "version": "3.5.5"
  }
 },
 "nbformat": 4,
 "nbformat_minor": 2
}
