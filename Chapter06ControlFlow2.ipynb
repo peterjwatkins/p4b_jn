{
 "cells": [
  {
   "cell_type": "markdown",
   "metadata": {},
   "source": [
    "# Chapter 6: Control flow II: Iteration"
   ]
  },
  {
   "cell_type": "markdown",
   "metadata": {},
   "source": [
    "This chapter introduces the last necessity of structured programming: \n",
    "\n",
    "The ability to repeat a segment of code."
   ]
  },
  {
   "cell_type": "markdown",
   "metadata": {},
   "source": [
    "First, the easy one: *for*.\n",
    "\n",
    "*for* does something a set number of times.\n",
    "\n",
    "Here's the syntax:"
   ]
  },
  {
   "cell_type": "code",
   "execution_count": null,
   "metadata": {},
   "outputs": [],
   "source": [
    "def iteration():\n",
    "    for var in range(0, 10):\n",
    "        print(\"I'm in the loop!\")\n",
    "    print(\"I'm out of the loop!\")\n",
    "\n",
    "    #var is a variable. At the beginning of each pass, it will be\n",
    "    #increased by one. We can use var inside the loop, thus:\n",
    "\n",
    "    for var in range(0, 10):\n",
    "        print(\"var is \",var)\n",
    "    print(\"the loop is done.\")"
   ]
  },
  {
   "cell_type": "markdown",
   "metadata": {},
   "source": [
    "If you run that, you'll see that var takes on the values from zero to nine - the reason it's not 0 to 10 is that you'd pass through the loop eleven times if you did that (more on this in chapter 8.)\n",
    "\n"
   ]
  },
  {
   "cell_type": "markdown",
   "metadata": {},
   "source": [
    "Example: the *factorial* function.\n",
    "    \n",
    "*factorial*(5) is defined to be 5 x 4 x 3 x 2 x 1. \n",
    "\n",
    "We'll use a variable to accumulate\n",
    "the product.\n"
   ]
  },
  {
   "cell_type": "code",
   "execution_count": null,
   "metadata": {},
   "outputs": [],
   "source": [
    "def factorial(numberToFact):\n",
    "    accum = 1\n",
    "    for i in range(1,numberToFact + 1): #numberToFact + 1 so it actually gets\n",
    "                                        #the last one.\n",
    "        accum = accum * i\n",
    "    print (numberToFact, \" factorial is \",accum)"
   ]
  },
  {
   "cell_type": "markdown",
   "metadata": {},
   "source": [
    "----------"
   ]
  },
  {
   "cell_type": "markdown",
   "metadata": {},
   "source": [
    "The *while* loop.\n",
    "\n",
    "\n",
    "This is a more general version of the *for* loop."
   ]
  },
  {
   "cell_type": "code",
   "execution_count": null,
   "metadata": {},
   "outputs": [],
   "source": [
    "#while(condition):\n",
    "#   stuff to do.\n",
    "#stuff to do after condition is false.\n",
    "\n",
    "def whileDemo():\n",
    "    a = 1\n",
    "    b = 20\n",
    "    while(a <= b):\n",
    "        a = a + 1\n",
    "    print(\" a is \", a, \" and b is \",b)"
   ]
  },
  {
   "cell_type": "markdown",
   "metadata": {},
   "source": [
    "The danger with *while* loops is that condition may never become false.\n",
    "\n",
    "Consider the following:"
   ]
  },
  {
   "cell_type": "code",
   "execution_count": null,
   "metadata": {},
   "outputs": [],
   "source": [
    "#a = 1\n",
    "#b = 2\n",
    "#while (a < b):\n",
    "#    b = b + 1\n",
    "#print(\"Done.\")"
   ]
  },
  {
   "cell_type": "markdown",
   "metadata": {},
   "source": [
    "This loop will never terminate, because *a* will never be greater than *b*. \n",
    "\n",
    "If you know how many times you want something in a loop to happen, use a *for* -\n",
    "only use *while* loops if the end condition is bizarre."
   ]
  },
  {
   "cell_type": "markdown",
   "metadata": {},
   "source": [
    "####   *Exercises*"
   ]
  },
  {
   "cell_type": "markdown",
   "metadata": {},
   "source": [
    "\n",
    "1 - Write a program to list every number from 1 to 1000 (including 1000) that\n",
    "is divisible by both three AND five."
   ]
  },
  {
   "cell_type": "code",
   "execution_count": null,
   "metadata": {},
   "outputs": [],
   "source": [
    "def threeFive():\n",
    "    pass"
   ]
  },
  {
   "cell_type": "markdown",
   "metadata": {},
   "source": [
    "2 - Write a function that checks to see if each letter in a string is a valid\n",
    "dna base. You might want to import your single-letter checker from the last\n",
    "chapter. It should return 0 if there were no invalid letters, or the number\n",
    "of invalid letters otherwise. You can use *len(stringName)* to calculate the\n",
    "length of a string."
   ]
  },
  {
   "cell_type": "code",
   "execution_count": null,
   "metadata": {},
   "outputs": [],
   "source": [
    "def isValidDNA(dna):\n",
    "    pass"
   ]
  },
  {
   "cell_type": "markdown",
   "metadata": {},
   "source": [
    "3 - The Collatz conjecture is an interesting mathematical puzzle.\n",
    "It says: \n",
    "\n",
    "Pick a number *n*.\n",
    "\n",
    "If *n* is even, divide it by two. Otherewise, if it's odd then multiply it by three and add one. If you repeat this process (dividing or multiplying and adding) enough times, you'll eventually get to one.\n",
    "\n",
    "As an example, if we start with the number 7, since 7 is odd, it is multiplied by three and with one added. This gives 22, which is now even and so it is divided by two to give 11. Thus, 11 is odd, so it is now multiply by three and with one added to give 34, which is even and it is divided by 2 to give 17, and so the cycle continues.\n",
    "\n",
    "In summary, 7 -> 22 -> 11 -> 34 -> 17 -> 52 -> 26 -> 13 -> 40 -> 20 -> 10 -> 5 -> 16 -> 8 -> 4 -> 2 -> 1\n",
    "  \n",
    "It is believed that every (positive) number converges to 1 eventually.\n",
    "\n",
    "Write a program to generate this sequence for a given number. Have it print each number in the path. Check the program by running 7.\n",
    "\n",
    "You should get the exact same sequence as seen above. Then, try the number 13.\n",
    "\n",
    "How many steps does that take?"
   ]
  },
  {
   "cell_type": "code",
   "execution_count": null,
   "metadata": {},
   "outputs": [],
   "source": [
    "def collatz():\n",
    "    pass"
   ]
  }
 ],
 "metadata": {
  "kernelspec": {
   "display_name": "Python 3",
   "language": "python",
   "name": "python3"
  },
  "language_info": {
   "codemirror_mode": {
    "name": "ipython",
    "version": 3
   },
   "file_extension": ".py",
   "mimetype": "text/x-python",
   "name": "python",
   "nbconvert_exporter": "python",
   "pygments_lexer": "ipython3",
   "version": "3.5.5"
  }
 },
 "nbformat": 4,
 "nbformat_minor": 2
}
