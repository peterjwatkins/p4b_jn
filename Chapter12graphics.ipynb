{
 "cells": [
  {
   "cell_type": "markdown",
   "metadata": {},
   "source": [
    "# Chapter 12. Graphics"
   ]
  },
  {
   "cell_type": "code",
   "execution_count": 7,
   "metadata": {},
   "outputs": [],
   "source": [
    "from zellegraphics import *\n",
    "from random import random\n",
    "from math import sin, cos\n",
    "from collections import deque"
   ]
  },
  {
   "cell_type": "markdown",
   "metadata": {},
   "source": [
    "I think this is the most fun chapter. The library you're using  (Zellegraphics) is pretty easy to use, though not particularly fast as graphics libraries go. \n",
    "\n",
    "First, you need a graphics window to do anything."
   ]
  },
  {
   "cell_type": "code",
   "execution_count": 8,
   "metadata": {},
   "outputs": [],
   "source": [
    "def boringWindow():\n",
    "    win = GraphWin(\"first window\", 640, 480)\n",
    "    #This creates a new graphWin for us to use. Argument 0 is the title,\n",
    "    #argument 1 is the width, argument 2 the height. Units are pixels. \n",
    "\n",
    "    #This is the region where we'll put our code. \n",
    "\n",
    "    win.getMouse() #This waits until the user clicks the mouse. \n",
    "    win.close() #Closes the window."
   ]
  },
  {
   "cell_type": "code",
   "execution_count": 11,
   "metadata": {},
   "outputs": [
    {
     "ename": "GraphicsError",
     "evalue": "('g', 'e', 't', 'M', 'o', 'u', 's', 'e', ' ', 'i', 'n', ' ', 'c', 'l', 'o', 's', 'e', 'd', ' ', 'w', 'i', 'n', 'd', 'o', 'w')",
     "output_type": "error",
     "traceback": [
      "\u001b[1;31m---------------------------------------------------------------------------\u001b[0m",
      "\u001b[1;31mGraphicsError\u001b[0m                             Traceback (most recent call last)",
      "\u001b[1;32m<ipython-input-11-2b75326f0768>\u001b[0m in \u001b[0;36m<module>\u001b[1;34m()\u001b[0m\n\u001b[1;32m----> 1\u001b[1;33m \u001b[0mboringWindow\u001b[0m\u001b[1;33m(\u001b[0m\u001b[1;33m)\u001b[0m\u001b[1;33m\u001b[0m\u001b[0m\n\u001b[0m",
      "\u001b[1;32m<ipython-input-8-695d89010b5e>\u001b[0m in \u001b[0;36mboringWindow\u001b[1;34m()\u001b[0m\n\u001b[0;32m      6\u001b[0m     \u001b[1;31m#This is the region where we'll put our code.\u001b[0m\u001b[1;33m\u001b[0m\u001b[1;33m\u001b[0m\u001b[0m\n\u001b[0;32m      7\u001b[0m \u001b[1;33m\u001b[0m\u001b[0m\n\u001b[1;32m----> 8\u001b[1;33m     \u001b[0mwin\u001b[0m\u001b[1;33m.\u001b[0m\u001b[0mgetMouse\u001b[0m\u001b[1;33m(\u001b[0m\u001b[1;33m)\u001b[0m \u001b[1;31m#This waits until the user clicks the mouse.\u001b[0m\u001b[1;33m\u001b[0m\u001b[0m\n\u001b[0m\u001b[0;32m      9\u001b[0m     \u001b[0mwin\u001b[0m\u001b[1;33m.\u001b[0m\u001b[0mclose\u001b[0m\u001b[1;33m(\u001b[0m\u001b[1;33m)\u001b[0m \u001b[1;31m#Closes the window.\u001b[0m\u001b[1;33m\u001b[0m\u001b[0m\n",
      "\u001b[1;32m~\\Documents\\p4b_jn\\zellegraphics.py\u001b[0m in \u001b[0;36mgetMouse\u001b[1;34m(self)\u001b[0m\n\u001b[0;32m    273\u001b[0m         \u001b[1;32mwhile\u001b[0m \u001b[0mself\u001b[0m\u001b[1;33m.\u001b[0m\u001b[0mmouseX\u001b[0m \u001b[1;33m==\u001b[0m \u001b[1;32mNone\u001b[0m \u001b[1;32mor\u001b[0m \u001b[0mself\u001b[0m\u001b[1;33m.\u001b[0m\u001b[0mmouseY\u001b[0m \u001b[1;33m==\u001b[0m \u001b[1;32mNone\u001b[0m\u001b[1;33m:\u001b[0m\u001b[1;33m\u001b[0m\u001b[0m\n\u001b[0;32m    274\u001b[0m             \u001b[0mself\u001b[0m\u001b[1;33m.\u001b[0m\u001b[0mupdate\u001b[0m\u001b[1;33m(\u001b[0m\u001b[1;33m)\u001b[0m\u001b[1;33m\u001b[0m\u001b[0m\n\u001b[1;32m--> 275\u001b[1;33m             \u001b[1;32mif\u001b[0m \u001b[0mself\u001b[0m\u001b[1;33m.\u001b[0m\u001b[0misClosed\u001b[0m\u001b[1;33m(\u001b[0m\u001b[1;33m)\u001b[0m\u001b[1;33m:\u001b[0m \u001b[1;32mraise\u001b[0m \u001b[0mGraphicsError\u001b[0m\u001b[1;33m(\u001b[0m\u001b[1;34m\"getMouse in closed window\"\u001b[0m\u001b[1;33m)\u001b[0m\u001b[1;33m\u001b[0m\u001b[0m\n\u001b[0m\u001b[0;32m    276\u001b[0m             \u001b[0mtime\u001b[0m\u001b[1;33m.\u001b[0m\u001b[0msleep\u001b[0m\u001b[1;33m(\u001b[0m\u001b[1;36m.1\u001b[0m\u001b[1;33m)\u001b[0m \u001b[1;31m# give up thread\u001b[0m\u001b[1;33m\u001b[0m\u001b[0m\n\u001b[0;32m    277\u001b[0m         \u001b[0mx\u001b[0m\u001b[1;33m,\u001b[0m\u001b[0my\u001b[0m \u001b[1;33m=\u001b[0m \u001b[0mself\u001b[0m\u001b[1;33m.\u001b[0m\u001b[0mtoWorld\u001b[0m\u001b[1;33m(\u001b[0m\u001b[0mself\u001b[0m\u001b[1;33m.\u001b[0m\u001b[0mmouseX\u001b[0m\u001b[1;33m,\u001b[0m \u001b[0mself\u001b[0m\u001b[1;33m.\u001b[0m\u001b[0mmouseY\u001b[0m\u001b[1;33m)\u001b[0m\u001b[1;33m\u001b[0m\u001b[0m\n",
      "\u001b[1;31mGraphicsError\u001b[0m: ('g', 'e', 't', 'M', 'o', 'u', 's', 'e', ' ', 'i', 'n', ' ', 'c', 'l', 'o', 's', 'e', 'd', ' ', 'w', 'i', 'n', 'd', 'o', 'w')"
     ]
    }
   ],
   "source": [
    "boringWindow()"
   ]
  },
  {
   "cell_type": "markdown",
   "metadata": {},
   "source": [
    "I won't comment very carefully in this chapter. Refer to the documentation provided for the zellegraphics module. "
   ]
  },
  {
   "cell_type": "code",
   "execution_count": 9,
   "metadata": {},
   "outputs": [],
   "source": [
    "def pixels():\n",
    "    win = GraphWin(\"Pixels!\",640,480)\n",
    "\n",
    "    win.plot(10,10,'red')\n",
    "\n",
    "    for i in range(40,100):\n",
    "        win.plot(i,10,'blue')\n",
    "\n",
    "\n",
    "    yCoord = 0\n",
    "    xCoord = 0\n",
    "    for i in range(20):\n",
    "        for i in range(40):\n",
    "            yCoord = yCoord + 4\n",
    "            xCoord = xCoord + 16\n",
    "            win.plot(xCoord,yCoord,\"blue\")\n",
    "        for i in range(40):\n",
    "            yCoord = yCoord + 4\n",
    "            xCoord = xCoord - 16\n",
    "            win.plot(xCoord,yCoord,\"blue\")\n",
    "        \n",
    "    win.getMouse()\n",
    "    win.close()\n",
    "\n",
    "#Point is a class in zellegraphics we'll use often. \n",
    "\n",
    "def lines():\n",
    "    win = GraphWin(\"Lines!\",640,480)\n",
    "\n",
    "    centerPoint = Point(640/2,480/2)\n",
    "\n",
    "    for i in range(0,640,32):\n",
    "        newPoint = Point(i,1)\n",
    "        line = Line(centerPoint, newPoint)\n",
    "        line.draw(win)\n",
    "    for i in range(0,480,2):\n",
    "        newPoint = Point(640,i)\n",
    "        line = Line(centerPoint, newPoint)\n",
    "        line.draw(win)\n",
    "    for i in range(640,0,-4):\n",
    "        newPoint = Point(i,480)\n",
    "        line = Line(centerPoint, newPoint)\n",
    "        line.draw(win)\n",
    "    for i in range(480,0,-8):\n",
    "        newPoint = Point(0,i)\n",
    "        line = Line(centerPoint, newPoint)\n",
    "        line.draw(win)\n",
    "    \n",
    "    win.getMouse()\n",
    "    win.close()\n",
    "\n",
    "def circles():\n",
    "\n",
    "    cirs = deque()\n",
    "    #A deque (pronounced \"deck\", short for double-ended queue) is a data\n",
    "    #structure, like a tuple, dictionary, or list. It is unlike those,\n",
    "    #though, in that it does not support random access. You can only access\n",
    "    #elements on the ends of the deque. Think beads on a string - you can\n",
    "    #add to an end, remove from an end, but you can't add to the middle.\n",
    "    #Python's standard library contains a rich collection of data structures.\n",
    "    #Check out the online documentation to see the methods that a deque\n",
    "    #supports.\n",
    "    #In this code, once it gets going, I add circles to the front of the\n",
    "    #deque, and remove them from the back. You should be able to visualize this\n",
    "    #when circles() is called.\n",
    "    \n",
    "    win = GraphWin(\"Circles!\",640,480, autoflush = False)\n",
    "    #Since this goes on for a while, check back with the user every now and then\n",
    "    #to see if they want to end. We'll use checkMouse()\n",
    "    win.checkMouse()\n",
    "    #The first one burns any lingering clicks. \n",
    "\n",
    "    cenx = 640/2\n",
    "    ceny = 480/2\n",
    "    radius = 10\n",
    "    #velocities of the circle\n",
    "    vx = 0\n",
    "    vy = 0\n",
    "    vr = 0\n",
    "    #color coordinates of the circle\n",
    "    r = 50\n",
    "    g = 50\n",
    "    b = 50\n",
    "    #increment in the color space\n",
    "    rinc = ginc = binc = 1\n",
    "    for j in range(1000):\n",
    "        vx /= 2\n",
    "        vy /= 2\n",
    "        vr = -1/2* abs(vr)\n",
    "        if(win.checkMouse() != None):\n",
    "            win.close()\n",
    "            return \n",
    "        for i in range(100):\n",
    "            \n",
    "            cenx = (cenx + vx*2)%640\n",
    "            ceny = (ceny + vy)%480\n",
    "            radius = radius + vr\n",
    "            if(radius < 10):\n",
    "                vr = vr + 1\n",
    "            if (radius > 200):\n",
    "                vr = vr - 1\n",
    "            vx = vx + (random()- 0.5)*0.2\n",
    "            vy = vy + (random()- 0.5)*0.2\n",
    "            vr = (vr + (random()-0.5)*0.1)\n",
    "            r = (r + random()*rinc*2)%255\n",
    "            g = (g + random()*ginc*2.1)%255\n",
    "            b = (b + random()*binc*2.2)%255\n",
    "            rinc,ginc,binc = getincs(r,g,b,rinc,ginc,binc) #Tuple assignment!\n",
    "                                            #see Chapter 08, extractInfo(). \n",
    "            cir = Circle(Point(cenx,ceny),radius)\n",
    "            cir.setOutline(color_rgb(r,g,b))\n",
    "            cir.setWidth(10)\n",
    "            cir.draw(win)\n",
    "            cirs.append(cir)\n",
    "            if(j > 2):\n",
    "                cirs.popleft().undraw()\n",
    "            if(i%2 == 0):#only update the graphics every few loop passes.\n",
    "                update()\n",
    "    win.getMouse()\n",
    "    win.close()\n",
    "\n",
    "\n",
    "def getincs(r,g,b,rinc,ginc,binc):\n",
    "    if(r > 251):\n",
    "        rinc = -1\n",
    "    if(g > 251):\n",
    "        ginc = -1\n",
    "    if(b > 251):\n",
    "        binc = -1\n",
    "    if(r < 5):\n",
    "        rinc = 1\n",
    "    if(g < 5):\n",
    "        ginc = 1\n",
    "    if(b < 5):\n",
    "        binc = 1\n",
    "    return (rinc,ginc,binc)"
   ]
  },
  {
   "cell_type": "markdown",
   "metadata": {},
   "source": [
    "####   *Exercises*"
   ]
  },
  {
   "cell_type": "markdown",
   "metadata": {},
   "source": [
    "1 - Write a program that displays a circle on the screen. When the user clicks, move the circle to where the mouse clicked.\n"
   ]
  },
  {
   "cell_type": "code",
   "execution_count": 5,
   "metadata": {},
   "outputs": [],
   "source": [
    "def circleMove():\n",
    "    pass"
   ]
  },
  {
   "cell_type": "markdown",
   "metadata": {},
   "source": [
    "2- Write a program that shows the face of a clock.\n",
    "\n",
    "It should have numbers at the correct positions, and hour and minute hands. Update the position of the minute hand one minute at a time.Make sure the hour hand moves at the correct rate relative to the minute hand. (Don't worry about updating the clock at the correct speed)\n",
    "\n",
    "When the user clicks the mouse, exit the program. "
   ]
  },
  {
   "cell_type": "code",
   "execution_count": 6,
   "metadata": {},
   "outputs": [],
   "source": [
    "#Here is a handy utility function. Given a center point of a circle, gives you\n",
    "#the position of a point on its edge at degrees from the top.\n",
    "\n",
    "#A picture is worth a thousand words:\n",
    "#\n",
    "#                        __.......__                        \n",
    "#                   _.-''           '-..                    \n",
    "#                ,-'                    '-.                 \n",
    "#              ,'                          '.               \n",
    "#            ,'                              '\\             \n",
    "#           /                                  `            \n",
    "#          /                   <-.              `.          \n",
    "#         /                       \\              \\          \n",
    "#        |                         \\              |         \n",
    "#        |                         | degrees      |         \n",
    "#        |                  Center /               |        \n",
    "#        |                     \\  /                |        \n",
    "#        |                     r\\V                .'        \n",
    "#        |                      a\\                |         \n",
    "#         |                      d\\              .'         \n",
    "#          \\                      i\\             /          \n",
    "#           \\                      u\\          ,'           \n",
    "#            `                      s\\        /             \n",
    "#             '.                      \\     ,'              \n",
    "#               '-.                    \\ _,'             \n",
    "#                  '-._              _,-X                   \n",
    "#                      '`--......---'                       \n",
    "#\n",
    "#returns the point X.\n",
    "#\n",
    "#\n",
    "\n",
    "def circlePoint(centerPoint, radius, degrees):\n",
    "    px = centerPoint.getX()\n",
    "    py = centerPoint.getY()\n",
    "    unitDeltax = sin(degrees*3.1415/180)\n",
    "    unitDeltay = cos(degrees*3.1415/180)\n",
    "    dx = unitDeltax * radius\n",
    "    dy = unitDeltay * radius\n",
    "    return Point(px + dx, py-dy)\n",
    "\n",
    "\n",
    "def watch():\n",
    "    pass"
   ]
  },
  {
   "cell_type": "code",
   "execution_count": null,
   "metadata": {},
   "outputs": [],
   "source": []
  }
 ],
 "metadata": {
  "kernelspec": {
   "display_name": "Python 3",
   "language": "python",
   "name": "python3"
  },
  "language_info": {
   "codemirror_mode": {
    "name": "ipython",
    "version": 3
   },
   "file_extension": ".py",
   "mimetype": "text/x-python",
   "name": "python",
   "nbconvert_exporter": "python",
   "pygments_lexer": "ipython3",
   "version": "3.5.5"
  }
 },
 "nbformat": 4,
 "nbformat_minor": 2
}
