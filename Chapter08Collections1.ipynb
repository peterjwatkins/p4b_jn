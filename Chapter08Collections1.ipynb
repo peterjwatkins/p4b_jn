{
 "cells": [
  {
   "cell_type": "markdown",
   "metadata": {},
   "source": [
    "# Chapter 8: Collections I: Sequence syntax."
   ]
  },
  {
   "cell_type": "code",
   "execution_count": 16,
   "metadata": {},
   "outputs": [],
   "source": [
    "from math import sqrt"
   ]
  },
  {
   "cell_type": "markdown",
   "metadata": {},
   "source": [
    "Sequences are Python's main data structures. They offer a way to store more than one thing in a variable.\n",
    "\n",
    "We start with the simplest sequence, the *tuple*. A *tuple* is an ordered collection of things."
   ]
  },
  {
   "cell_type": "code",
   "execution_count": 17,
   "metadata": {},
   "outputs": [],
   "source": [
    "def tupleMake():\n",
    "    #We define a tuple by separating things with commas and surrounding them\n",
    "    #with parentheses.\n",
    "    #Here is a tuple of three numbers:\n",
    "    threeNums = (1, 2, 3)\n",
    "    #Tuples can have dissimilar elements:\n",
    "    threeThings = (1, False, \"astring\")\n",
    "\n",
    "    #A single element tuple is represented by a thing followed by a comma:\n",
    "    oneThingTpl = (1,)\n",
    "    #(See the low-level note below for an explanation of how this differs from:\n",
    "    oneThingNotTpl = 1 #)\n",
    "\n",
    "    #We represent the empty tuple by () \n",
    "    emptyTuple = ()\n",
    "\n",
    "    #I can store *anything* in a tuple. Even another tuple!\n",
    "    nestedTuple = (1, 2, (1, 3), (\"hello\", 4.5, ( False, False), ()))"
   ]
  },
  {
   "cell_type": "markdown",
   "metadata": {},
   "source": [
    "##### *Optional interlude*\n",
    "\n",
    "Low-level explanation of sequences.\n",
    "\n",
    "We will consider this snippet of code:"
   ]
  },
  {
   "cell_type": "code",
   "execution_count": 18,
   "metadata": {},
   "outputs": [],
   "source": [
    "def lowLevel():\n",
    "    a = 10\n",
    "    b = (15,20)\n",
    "    print(a)\n",
    "    print(b)"
   ]
  },
  {
   "cell_type": "markdown",
   "metadata": {},
   "source": [
    "Okay, this is going to get hairy. Brace yourself.\n",
    "\n",
    "When Python encounters\n",
    "the first line, it figures out that you want to do an assignment (it knows\n",
    "this because the second element of the line is an = sign).\n",
    "\n",
    "So, it evaluates the right-hand side of the statement. When Python interprets\n",
    "the number 10, it finds some space in memory, and creates an object there. \n",
    "\n",
    "Of course, this object contains the number (in binary, 00001010).\n",
    "\n",
    "But if the object only contained the binary number 0001010, when Python saw that\n",
    "memory, it wouldn't know it was a number.\n",
    "\n",
    "It could be a date, it could be a character, it could be anything. \n",
    "\n",
    "So, Python stores a second thing in this object: the type of the object.\n",
    "Here's what memory looks like when python creates the object for the number 10:"
   ]
  },
  {
   "cell_type": "code",
   "execution_count": 19,
   "metadata": {},
   "outputs": [],
   "source": [
    "#    ENVIRONMENT           HEAP\n",
    "#    ________             _______\n",
    "#   |        |         1 |       |\n",
    "#   |        |         2 |       |\n",
    "#   |        |         3 |       |\n",
    "#   |        |         4 |int 10 | <--\n",
    "#   |        |         5 |       |\n",
    "#   |        |         6 |       |\n",
    "#   |        |         7 |       |\n",
    "#   |        |         8 |       |\n",
    "#   |        |         9 |       |\n",
    "#   |________|        10 |_______|"
   ]
  },
  {
   "cell_type": "markdown",
   "metadata": {},
   "source": [
    "The arrow indicates something has changed."
   ]
  },
  {
   "cell_type": "markdown",
   "metadata": {},
   "source": [
    "The \"heap\" is the bulk of memory. All objects (in Python, at least) are\n",
    "stored on the heap. I'll get to the environment part next, but for now,\n",
    "the picture is that Python has found some free space on the heap,\n",
    "(it picked address 4 on the heap, which just corresponds to the fourth\n",
    "word of memory Python has access to.)\n",
    "and Python stored the number object there. So we're done with the \n",
    "right-hand side of the line \"a = 10\" \n",
    "\n",
    "Now, Python binds *a* to the object created. It stores this 'binding' in\n",
    "the environment, so any time the code refers to '*a*', Python will know\n",
    "where in memory to fetch the value. \n"
   ]
  },
  {
   "cell_type": "code",
   "execution_count": null,
   "metadata": {},
   "outputs": [],
   "source": [
    "#    ENVIRONMENT           HEAP\n",
    "#    ________             _______\n",
    "#   |a     4 | <--     1 |       |\n",
    "#   |        |         2 |       |\n",
    "#   |        |         3 |       |\n",
    "#   |        |         4 |int 10 |\n",
    "#   |        |         5 |       |\n",
    "#   |        |         6 |       |\n",
    "#   |        |         7 |       |\n",
    "#   |        |         8 |       |\n",
    "#   |        |         9 |       |\n",
    "#   |________|        10 |_______|"
   ]
  },
  {
   "cell_type": "markdown",
   "metadata": {},
   "source": [
    "Now, any time the code refers to '*a*', Python will search the environment,\n",
    "see that '*a*' is stored at address 4 in memory, and fetch the number object\n",
    "created earlier. \n",
    "\n",
    "Now, we get to the creation of a tuple. When Python sees \"b = (15,20)\",\n",
    "it first creates each element of the tuple on the heap - in this case, \n",
    "that's the numbers 15 and 20:"
   ]
  },
  {
   "cell_type": "code",
   "execution_count": 6,
   "metadata": {},
   "outputs": [],
   "source": [
    "#    ENVIRONMENT           HEAP\n",
    "#    ________             _______\n",
    "#   |a     4 |         1 |int 15 | <--\n",
    "#   |        |         2 |       |\n",
    "#   |        |         3 |int 20 | <--\n",
    "#   |        |         4 |int 10 | \n",
    "#   |        |         5 |       |\n",
    "#   |        |         6 |       |\n",
    "#   |        |         7 |       |\n",
    "#   |        |         8 |       |\n",
    "#   |        |         9 |       |\n",
    "#   |________|        10 |_______|"
   ]
  },
  {
   "cell_type": "markdown",
   "metadata": {},
   "source": [
    "Now, it creates the tuple itself. The tuple is just the addresses of each of its elements, and a length."
   ]
  },
  {
   "cell_type": "code",
   "execution_count": 7,
   "metadata": {},
   "outputs": [],
   "source": [
    "#    ENVIRONMENT           HEAP\n",
    "#    ________             _______\n",
    "#   |a     4 |         1 |int 15 |\n",
    "#   |        |         2 |       |\n",
    "#   |        |         3 |int 20 |\n",
    "#   |        |         4 |int 10 |\n",
    "#   |        |         5 |       |\n",
    "#   |        |         6 |tpl  2 | <-- \n",
    "#   |        |         7 |     1 | <-- \n",
    "#   |        |         8 |     3 | <--\n",
    "#   |        |         9 |       |\n",
    "#   |________|        10 |_______|"
   ]
  },
  {
   "cell_type": "markdown",
   "metadata": {},
   "source": [
    "The first line (address 6) identifies the object as a tuple of length 2.\n",
    "Then, the next two lines give the addresses of each of the elements. Here, the\n",
    "elements are stored at address 1 and 3, in that order. \n",
    "\n",
    "Now that the tuple has been created, we create a binding for the variable '*b*'\n",
    "to that tuple:"
   ]
  },
  {
   "cell_type": "code",
   "execution_count": 8,
   "metadata": {},
   "outputs": [],
   "source": [
    "#    ENVIRONMENT           HEAP\n",
    "#    ________             _______\n",
    "#   |a     4 |         1 |int 15 |\n",
    "#   |b     6 | <--     2 |       |\n",
    "#   |        |         3 |int 20 |\n",
    "#   |        |         4 |int 10 |\n",
    "#   |        |         5 |       |\n",
    "#   |        |         6 |tpl  2 |\n",
    "#   |        |         7 |     1 |\n",
    "#   |        |         8 |     3 |\n",
    "#   |        |         9 |       |\n",
    "#   |________|        10 |_______|"
   ]
  },
  {
   "cell_type": "markdown",
   "metadata": {},
   "source": [
    "So, when Python encounters the statement \"*print(a)*\", it first looks up the \n",
    "symbol '*a*' in the environment, then fetches the object at address 4. \n",
    "It passes that object to the print function, which converts it to the \n",
    "appropriate characters to display on the screen. \n",
    "\n",
    "So now, what's the difference between\n",
    "\n",
    "*c* = 7\n",
    "and \n",
    "*d* = (7,)\n",
    "? \n",
    "\n",
    "Well, after running those lines, our environment and heap would look like:"
   ]
  },
  {
   "cell_type": "code",
   "execution_count": 9,
   "metadata": {},
   "outputs": [],
   "source": [
    "#    ENVIRONMENT           HEAP\n",
    "#    ________             _______\n",
    "#   |a     4 |         1 |int 15 |\n",
    "#   |b     6 |         2 |int  7 | <--\n",
    "#   |c    10 | <--     3 |int 20 |\n",
    "#   |d    12 | <--     4 |int 10 |\n",
    "#   |        |         5 |       |\n",
    "#   |        |         6 |tpl  2 |\n",
    "#   |        |         7 |     1 |\n",
    "#   |        |         8 |     3 |\n",
    "#   |        |         9 |       |\n",
    "#   |        |        10 |int  7 | <--\n",
    "#   |        |        11 |       |\n",
    "#   |        |        12 |tpl  1 | <--\n",
    "#   |        |        13 |     2 | <--\n",
    "#   |        |        14 |       |\n",
    "#   |        |        15 |       |\n",
    "#   |        |        16 |       |\n",
    "#   |________|        17 |_______|"
   ]
  },
  {
   "cell_type": "markdown",
   "metadata": {},
   "source": [
    "Make sense? Okay, hotshot. How about this:\n",
    "\n",
    "*e* = (7, 8, (9, 10))\n",
    "\n",
    "*e* contains THREE elements. Its last ONE element happens to be another tuple."
   ]
  },
  {
   "cell_type": "code",
   "execution_count": 20,
   "metadata": {},
   "outputs": [],
   "source": [
    "#    ENVIRONMENT           HEAP\n",
    "#    ________             _______\n",
    "#   |a     4 |         1 |int 15 |\n",
    "#   |b     6 |         2 |int  7 |\n",
    "#   |c    10 |         3 |int 20 |\n",
    "#   |d    12 |         4 |int 10 |\n",
    "#   |e    14 | <--     5 |int  7 | <--\n",
    "#   |        |         6 |tpl  2 |\n",
    "#   |        |         7 |     1 |\n",
    "#   |        |         8 |     3 |\n",
    "#   |        |         9 |int  8 | <--\n",
    "#   |        |        10 |int  7 |\n",
    "#   |        |        11 |int 10 | <--\n",
    "#   |        |        12 |tpl  1 |\n",
    "#   |        |        13 |     2 |\n",
    "#   |        |        14 |tpl  3 | <--\n",
    "#   |        |        15 |     5 | <--\n",
    "#   |        |        16 |     9 | <--\n",
    "#   |        |        17 |    19 | <--\n",
    "#   |        |        18 |int  9 | <--\n",
    "#   |        |        19 |tpl  2 | <--\n",
    "#   |        |        20 |    18 | <--\n",
    "#   |        |        21 |    11 | <--\n",
    "#   |________|        22 |_______|"
   ]
  },
  {
   "cell_type": "markdown",
   "metadata": {},
   "source": [
    "I've put the elements in no particular order in memory, because Python puts\n",
    "them in no particular order. \n",
    "\n",
    "##### *End - Optional interlude*"
   ]
  },
  {
   "cell_type": "markdown",
   "metadata": {},
   "source": [
    "Okay, now that you can create tuples, how do you get information from tuples?"
   ]
  },
  {
   "cell_type": "code",
   "execution_count": 21,
   "metadata": {},
   "outputs": [],
   "source": [
    "def extractInfo():\n",
    "    a = (8, 9, 10, 11)\n",
    "    #We get elements from a tuple using [] syntax.\n",
    "    #Each element of a tuple is numbered, starting with 0.\n",
    "    #(This is a common source of subtle bugs.)\n",
    "    print(a[0])\n",
    "\n",
    "    #We can step through the elements of a tuple...\n",
    "    for i in range(4):\n",
    "        print(a[i])\n",
    "\n",
    "    #We can also iterate over the tuple directly.\n",
    "    for val in a:\n",
    "        print(val)\n",
    "    #(interestingly, range(4) is (basically) the tuple (0,1,2,3).)\n",
    "    \n",
    "    #There are some fancier ways to get subsets of a tuple; these are\n",
    "    #called slices.\n",
    "    #tupleName[start:end]\n",
    "    #for example,\n",
    "    print(a[1:3])\n",
    "    #Run this function. Are you surprised by the result of that slice?\n",
    "    #When you perform a slice like this, your slice *includes* the start\n",
    "    #element and stops *before* the last one.\n",
    "\n",
    "    #If you leave off the start or end in a slice, you only clip the tuple\n",
    "    #in one direction:\n",
    "    print(a[:3])\n",
    "    #(This prints three elements of the tuple: a[0], a[1], and a[2]. Note that\n",
    "    #it does not print a[3].)\n",
    "    #Uh, what else? Oh! You can use a negative index to get a value relative\n",
    "    #to the end of the tuple. a[-1] is the last element, a[-2] is the second-\n",
    "    #to-last, and so on.\n",
    "    print(a[-1])\n",
    " \n",
    "    #There's on last handy feature for tuples: element-wise assignment.\n",
    "    x, y = (a, \"sheep\")\n",
    "    #is equivalent to\n",
    "    x=a\n",
    "    y=\"sheep\"\n",
    "    #(It is an error to have a different number of elements on one side.)"
   ]
  },
  {
   "cell_type": "markdown",
   "metadata": {},
   "source": [
    "There are a few functions that are so common on tuples they're always available:"
   ]
  },
  {
   "cell_type": "code",
   "execution_count": 22,
   "metadata": {},
   "outputs": [],
   "source": [
    "def builtinTuple():\n",
    "    a = (1, 2, \"hello\", True)\n",
    "    #len returns the length of a collection.\n",
    "    print(\"a has \", len(a) , \"elements in it.\")\n",
    "\n",
    "    # + can be used to concatenate tuples:\n",
    "    b = (\"aoeu\", \"snth\")\n",
    "    print(a+b)\n",
    "\n",
    "    #For tuples of numbers, there is the sum function to add them all up.\n",
    "    c = (10, 13, 16, 31)\n",
    "    print( sum(c))\n",
    "\n",
    "    #We can check to see if something is a tuple with the isinstance function.\n",
    "\n",
    "    print(isinstance( (3, 4, 5), tuple))\n",
    "    print(isinstance( 1.3, tuple))\n",
    "    \n",
    "    #You may find isinstance useful in list processing, next chapter. \n",
    "    #As you might guess, you can also use isinstance to see if something is\n",
    "    #another type, like int, str, or list. \n",
    "\n",
    " "
   ]
  },
  {
   "cell_type": "markdown",
   "metadata": {},
   "source": [
    "There are other sequences: Lists are much like tuples, but they can be modified.\n",
    "\n",
    "Strings are immutable like tuples, but they have some convenient syntax since we use them so much."
   ]
  },
  {
   "cell_type": "code",
   "execution_count": 23,
   "metadata": {},
   "outputs": [],
   "source": [
    "def listMake():\n",
    "    #lists use brackets where tuples use parentheses:\n",
    "    a = [1, 2, 3]\n",
    "    #Like tuples, the elements of a list can be anything,\n",
    "    #even other lists or tuples.\n",
    "    #Unlike tuples, it's valid to change an element in a list.\n",
    "    a[1]=5\n",
    "\n",
    "    #If you have a tuple (or string or map object or whatever) and want to\n",
    "    #make a list, use the list builtin:\n",
    "    b = list((6, 4.3))\n",
    "\n",
    "    #If you need a long empty list and don't care what's in it, this\n",
    "    #trick will make a list that is 1000 items long and just has the numbers\n",
    "    #0 to 999 in it.\n",
    "    #(the idea being you'll add something else later.)\n",
    "    longList=list(range(1000))"
   ]
  },
  {
   "cell_type": "markdown",
   "metadata": {},
   "source": [
    "In addition to the methods discussed for tuples, lists have methods for modification."
   ]
  },
  {
   "cell_type": "code",
   "execution_count": 24,
   "metadata": {},
   "outputs": [],
   "source": [
    "def listMethods():\n",
    "    a = [1.5, 2.4]\n",
    "    #append adds the indicated item to the end of the list.\n",
    "    a.append(5)\n",
    "    #This is a new syntactic form, called a method. This will make a lot\n",
    "    #of sense after CH15, but for now just roll with it. It's basically a\n",
    "    #function call, but we say what thing we want the function to operate on\n",
    "    #by using thing.function()\n",
    "    #If you want to append multiple items, either iterate through them:\n",
    "    b = [3, 1.5, 4]\n",
    "    for elem in b:\n",
    "        a.append(elem)\n",
    "    #or use the convenient extend syntax. (it does the same thing.)\n",
    "    a.extend(b)\n",
    "    #Note the difference between\n",
    "    x = [1,2,3]\n",
    "    x.extend([4,5,6])\n",
    "    print(x)\n",
    "    #and\n",
    "    y = [1,2,3]\n",
    "    y.append([4,5,6])\n",
    "    print(y)\n",
    "    #There's even a method to sort the elements.\n",
    "    c = [1,4,7,2,5,8]\n",
    "    c.sort()\n",
    "    print (c)"
   ]
  },
  {
   "cell_type": "markdown",
   "metadata": {},
   "source": [
    "Lists have the same slicing syntax as tuples.\n",
    "\n",
    "The mutability of lists can really trip you up, though."
   ]
  },
  {
   "cell_type": "code",
   "execution_count": 25,
   "metadata": {},
   "outputs": [],
   "source": [
    "def listMut():\n",
    "    a = [1, 2, 3]\n",
    "    b = [1, 2, 3]\n",
    "    c = a\n",
    "    a[0] = 5\n",
    "    print(\"a = \", a)\n",
    "    print(\"b = \", b)\n",
    "    print(\"c = \", c)"
   ]
  },
  {
   "cell_type": "markdown",
   "metadata": {},
   "source": [
    "##### *Begin Optional interlude*\n",
    "\n",
    "To explain this, we need to go back to our environment-heap memory explanation.\n",
    "\n",
    "First, we create the two lists *a* and *b*:"
   ]
  },
  {
   "cell_type": "code",
   "execution_count": null,
   "metadata": {},
   "outputs": [],
   "source": [
    "#    ENVIRONMENT           HEAP\n",
    "#    ________             _______\n",
    "#   |a     1 |         1 |lst  3 |\n",
    "#   |b     8 |         2 |     5 |\n",
    "#   |        |         3 |     6 |\n",
    "#   |        |         4 |     7 |\n",
    "#   |        |         5 |int  1 |\n",
    "#   |        |         6 |int  2 |\n",
    "#   |        |         7 |int  3 |\n",
    "#   |        |         8 |lst  3 |\n",
    "#   |        |         9 |    12 |\n",
    "#   |        |        10 |    13 |\n",
    "#   |        |        11 |    14 |\n",
    "#   |        |        12 |int  1 |\n",
    "#   |        |        13 |int  2 |\n",
    "#   |        |        14 |int  3 |\n",
    "#   |________|        15 |_______|"
   ]
  },
  {
   "cell_type": "markdown",
   "metadata": {},
   "source": [
    "Now, we get to the *c* = *a* line.\n",
    "\n",
    "In this case, Python doesn't duplicate the list itself, rather, it just says that *c* is another name for the same object\n",
    "as *a*. "
   ]
  },
  {
   "cell_type": "code",
   "execution_count": 26,
   "metadata": {},
   "outputs": [],
   "source": [
    "#    ENVIRONMENT           HEAP\n",
    "#    ________             _______\n",
    "#   |a     1 |         1 |lst  3 |\n",
    "#   |b     8 |         2 |     5 |\n",
    "#   |c     1 | <--     3 |     6 |\n",
    "#   |        |         4 |     7 |\n",
    "#   |        |         5 |int  1 |\n",
    "#   |        |         6 |int  2 |\n",
    "#   |        |         7 |int  3 |\n",
    "#   |        |         8 |lst  3 |\n",
    "#   |        |         9 |    12 |\n",
    "#   |        |        10 |    13 |\n",
    "#   |        |        11 |    14 |\n",
    "#   |        |        12 |int  1 |\n",
    "#   |        |        13 |int  2 |\n",
    "#   |        |        14 |int  3 |\n",
    "#   |________|        15 |_______|"
   ]
  },
  {
   "cell_type": "markdown",
   "metadata": {},
   "source": [
    "The heap hasn't changed at all!\n",
    "\n",
    "Now, when you assign to an element of *a*, it creates the new value (the number\n",
    "5 in this case) and rewires the list so the first element now points to the new object:"
   ]
  },
  {
   "cell_type": "code",
   "execution_count": 27,
   "metadata": {},
   "outputs": [],
   "source": [
    "#    ENVIRONMENT           HEAP\n",
    "#    ________             _______\n",
    "#   |a     1 |         1 |lst  3 |\n",
    "#   |b     8 |         2 |    15 | <--\n",
    "#   |c     1 |         3 |     6 |\n",
    "#   |        |         4 |     7 |\n",
    "#   |        |         5 |int  1 |\n",
    "#   |        |         6 |int  2 |\n",
    "#   |        |         7 |int  3 |\n",
    "#   |        |         8 |lst  3 |\n",
    "#   |        |         9 |    12 |\n",
    "#   |        |        10 |    13 |\n",
    "#   |        |        11 |    14 |\n",
    "#   |        |        12 |int  1 |\n",
    "#   |        |        13 |int  2 |\n",
    "#   |        |        14 |int  3 |\n",
    "#   |        |        15 |int  5 | <--\n",
    "#   |________|        16 |_______|"
   ]
  },
  {
   "cell_type": "markdown",
   "metadata": {},
   "source": [
    "So when I mutate *a*, I am mutating the memory that *c* points to.\n",
    "\n",
    "Note that this behavior is confusing and a great source of bugs - for this\n",
    "reason, copying a list's pointer is not encouraged.\n",
    "\n",
    "If you want to copy a list on the heap, you can make an entire slice:\n",
    "*d* = *a*[:]\n",
    "\n",
    "This will copy *a*'s contents, so changing *a* will not change *c* \n",
    "\n",
    "##### *End optional interlude*"
   ]
  },
  {
   "cell_type": "markdown",
   "metadata": {},
   "source": [
    "If you chose to skip the previous section:\n",
    "    \n",
    "Different variables can refer to the same list.\n",
    "\n",
    "To get a copy of a list, use the whole slice:\n",
    "    \n",
    "    c = a[:] \n",
    "    \n",
    "will create a new list you can mess with as much as you want.\n"
   ]
  },
  {
   "cell_type": "markdown",
   "metadata": {},
   "source": [
    "Strings are not mutable, in this sense they are like tuples."
   ]
  },
  {
   "cell_type": "code",
   "execution_count": 28,
   "metadata": {},
   "outputs": [],
   "source": [
    "def stringMake():\n",
    "    #You already know the basics of strings. \n",
    "    a = \"hi.\"\n",
    "    #You can slice them just like lists and tuples. \n",
    "    #The best part about strings is the formatting method.\n",
    "    #If you put some flags into a string, Python will inject your desired\n",
    "    #information into the string on the fly:\n",
    "    \n",
    "    print (\"{0:s}, world!\".format(\"Hello\"))\n",
    "    #When python gets to the {}, it looks at the arguments to the \n",
    "    #format method at the end of the string.\n",
    "    #The insides of a format specifier are: \n",
    "    #{<position in argument list> : [extra information] [type code]}\n",
    "    #The position is mandatory, the items in [brackets] are optional. \n",
    "    #The code {0:s} indicates that Python should take the first argument\n",
    "    #to format (remember, it's zero-based) and format it as a string\n",
    "    #(hence the \"s\"). (The [extra information] was empty in this case)\n",
    "    \n",
    "    #Here are the type codes:\n",
    "    # s :: Format as a string. See example above.\n",
    "    #      Note: Most objects are capable of being stringified. \n",
    "    #      For example, \"{0:s}\".format((1,2)) will return '(1,2)'\n",
    "    # d :: format as an integer. (d stands for decimal, as in base 10.)\n",
    "    # E :: format in scientific notation.\n",
    "    # f :: Floating point number. (non-whole numbers.)\n",
    "    # g :: Intelligently choose E or f depending on how big or small the number is.\n",
    "    # E, f, and g have some funky [extra information] flags you can use.\n",
    "    # [flags][width[.precision]]\n",
    "    # Flags are zero or more of:\n",
    "    # < :: left-justify the result.\n",
    "    # + :: show positive signs as well as the usual negative signs.\n",
    "    #  (there are lots more, check out\n",
    "    # http://docs.python.org/3.3/library/string.html if you need to do anything\n",
    "    # really fancy.)\n",
    "    #For example, \"{0:+f}\".format(0.3) -> +0.300000\n",
    "    #Width is the size of the total field, including decimal points,\n",
    "    #signs, the works. Note that if the width is too small, the output will\n",
    "    #not be truncated, the width specifier will be ignored. \n",
    "    #Precision, if used, must be preceeded by a period. It should not be used\n",
    "    #without a width.\n",
    "    #Oh, the d code supports all the flags but precision. (because there are\n",
    "    #*never* any digits after the decimal in an integer.)\n",
    "    \n",
    "    print (\"{0:+4.5f}\".format(4521.3135))\n",
    "    #That monster format specifier says:\n",
    "    # 0 Take the first argument to format\n",
    "    # + Display a plus sign if possible.\n",
    "    # 4 Use four characters for the field width (or more if necessary)\n",
    "    # .5 Display 5 digits after the decimal. (so the 4 will almost certainly\n",
    "    #          be ignored.)\n",
    "    # f Show as a normal decimal number. (not scientific notation)\n",
    "    \n",
    "    \n",
    "    #Example:\n",
    "    baseStr = \"The square root of {0:5d} is {1:7.4f} and the square of {0:5d} is {2:5d}.\"\n",
    "    for num in (0, 1, 3, 5, 25):\n",
    "        print(baseStr.format(num, sqrt(num), num*num))\n",
    "    #Explanation of each code:\n",
    "    \n",
    "    # {0:5d} is pretty simple - take the first argument to format \n",
    "    #(remember, zero-based!) and format it as a decimal number. \n",
    "    #Pad it with spaces to five characters. \n",
    "    \n",
    "    #{1:7.4f} is the most complex, Take the second argument to \n",
    "    #format and render it as a seven-character wide floating point\n",
    "    #number with four places after the decimal.\n",
    "    \n",
    "    #{0:5d} is exactly the same as the first time. I'm using the\n",
    "    #first argument twice in the string.\n",
    "    \n",
    "    #{2:5d} should be familiar - use the third argument, format it\n",
    "    #as an integer, and pad it to five characters wide.\n"
   ]
  },
  {
   "cell_type": "code",
   "execution_count": 29,
   "metadata": {},
   "outputs": [],
   "source": [
    "####   *Exercises*"
   ]
  },
  {
   "cell_type": "markdown",
   "metadata": {},
   "source": [
    "1 - Write a function that takes a tuple of numbers and prints their mean,\n",
    "without using the sum() function for tuples.\n",
    "\n",
    "The printed response should be formatted using this style:\n",
    "*tupleAve*((1, 3, 5)) ->  The average of (1, 3, 5) is 3.000000"
   ]
  },
  {
   "cell_type": "code",
   "execution_count": 30,
   "metadata": {},
   "outputs": [],
   "source": [
    "def tupleAve(tpl):\n",
    "    pass"
   ]
  },
  {
   "cell_type": "markdown",
   "metadata": {},
   "source": [
    "2 - If you did the optional interlude, explain the difference between 'a=1' and 'a=(1,)'"
   ]
  },
  {
   "cell_type": "markdown",
   "metadata": {},
   "source": [
    "3 - Write a function that takes a list and two numbers and swaps the elements at those positions.\n",
    "\n",
    "Note that the function may or may not return something, but the original list should be mutated. (This is called an \"in-place\" change)\n",
    "That is,\n",
    "\n",
    "a=[1,4,6]\n",
    "\n",
    "swap(a, 1, 2)\n",
    "\n",
    "print (a) -> [1, 6, 4]\n"
   ]
  },
  {
   "cell_type": "code",
   "execution_count": 31,
   "metadata": {},
   "outputs": [],
   "source": [
    "def swap(lst, pos1, pos2):\n",
    "    pass"
   ]
  },
  {
   "cell_type": "markdown",
   "metadata": {},
   "source": [
    "4 -  Write a function that takes a list and two numbers and returns a list with the elements at those positions swapped.\n",
    "The original list should *not* be mutated. \n",
    "\n",
    "(Functions that don't mutate their arguments or access any global state are called pure.)\n",
    "\n",
    "a = [1,4,6]\n",
    "\n",
    "b = swapConst(a,1,2)\n",
    "\n",
    "print (b) -> [1, 6, 4]\n",
    "\n",
    "print (a) -> [1, 4, 6]\n"
   ]
  },
  {
   "cell_type": "code",
   "execution_count": 32,
   "metadata": {},
   "outputs": [],
   "source": [
    "def swapConst(lst, pos1, pos2):\n",
    "    pass"
   ]
  },
  {
   "cell_type": "markdown",
   "metadata": {},
   "source": [
    "5 - Write a function that checks to see if a list of numbers is sorted."
   ]
  },
  {
   "cell_type": "code",
   "execution_count": 33,
   "metadata": {},
   "outputs": [],
   "source": [
    "def isSorted(lst):\n",
    "    pass"
   ]
  },
  {
   "cell_type": "markdown",
   "metadata": {},
   "source": [
    "6 - What are *x*, *y*, and *z* at the end of this code?\n",
    "\n",
    "Don't run it, work through it by hand.\n",
    "\n",
    "(Note: This is a hard exercise. Feel free to use some scratch paper or whiteboard/window space.)"
   ]
  },
  {
   "cell_type": "code",
   "execution_count": 34,
   "metadata": {},
   "outputs": [],
   "source": [
    "# x = (1,)\n",
    "# y = x+x+(2,)\n",
    "# x = (y,x)\n",
    "# z = x[0][1]\n",
    "# x,y = (x+(z,y))[:2]"
   ]
  },
  {
   "cell_type": "markdown",
   "metadata": {},
   "source": [
    "7 - Write a function to convert numeric gradebook grades into ten-character wide strings. It should return a string, not print it. The result should have two numbers after the decimal and be followed by a % sign.\n",
    "\n",
    "The *total* returned string should be 10 characters wide.\n",
    "\n",
    "(Remember to count characters not in your format specifier (such as the % sign) in this 10.)\n",
    "\n",
    "*formatGrade(67.133) -> '    67.13%'*"
   ]
  },
  {
   "cell_type": "code",
   "execution_count": 35,
   "metadata": {},
   "outputs": [],
   "source": [
    "def formatGrade(grade):\n",
    "    pass\n"
   ]
  },
  {
   "cell_type": "code",
   "execution_count": null,
   "metadata": {},
   "outputs": [],
   "source": []
  }
 ],
 "metadata": {
  "kernelspec": {
   "display_name": "Python 3",
   "language": "python",
   "name": "python3"
  },
  "language_info": {
   "codemirror_mode": {
    "name": "ipython",
    "version": 3
   },
   "file_extension": ".py",
   "mimetype": "text/x-python",
   "name": "python",
   "nbconvert_exporter": "python",
   "pygments_lexer": "ipython3",
   "version": "3.5.5"
  }
 },
 "nbformat": 4,
 "nbformat_minor": 2
}
