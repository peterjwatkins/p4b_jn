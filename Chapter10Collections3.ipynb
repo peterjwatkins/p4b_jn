{
 "cells": [
  {
   "cell_type": "markdown",
   "metadata": {},
   "source": [
    "# Chapter 10: Collections III: Dictionaries"
   ]
  },
  {
   "cell_type": "markdown",
   "metadata": {},
   "source": [
    "After Chapter 9, this chapter will be a cakewalk.\n",
    "\n",
    "Dictionaries are sort of like lists, only the elements aren't identified by ascending numbers. If *a* is a list, the expression *a*[\"aoeu\"] just doesn't make sense - I'm asking for the \"aoeu\"th element. Dictionaries let us create arbitrary links from keys to values.\n",
    "\n",
    "Dictionary syntax is pretty easy."
   ]
  },
  {
   "cell_type": "code",
   "execution_count": null,
   "metadata": {},
   "outputs": [],
   "source": [
    "def makeDict():\n",
    "    a = {1:\"one\", \"two\":2}\n",
    "    #The first thing is the key, the second is what it represents. So if I ask\n",
    "    #it for\n",
    "    print (a[1])\n",
    "    #it prints one.\n",
    "    \n",
    "    #In the second case, the key is not a number, it's a string.\n",
    "    print(a[\"two\"])\n",
    "    #I can add to a dictionary just like I'd assign to a list:\n",
    "    a[(2,3)] = False\n",
    "    \n",
    "    #Here, the key is a tuple!\n",
    "    \n",
    "    #We can also modify a value already in a dictionary if the need arises:\n",
    "    a[\"two\"] = a[\"two\"] +1\n",
    "    #but we can't slice a dictionary. (I mean, what would a[\"Three\":(2,3)]\n",
    "    #mean, anyways?)\n",
    "    \n",
    "    #You will often want to see if a dictionary contains a particular key,\n",
    "    #to do this you use the in operator.\n",
    "    print(1 in a)\n",
    "    print(2 in a)\n",
    "    #Note that in looks at *keys*, not *values*.\n",
    "    #Uh, to be honest, you can do this with lists and tuples and strings, too.\n",
    "    #\n",
    "    print(3 in (2, False, 'p'))"
   ]
  },
  {
   "cell_type": "markdown",
   "metadata": {},
   "source": [
    "####   *Exercises*"
   ]
  },
  {
   "cell_type": "markdown",
   "metadata": {},
   "source": [
    "1 - Use a dictionary to count the frequency of each nucleotide in this sequence:\n",
    "*AGTCTGCTCTGACAGATGCAATCAGATACGTTACGATCAGTCGTACTGACTACTGCTGACTACCTGATGC*\n",
    "\n",
    "(for output, just print the dictionary as a string (that is, \"{0:s}\"),the default formatting is pretty good.)"
   ]
  },
  {
   "cell_type": "markdown",
   "metadata": {},
   "source": [
    "2 - The relationship between codons and amino acids can be well-described by a dictionary.\n",
    "\n",
    "If you were to construct such a dictionary, what would be the keys? What would be the values?"
   ]
  },
  {
   "cell_type": "markdown",
   "metadata": {},
   "source": [
    "3 -  The documentation for dictionaries is online at http://docs.python.org/3.1/library/stdtypes.html\n",
    "\n",
    "How do you get a list of all the *values* in a dictionary?"
   ]
  },
  {
   "cell_type": "markdown",
   "metadata": {},
   "source": [
    "(See, I told you it would be a cakewalk!)"
   ]
  }
 ],
 "metadata": {
  "kernelspec": {
   "display_name": "Python 3",
   "language": "python",
   "name": "python3"
  },
  "language_info": {
   "codemirror_mode": {
    "name": "ipython",
    "version": 3
   },
   "file_extension": ".py",
   "mimetype": "text/x-python",
   "name": "python",
   "nbconvert_exporter": "python",
   "pygments_lexer": "ipython3",
   "version": "3.5.5"
  }
 },
 "nbformat": 4,
 "nbformat_minor": 2
}
