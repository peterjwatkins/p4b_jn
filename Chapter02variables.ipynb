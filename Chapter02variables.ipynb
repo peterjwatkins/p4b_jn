{
 "cells": [
  {
   "cell_type": "markdown",
   "metadata": {},
   "source": [
    "## Chapter 2: Using variables."
   ]
  },
  {
   "cell_type": "markdown",
   "metadata": {},
   "source": [
    "We can tell Python to remember the result of a calculation, by storing it\n",
    "in a variable. The syntax is **variableName** = **calculation**"
   ]
  },
  {
   "cell_type": "markdown",
   "metadata": {},
   "source": [
    "Here, let me make a variable to store seven times seven."
   ]
  },
  {
   "cell_type": "code",
   "execution_count": 24,
   "metadata": {},
   "outputs": [
    {
     "name": "stdout",
     "output_type": "stream",
     "text": [
      "None\n"
     ]
    }
   ],
   "source": [
    "def sevenSquared():\n",
    "    sevenSquared = 7 * 7\n",
    "    \n",
    "    # I can now use sevenSquared anywhere in this function.\n",
    "\n",
    "print(sevenSquared())"
   ]
  },
  {
   "cell_type": "markdown",
   "metadata": {},
   "source": [
    "##### Rules for variables:\n",
    "\n",
    "Variables must start with a letter or underscore. After that, any combination of numbers and letters is OK. These are some good variable names:"
   ]
  },
  {
   "cell_type": "markdown",
   "metadata": {},
   "source": [
    "1. value1\n",
    "2. fooBar\n",
    "3. juice_concentration_2"
   ]
  },
  {
   "cell_type": "markdown",
   "metadata": {},
   "source": [
    "But these are not valid variables."
   ]
  },
  {
   "cell_type": "markdown",
   "metadata": {},
   "source": [
    "1. 1stValue *(starts with a number)*\n",
    "2. let me in *(has spaces in it.)*\n",
    "3. I1lIl1 *(technically valid, but pointlessly difficult to read.)*"
   ]
  },
  {
   "cell_type": "markdown",
   "metadata": {},
   "source": [
    "##### *NOTA BENE:*\n",
    "Variables in python are case sensitive!\n"
   ]
  },
  {
   "cell_type": "markdown",
   "metadata": {},
   "source": [
    "aNumber is a totally different variable than Anumber. This can lead to very subtle bugs. So:\n",
    "\n",
    "Use consistent naming schemes.\n",
    "\n",
    "I will almost always capitalize the first letter of each word in my variables, except the first one. My variables\n",
    "might be:"
   ]
  },
  {
   "cell_type": "code",
   "execution_count": 15,
   "metadata": {},
   "outputs": [],
   "source": [
    "# aLittleBit\n",
    "# numberOfRottenBananas\n",
    "# counter (only one word, so no capitals.)"
   ]
  },
  {
   "cell_type": "markdown",
   "metadata": {},
   "source": [
    "(programmers refer to this capitalization scheme as camel casing.)"
   ]
  },
  {
   "cell_type": "code",
   "execution_count": 25,
   "metadata": {},
   "outputs": [],
   "source": [
    "#Some variable use:\n",
    "def onePlusMe():\n",
    "    number = 5\n",
    "    number = number + 1\n",
    "    print(number)"
   ]
  },
  {
   "cell_type": "markdown",
   "metadata": {},
   "source": [
    "Hm?! Okay, the second line in this function deserves an explanation."
   ]
  },
  {
   "cell_type": "markdown",
   "metadata": {},
   "source": [
    "When Python sees this, here's what the interpreter will do.\n",
    "1. It sees that you're assigning a variable.\n",
    "2. It calculates the value you're going to assign. Here, it's number + 1\n",
    "3. It sets number to that value.\n",
    "So remember, = is NOT a question. It's an instruction.\n",
    "\n",
    "In a mathematics course, if you were told that *x* = *x* + 1, your initial response might be along the lines of \"no it isn't\", and rightly so!\n",
    "\n",
    "In Python, it means \"Calculate number + 1. Number is now that value.\""
   ]
  },
  {
   "cell_type": "code",
   "execution_count": 26,
   "metadata": {},
   "outputs": [],
   "source": [
    "#Here's a program to convert temperatures from Celsius to Fahrenheit.\n",
    "def celsToFahr():\n",
    "    celsiusTemperature = 30\n",
    "    fahrenheitTemperature = 9/5 * celsiusTemperature + 32\n",
    "    # Python does order of operations correctly.\n",
    "    print(\"the temperature is \", fahrenheitTemperature, \"degrees Fahrenheit.\")"
   ]
  },
  {
   "cell_type": "markdown",
   "metadata": {},
   "source": [
    "Print is a very strange function, in that it can take many arguments (separated by commas).\n",
    "For now, know that it will glue the arguments together and print the whole thing."
   ]
  },
  {
   "cell_type": "markdown",
   "metadata": {},
   "source": [
    "For some of the programs you'll write, you need to look at the characters in strings.\n",
    "I'll cover the syntax in greater detail is CH08, Collections I,\n",
    "but for now I'll just give you some useful syntax for strings:\n",
    "\n",
    "To read the *k*th character of a string, you say *stringName[k-1]*\n",
    "\n",
    "Often, you'll just need the first character, which you can\n",
    "extract with *stringName[0]*"
   ]
  },
  {
   "cell_type": "code",
   "execution_count": 27,
   "metadata": {},
   "outputs": [],
   "source": [
    "def stringManip():\n",
    "    initialString = \"aoeu\"\n",
    "    print(\"the string starts with \", initialString[0])\n",
    "    #We could get the third character like this:\n",
    "    print(\"The third character is \", initialString[2])\n",
    "    #It's 2, not 3, because we use k-1 for the number, not k.\n",
    "    #(the reason becomes much clearer in CH08)"
   ]
  },
  {
   "cell_type": "markdown",
   "metadata": {},
   "source": [
    "Good? Good. "
   ]
  },
  {
   "cell_type": "markdown",
   "metadata": {},
   "source": [
    "#### *Exercises*"
   ]
  },
  {
   "cell_type": "markdown",
   "metadata": {},
   "source": [
    "1 - Rewrite the temperature program to convert a Fahrenheit temperature to a celsius one.\n",
    "\n",
    "What is the celsius temperature when it is 100 F?\n",
    "\n",
    "*Reminder: Celsius = 5/9 (Fahrenheit - 32)*\n"
   ]
  },
  {
   "cell_type": "code",
   "execution_count": 28,
   "metadata": {},
   "outputs": [],
   "source": [
    "def fahrToCels():\n",
    "    pass #again, delete the pass, replace this function with your code. "
   ]
  },
  {
   "cell_type": "markdown",
   "metadata": {},
   "source": [
    "2 - Track the value of each of the following variables during this program.\n",
    "\n",
    "Just fill out the table with the values as they change - don't run the code, do it by hand."
   ]
  },
  {
   "cell_type": "code",
   "execution_count": 29,
   "metadata": {},
   "outputs": [],
   "source": [
    "def exercise2():\n",
    "                    # a | b | c #\n",
    "    a = 1           # 1 | ? | ? #\n",
    "    b = 1           # 1 | 1 | ? #\n",
    "    c = 1           # 1 | 1 | 1 #\n",
    "    a = b + c       # 2 | 1 | 1 #\n",
    "    b = a + c       # 2 |   |   #\n",
    "    c = b + a       #   |   |   #\n",
    "    b = c           #   |   | 5 #\n",
    "    a = a + b       #   |   |   #\n",
    "    c = c * c       # 7 | 5 |   #"
   ]
  },
  {
   "cell_type": "markdown",
   "metadata": {},
   "source": [
    "3 - Print the first three characters of the specified string:"
   ]
  },
  {
   "cell_type": "code",
   "execution_count": 30,
   "metadata": {},
   "outputs": [],
   "source": [
    "def printChars():\n",
    "    someChars = \"aoeuhtns\""
   ]
  },
  {
   "cell_type": "code",
   "execution_count": null,
   "metadata": {},
   "outputs": [],
   "source": []
  }
 ],
 "metadata": {
  "kernelspec": {
   "display_name": "Python 3",
   "language": "python",
   "name": "python3"
  },
  "language_info": {
   "codemirror_mode": {
    "name": "ipython",
    "version": 3
   },
   "file_extension": ".py",
   "mimetype": "text/x-python",
   "name": "python",
   "nbconvert_exporter": "python",
   "pygments_lexer": "ipython3",
   "version": "3.5.5"
  }
 },
 "nbformat": 4,
 "nbformat_minor": 2
}
