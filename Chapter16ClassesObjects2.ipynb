{
 "cells": [
  {
   "cell_type": "markdown",
   "metadata": {},
   "source": [
    "# Chapter 16: Objects and classes: philosophy and iterators."
   ]
  },
  {
   "cell_type": "markdown",
   "metadata": {},
   "source": [
    "You will use everything you've learned up to this point in this chapter.\n",
    "\n",
    "It should be fun!\n",
    "\n",
    "I'm going to start this chapter by giving you something practical:\n",
    "an example of a fully-formed class that shows you how classes are used.\n",
    "\n",
    "A rational number is one of the form *a*/*b*, where *a* and *b* are integers. Python does not have built-in support for rationals and rational arithmetic. "
   ]
  },
  {
   "cell_type": "code",
   "execution_count": null,
   "metadata": {},
   "outputs": [],
   "source": [
    "class RationalNumber:\n",
    "    \"\"\"A class that implements a rational number and the necessary\n",
    "    Arithmetic operations on it.\"\"\"\n",
    "    def __init__(self,numerator, denominator):\n",
    "        \"\"\"Arguments should be numbers or RationalNumbers, and will\n",
    "        be the values of this rational number's numerator and denominator.\"\"\"\n",
    "        if(isinstance(numerator, RationalNumber)):\n",
    "            if(isinstance(denominator, RationalNumber)):\n",
    "               #The constructor was called with RationalNumbers\n",
    "               self._n = numerator._n * denominator._d\n",
    "               self._d = denominator._n * numerator._d\n",
    "            else:\n",
    "                #The numerator, but not denominator, is a RationalNumber\n",
    "                self._n = numerator._n\n",
    "                self._d = denominator* numerator._d\n",
    "        else:\n",
    "            if(isinstance(denominator, RationalNumber)):\n",
    "               #The denominator, but not numerator, is a RationalNumber\n",
    "               self._n = numerator * denominator._d\n",
    "               self._d = denominator._n\n",
    "            else:\n",
    "                #Both arguments are plain old numbers\n",
    "                self._n = numerator\n",
    "                self._d = denominator\n",
    "        if(self._n != 0):\n",
    "            self.reduceFraction()\n",
    "        else:\n",
    "            self._d = 1\n",
    "\n",
    "    def reduceFraction(self):\n",
    "        gcd = greatestDivisor(self._n, self._d)\n",
    "        self._n //= gcd\n",
    "        self._d //= gcd\n",
    "\n",
    "    def add(self, otherNum):\n",
    "        \"\"\"Adds a rational number to this one, using the fact that\n",
    "        a/b + c/d = (a*d + c*b)/(b*d)\"\"\"\n",
    "        return RationalNumber(self._n*otherNum._d + otherNum._n * self._d, self._d * otherNum._d)\n",
    "\n",
    "    def subtract(self,otherNum):\n",
    "        negOther = RationalNumber(-otherNum._n, otherNum._d)\n",
    "        return self.add(negOther)\n",
    "\n",
    "    def mult(self, otherNum):\n",
    "        return RationalNumber(self._n * otherNum._n, self._d * otherNum._d)\n",
    "\n",
    "    def divide(self, otherNum):\n",
    "        return RationalNumber(self._n * otherNum._d, self._d * otherNum._n)\n",
    "    def __str__(self):\n",
    "        return \"{0:d}/{1:d}\".format(self._n, self._d)\n",
    "    \n",
    "#I put the code for GCD outside the class - it's not really associated with rational numbers, \n",
    "#so it should be in a different place.\n",
    "\n",
    "def greatestDivisor(a,b):\n",
    "    if(b == 0):\n",
    "        return a\n",
    "    return greatestDivisor(b,a % b)\n",
    "\n",
    "def useRational():\n",
    "    #a = 1/2\n",
    "    a = RationalNumber(1,2)\n",
    "    #b = 1/3\n",
    "    b = RationalNumber(1,3)\n",
    "    #c = a + b\n",
    "    c = a.add(b)\n",
    "    print(c)\n",
    "    #Now to demonstrate that rationals are truly precise...\n",
    "    storage = RationalNumber(0,1)\n",
    "    floatSum = 0\n",
    "    for i in range(1000):\n",
    "        storage = storage.add(RationalNumber(1,1000))\n",
    "        floatSum += 0.001\n",
    "    print(floatSum)\n",
    "    print(storage)\n",
    "    floatZero = floatSum - 1.0\n",
    "    storageZero = storage.subtract(RationalNumber(1,1))\n",
    "    print(floatZero)\n",
    "    print(storageZero)\n",
    "    #The floating point version has some noise that has accumulated during\n",
    "    #the computation. The rational does not have this noise."
   ]
  },
  {
   "cell_type": "markdown",
   "metadata": {},
   "source": [
    "Next: Something practical. You know how you can do"
   ]
  },
  {
   "cell_type": "code",
   "execution_count": null,
   "metadata": {},
   "outputs": [],
   "source": [
    "#for i in range(10):"
   ]
  },
  {
   "cell_type": "markdown",
   "metadata": {},
   "source": [
    ", right? Well, *range* is just a class with a few methods defined."
   ]
  },
  {
   "cell_type": "code",
   "execution_count": null,
   "metadata": {},
   "outputs": [],
   "source": [
    "#A class is iterable (may be used with a for loop) if it defines the method __iter__() that returns \n",
    "# an object with a method called __next__(). __next__() should return the next value in the sequence or raise\n",
    "#a StopIteration exception. \n",
    "\n",
    "class NewRange():\n",
    "    def __init__(self, start, stop):\n",
    "        print(\"NewRange.__init__\")\n",
    "        self._start = start\n",
    "        self._stop = stop\n",
    "    def __iter__(self):\n",
    "        print(\"NewRange.__iter__\")\n",
    "        return RangeIterator(self._start,self._stop)\n",
    "\n",
    "class RangeIterator():\n",
    "    def __init__(self,start,stop):\n",
    "        print(\"RangeIterator.__init__\")\n",
    "        self._currPos = start\n",
    "        self._endPos = stop\n",
    "    def __next__(self):\n",
    "        print(\"RangeIterator.__next__\", end = \" \")\n",
    "        if self._currPos < self._endPos:\n",
    "            self._currPos = self._currPos + 1\n",
    "            print(\" -> {0:d}\".format(self._curPos-1))\n",
    "            return self._currPos - 1 #-1 because I already incremented, return\n",
    "        else:                        #what the value was, not what it is. \n",
    "            print(\" -> StopIteration\")\n",
    "            raise StopIteration\n",
    "    \n",
    "    \n",
    "#If your class contains a method called __next__(), you can have __iter__\n",
    "#just return self:\n",
    "\n",
    "class SimpleRange:\n",
    "    def __init__(self,start,stop):\n",
    "        self._currPos = start\n",
    "        self._endPos = stop\n",
    "    def __next__(self):\n",
    "        if self._currPos < self._endPos:\n",
    "            self._currPos = self._currPos + 1\n",
    "            return self._currPos - 1 #-1 because I already incremented, return\n",
    "        else:                        #what the value was, not what it is. \n",
    "            raise StopIteration\n",
    "    def __iter__(self):\n",
    "        return self\n",
    "\n",
    "#When Python comes to a for loop, it first calls __iter__(), then repeatedly\n",
    "#calls __next__() on that iterator until it throws StopIteration.\n",
    "\n",
    "#The advantage is we can just use it like a normal range. \n",
    "def useNewRange():\n",
    "    nr = NewRange(0,10)\n",
    "    for i in nr:\n",
    "        print (i)\n",
    "    sr = SimpleRange(0,10)\n",
    "    for i in sr:\n",
    "        print(i)"
   ]
  },
  {
   "cell_type": "markdown",
   "metadata": {},
   "source": [
    "Okay, let's get biochemical again. Consider a class that stores DNA:"
   ]
  },
  {
   "cell_type": "code",
   "execution_count": null,
   "metadata": {},
   "outputs": [],
   "source": [
    "class DNAStore:\n",
    "    \"\"\"Represents a strand of DNA. Accepts new dna as strings or collections\n",
    "    of strings. \"\"\"\n",
    "    _bases = \"\" #Currently empty.\n",
    "\n",
    "    def __init__(self, bases):\n",
    "        \"\"\"bases is a string or a sequence of strings that will be added to\n",
    "        this objects' dna store.\"\"\"\n",
    "        self.add(bases)\n",
    "        print(\"Initialized DNA strand with {0:s}\".format(self._bases))\n",
    "\n",
    "    def add(self, newDNA):\n",
    "        \"\"\"Adds new dna to the end of this strand. Rules for dna are the same\n",
    "        as for the initializer.\"\"\"\n",
    "        if isinstance(newDNA, str):\n",
    "            for base in newDNA:\n",
    "                self._addLetter(base)\n",
    "        elif isinstance(newDNA, (tuple,list)):\n",
    "            for thing in newDNA:\n",
    "                self.add(thing) #If it's a tuple or list, split it and add\n",
    "                                 #each part of it recursively.\n",
    "        else:\n",
    "            raise Exception(\"Invalid DNA.\")\n",
    "        \n",
    "    def _addLetter(self, base):\n",
    "        if base in \"AGTC\":\n",
    "            self._bases = self._bases + base\n",
    "        else:\n",
    "            raise Exception(\"Unknown letter for DNA: {0:s}\".format(base))\n",
    "\n",
    "    def getBases(self):\n",
    "        return self._bases\n",
    "    \n",
    "\n",
    "#I'd like to extend this class to allow me to iterate over the codons.\n",
    "\n",
    "class IterableDNA(DNAStore):\n",
    "    \"\"\"An iterable version of a DNA store. Iterates by *codon*, not by\n",
    "    *base*.\"\"\"\n",
    "    _bases = \"\" #Currently empty.\n",
    "\n",
    "    def __init__(self, bases):\n",
    "        \"\"\"bases is a string or a sequence of strings that will be added to\n",
    "        this objects' dna store.\"\"\"\n",
    "        self.add(bases)\n",
    "        print(\"Initialized DNA strand with {0:s}\".format(self._bases))\n",
    "\n",
    "    def add(self, newDNA):\n",
    "        \"\"\"Adds new dna to the end of this strand. Rules for dna are the same\n",
    "        as for the initializer.\"\"\"\n",
    "        if isinstance(newDNA, str):\n",
    "            for base in newDNA:\n",
    "                self._addLetter(base)\n",
    "        elif isinstance(newDNA, (tuple,list)):\n",
    "            for thing in newDNA:\n",
    "                self.add(thing) #If it's a tuple or list, split it and add\n",
    "                                 #each part of it recursively.\n",
    "        else:\n",
    "            raise Exception(\"Invalid DNA.\")\n",
    "        \n",
    "    def _addLetter(self, base):\n",
    "        if base in \"AGTC\":\n",
    "            self._bases = self._bases + base\n",
    "        else:\n",
    "            raise Exception(\"Unknown letter for DNA: {0:s}\".format(base))\n",
    "\n",
    "    def getBases(self):\n",
    "        return self._bases\n",
    "\n",
    "    def __iter__(self):\n",
    "        #Initialize the iteration. \n",
    "        self._iterPos = 0\n",
    "        return self\n",
    "    def __next__(self):\n",
    "        start = self._iterPos\n",
    "        self._iterPos = start + 3\n",
    "        if(len(self._bases) - start < 3):\n",
    "            raise StopIteration\n",
    "        codon = self._bases[start:start + 3]\n",
    "        return codon\n",
    "\n",
    "def iterateDNA():\n",
    "    idna = IterableDNA(\"AGTGACTAGTCACTACTAGCATGAGACATGACGAT\")\n",
    "    for cdn in idna:\n",
    "        print(cdn)\n",
    "        #The big point here is that the person using your class needn't\n",
    "        #think about how the iteration works; it \"just works\" and is clear\n",
    "        #and simple."
   ]
  },
  {
   "cell_type": "markdown",
   "metadata": {},
   "source": [
    "####   *Exercises*"
   ]
  },
  {
   "cell_type": "markdown",
   "metadata": {},
   "source": [
    "1 - Add a method to DNAStore that calculates the GC content of its stored dna."
   ]
  },
  {
   "cell_type": "markdown",
   "metadata": {},
   "source": [
    "2 - Add a method to DNAStore that accepts another DNAStore, and calculates the Hamming distance between itself and the other strand."
   ]
  },
  {
   "cell_type": "markdown",
   "metadata": {},
   "source": [
    "3 - Explain the behavior of this function:"
   ]
  },
  {
   "cell_type": "code",
   "execution_count": null,
   "metadata": {},
   "outputs": [],
   "source": [
    "def rangeMess():\n",
    "    def printNest(iterable):\n",
    "        for i in iterable:\n",
    "            for j in iterable:\n",
    "                print(\"i = {0}, j = {1}.\".format(i,j))\n",
    "    \n",
    "    a = range(0,10)\n",
    "    b = NewRange(0,10)\n",
    "    c = SimpleRange(0,10)\n",
    "    print(\"built-in range:\")\n",
    "    printNest(a)\n",
    "    print(\"NewRange:\")\n",
    "    printNest(b)\n",
    "    print(\"SimpleRange:\")\n",
    "    printNest(c)"
   ]
  },
  {
   "cell_type": "markdown",
   "metadata": {},
   "source": [
    "4 - If you play with *IterableDNA*, you'll notice it has the behavior of *SimpleRange*: You can't nest iteration. Fix it."
   ]
  },
  {
   "cell_type": "code",
   "execution_count": null,
   "metadata": {},
   "outputs": [],
   "source": [
    "class BetterIterableDNA:\n",
    "    pass    "
   ]
  },
  {
   "cell_type": "markdown",
   "metadata": {},
   "source": [
    "5 - Implement a *deque* class.\n",
    "(See Chapter 12, *circles*() for a brief discussion of deques.)\n",
    "\n",
    "It should support these operations:"
   ]
  },
  {
   "cell_type": "code",
   "execution_count": null,
   "metadata": {},
   "outputs": [],
   "source": [
    "#pushLeft(thing) :: appends thing to the left end of the deque.\n",
    "#popLeft()       :: removes the leftmost item from the deque.\n",
    "#peekLeft()      :: returns the leftmost item from the deque.\n",
    "\n",
    "#and their corresponding right-side methods.\n",
    "\n",
    "class Deque:\n",
    "    pass\n",
    "\n",
    "#I have provided this test method for your use:\n",
    "def testDeque():\n",
    "    def checkEqual(a,b):\n",
    "        if (a != b):\n",
    "            raise Exception(\"unequal: {0}, {1}\".format(a,b))\n",
    "    def checkBroken(op):\n",
    "        \"\"\"Tries to run op (which should be a zero-argument function). If op raises\n",
    "    an exception, this catches it and returns gracefully. If op does *not* raise\n",
    "    an exception, this raises its own to indicate that the code did not fail.\"\"\"\n",
    "        try:\n",
    "            op()\n",
    "        except(Exception):\n",
    "            print(\"Error occured as expected.\")\n",
    "            return\n",
    "        raise Exception(\"Code did not indicate an error.\")\n",
    "                                    # D1            D2\n",
    "    d1 = Deque()                    # <>\n",
    "    d1.pushLeft(1)                  # <1>\n",
    "    d1.pushRight(2)                 # <1, 2>\n",
    "    checkEqual(d1.peekLeft(), 1)    # <1, 2>\n",
    "    checkEqual(d1.peekLeft(), 1)    # <1, 2>\n",
    "    d1.popLeft()                    # <2>\n",
    "    checkEqual(d1.peekLeft(), 2)    # <2>\n",
    "    #Can the class support being emptied?\n",
    "    d1.popRight()                   # <>\n",
    "    #Does the class support strange objects being inserted?\n",
    "    d1.pushRight((3,4))             # <(3,4)>\n",
    "    d1.pushLeft(\"aoeu\")             # <\"aoeu\", (3,4)>\n",
    "    checkEqual(d1.peekRight(), (3,4))#<\"aoeu\", (3,4)>\n",
    "    d2 = Deque()                    #  '            <>\n",
    "    d2.pushLeft(2)                  #  '            <2>\n",
    "    #Are multiple objects truly independent?\n",
    "    checkEqual(d2.peekRight(), 2)   #  '            <2>\n",
    "    d1.popLeft()                    #  <(3,4)>      <2>\n",
    "    d1.popLeft()                    #  <>           <2>\n",
    "    #Beat up the class a bit...\n",
    "    for i in range(10000):\n",
    "        d1.pushLeft(i)              # <10000, 9999, ... 1, 0>\n",
    "    for i in range(5000):\n",
    "        d1.popRight()               #<10000, 9999, ... 5001, 5000>\n",
    "    checkEqual(d1.peekRight(), 5000)\n",
    "\n",
    "    d3 = Deque()\n",
    "    #Does it indicate a problem if I try to remove or read from an empty deque?\n",
    "    checkBroken(lambda:d3.popRight())\n",
    "    checkBroken(lambda:d3.peekLeft())\n",
    "    #Does the deque still work correctly after I try to manipulate it when\n",
    "    #empty?\n",
    "    d3.pushLeft(1)\n",
    "    checkEqual(d3.peekRight(),1)"
   ]
  },
  {
   "cell_type": "markdown",
   "metadata": {},
   "source": [
    "6 - Make your deque class iterable. The iteration should start at the left and yield all the elements, just like for a list. \n",
    "\n",
    "Iterating should NOT destroy the deque being used. That is, after I iterate it, I should be able to push\n",
    "and pop and peek just as before and all the values must be the same."
   ]
  },
  {
   "cell_type": "code",
   "execution_count": null,
   "metadata": {},
   "outputs": [],
   "source": [
    "# As an example, the following __next__() would violate this requirement:\n",
    "#def __next__(self):\n",
    "#    if(self._isEmpty()):\n",
    "#         raise StopIteration\n",
    "#    self.popLeft()\n",
    "#    return self.peekLeft()\n",
    "#(Assuming, of course, that self refers to the original deque)"
   ]
  },
  {
   "cell_type": "markdown",
   "metadata": {},
   "source": [
    "(If you implemented your deque well, this should not be hard!) Note: You may assume that the deque is not modified during the iteration, so, for example, the behavior of the following code is undefined, and will not be tested:"
   ]
  },
  {
   "cell_type": "code",
   "execution_count": null,
   "metadata": {},
   "outputs": [],
   "source": [
    "#   for elem in deq:\n",
    "#       deq.popRight() #Undefined behavior: Deque is modified during iteration.\n",
    "#       print(elem)\n",
    "#       elem = elem+1  #Also undefined: I'm trying to modify the elements."
   ]
  },
  {
   "cell_type": "markdown",
   "metadata": {},
   "source": [
    "You can assume that the iterator will not be nested; if it works like *SimpleRange*, that's okay."
   ]
  },
  {
   "cell_type": "code",
   "execution_count": null,
   "metadata": {},
   "outputs": [],
   "source": [
    "class IterableDeque(Deque):\n",
    "    pass"
   ]
  },
  {
   "cell_type": "markdown",
   "metadata": {},
   "source": [
    "7 - Write a method to stress-test your deque, like the tests above."
   ]
  },
  {
   "cell_type": "code",
   "execution_count": null,
   "metadata": {},
   "outputs": [],
   "source": [
    "def testIterableDeque():\n",
    "    pass"
   ]
  },
  {
   "cell_type": "code",
   "execution_count": null,
   "metadata": {},
   "outputs": [],
   "source": []
  }
 ],
 "metadata": {
  "kernelspec": {
   "display_name": "Python 3",
   "language": "python",
   "name": "python3"
  },
  "language_info": {
   "codemirror_mode": {
    "name": "ipython",
    "version": 3
   },
   "file_extension": ".py",
   "mimetype": "text/x-python",
   "name": "python",
   "nbconvert_exporter": "python",
   "pygments_lexer": "ipython3",
   "version": "3.5.5"
  }
 },
 "nbformat": 4,
 "nbformat_minor": 2
}
